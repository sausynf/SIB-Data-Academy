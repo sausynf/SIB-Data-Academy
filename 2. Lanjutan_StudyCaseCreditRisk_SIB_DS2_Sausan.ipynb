{
  "nbformat": 4,
  "nbformat_minor": 0,
  "metadata": {
    "colab": {
      "provenance": []
    },
    "kernelspec": {
      "name": "python3",
      "display_name": "Python 3"
    },
    "language_info": {
      "name": "python"
    }
  },
  "cells": [
    {
      "cell_type": "markdown",
      "source": [
        "Nama : Sausan<br>\n",
        "Grup : DS2"
      ],
      "metadata": {
        "id": "NZPoHEU52vX8"
      }
    },
    {
      "cell_type": "markdown",
      "source": [
        "Link: https://colab.research.google.com/drive/1iTu5C3V7-Gd2NJfCRHt6zLYIyRTm6ICv?usp=sharing\n",
        "\n",
        "##Day 2\n",
        "\n",
        "Rabu, 11 Oktober 2023"
      ],
      "metadata": {
        "id": "4baDiP2O2xWH"
      }
    },
    {
      "cell_type": "markdown",
      "source": [
        "#Study Case Credit Risk Analysis\n"
      ],
      "metadata": {
        "id": "yc7nskdpumz4"
      }
    },
    {
      "cell_type": "code",
      "execution_count": 56,
      "metadata": {
        "id": "LlxVRZlst70b"
      },
      "outputs": [],
      "source": [
        "#import library\n",
        "import pandas as pd\n",
        "import numpy as np\n",
        "import matplotlib.pyplot as plt\n",
        "import seaborn as sns"
      ]
    },
    {
      "cell_type": "code",
      "source": [
        "#koneksi dari COLAB ke Gdrive\n",
        "\n",
        "from google.colab import drive\n",
        "drive.mount('/content/drive')"
      ],
      "metadata": {
        "colab": {
          "base_uri": "https://localhost:8080/"
        },
        "id": "ElmW880dt-UJ",
        "outputId": "a308393c-cd58-4f80-fd8d-2dd70a44bedf"
      },
      "execution_count": 57,
      "outputs": [
        {
          "output_type": "stream",
          "name": "stdout",
          "text": [
            "Drive already mounted at /content/drive; to attempt to forcibly remount, call drive.mount(\"/content/drive\", force_remount=True).\n"
          ]
        }
      ]
    },
    {
      "cell_type": "code",
      "source": [
        "#load data to colab\n",
        "path= '/content/drive/MyDrive/DataSource/credit_risk_1.csv'\n",
        "\n",
        "load_data=pd.read_csv(path)\n",
        "load_data"
      ],
      "metadata": {
        "id": "l4zBpA-PuAaF",
        "colab": {
          "base_uri": "https://localhost:8080/",
          "height": 461
        },
        "outputId": "d592fa64-b21a-4966-9f00-e85b15a20aff"
      },
      "execution_count": 58,
      "outputs": [
        {
          "output_type": "execute_result",
          "data": {
            "text/plain": [
              "     Unnamed: 0  age  ed  employ  address  income  debtinc   creddebt  \\\n",
              "0             0   41   3      17       12     176      9.3  11.359392   \n",
              "1             1   27   1      10        6      31     17.3   1.362202   \n",
              "2             2   40   1      15       14      55      5.5   0.856075   \n",
              "3             3   41   1      15       14     120      2.9   2.658720   \n",
              "4             4   24   2       2        0      28     17.3   1.787436   \n",
              "..          ...  ...  ..     ...      ...     ...      ...        ...   \n",
              "695         695   36   2       6       15      27      4.6   0.262062   \n",
              "696         696   29   2       6        4      21     11.5   0.369495   \n",
              "697         697   33   1      15        3      32      7.6   0.491264   \n",
              "698         698   45   1      19       22      77      8.4   2.302608   \n",
              "699         699   37   1      12       14      44     14.7   2.994684   \n",
              "\n",
              "      othdebt  default  \n",
              "0    5.008608      1.0  \n",
              "1    4.000798      0.0  \n",
              "2    2.168925      0.0  \n",
              "3    0.821280      0.0  \n",
              "4    3.056564      1.0  \n",
              "..        ...      ...  \n",
              "695  0.979938      1.0  \n",
              "696  2.045505      0.0  \n",
              "697  1.940736      0.0  \n",
              "698  4.165392      0.0  \n",
              "699  3.473316      0.0  \n",
              "\n",
              "[700 rows x 10 columns]"
            ],
            "text/html": [
              "\n",
              "  <div id=\"df-8ee93848-226b-48d7-b514-4a2e38e5be78\" class=\"colab-df-container\">\n",
              "    <div>\n",
              "<style scoped>\n",
              "    .dataframe tbody tr th:only-of-type {\n",
              "        vertical-align: middle;\n",
              "    }\n",
              "\n",
              "    .dataframe tbody tr th {\n",
              "        vertical-align: top;\n",
              "    }\n",
              "\n",
              "    .dataframe thead th {\n",
              "        text-align: right;\n",
              "    }\n",
              "</style>\n",
              "<table border=\"1\" class=\"dataframe\">\n",
              "  <thead>\n",
              "    <tr style=\"text-align: right;\">\n",
              "      <th></th>\n",
              "      <th>Unnamed: 0</th>\n",
              "      <th>age</th>\n",
              "      <th>ed</th>\n",
              "      <th>employ</th>\n",
              "      <th>address</th>\n",
              "      <th>income</th>\n",
              "      <th>debtinc</th>\n",
              "      <th>creddebt</th>\n",
              "      <th>othdebt</th>\n",
              "      <th>default</th>\n",
              "    </tr>\n",
              "  </thead>\n",
              "  <tbody>\n",
              "    <tr>\n",
              "      <th>0</th>\n",
              "      <td>0</td>\n",
              "      <td>41</td>\n",
              "      <td>3</td>\n",
              "      <td>17</td>\n",
              "      <td>12</td>\n",
              "      <td>176</td>\n",
              "      <td>9.3</td>\n",
              "      <td>11.359392</td>\n",
              "      <td>5.008608</td>\n",
              "      <td>1.0</td>\n",
              "    </tr>\n",
              "    <tr>\n",
              "      <th>1</th>\n",
              "      <td>1</td>\n",
              "      <td>27</td>\n",
              "      <td>1</td>\n",
              "      <td>10</td>\n",
              "      <td>6</td>\n",
              "      <td>31</td>\n",
              "      <td>17.3</td>\n",
              "      <td>1.362202</td>\n",
              "      <td>4.000798</td>\n",
              "      <td>0.0</td>\n",
              "    </tr>\n",
              "    <tr>\n",
              "      <th>2</th>\n",
              "      <td>2</td>\n",
              "      <td>40</td>\n",
              "      <td>1</td>\n",
              "      <td>15</td>\n",
              "      <td>14</td>\n",
              "      <td>55</td>\n",
              "      <td>5.5</td>\n",
              "      <td>0.856075</td>\n",
              "      <td>2.168925</td>\n",
              "      <td>0.0</td>\n",
              "    </tr>\n",
              "    <tr>\n",
              "      <th>3</th>\n",
              "      <td>3</td>\n",
              "      <td>41</td>\n",
              "      <td>1</td>\n",
              "      <td>15</td>\n",
              "      <td>14</td>\n",
              "      <td>120</td>\n",
              "      <td>2.9</td>\n",
              "      <td>2.658720</td>\n",
              "      <td>0.821280</td>\n",
              "      <td>0.0</td>\n",
              "    </tr>\n",
              "    <tr>\n",
              "      <th>4</th>\n",
              "      <td>4</td>\n",
              "      <td>24</td>\n",
              "      <td>2</td>\n",
              "      <td>2</td>\n",
              "      <td>0</td>\n",
              "      <td>28</td>\n",
              "      <td>17.3</td>\n",
              "      <td>1.787436</td>\n",
              "      <td>3.056564</td>\n",
              "      <td>1.0</td>\n",
              "    </tr>\n",
              "    <tr>\n",
              "      <th>...</th>\n",
              "      <td>...</td>\n",
              "      <td>...</td>\n",
              "      <td>...</td>\n",
              "      <td>...</td>\n",
              "      <td>...</td>\n",
              "      <td>...</td>\n",
              "      <td>...</td>\n",
              "      <td>...</td>\n",
              "      <td>...</td>\n",
              "      <td>...</td>\n",
              "    </tr>\n",
              "    <tr>\n",
              "      <th>695</th>\n",
              "      <td>695</td>\n",
              "      <td>36</td>\n",
              "      <td>2</td>\n",
              "      <td>6</td>\n",
              "      <td>15</td>\n",
              "      <td>27</td>\n",
              "      <td>4.6</td>\n",
              "      <td>0.262062</td>\n",
              "      <td>0.979938</td>\n",
              "      <td>1.0</td>\n",
              "    </tr>\n",
              "    <tr>\n",
              "      <th>696</th>\n",
              "      <td>696</td>\n",
              "      <td>29</td>\n",
              "      <td>2</td>\n",
              "      <td>6</td>\n",
              "      <td>4</td>\n",
              "      <td>21</td>\n",
              "      <td>11.5</td>\n",
              "      <td>0.369495</td>\n",
              "      <td>2.045505</td>\n",
              "      <td>0.0</td>\n",
              "    </tr>\n",
              "    <tr>\n",
              "      <th>697</th>\n",
              "      <td>697</td>\n",
              "      <td>33</td>\n",
              "      <td>1</td>\n",
              "      <td>15</td>\n",
              "      <td>3</td>\n",
              "      <td>32</td>\n",
              "      <td>7.6</td>\n",
              "      <td>0.491264</td>\n",
              "      <td>1.940736</td>\n",
              "      <td>0.0</td>\n",
              "    </tr>\n",
              "    <tr>\n",
              "      <th>698</th>\n",
              "      <td>698</td>\n",
              "      <td>45</td>\n",
              "      <td>1</td>\n",
              "      <td>19</td>\n",
              "      <td>22</td>\n",
              "      <td>77</td>\n",
              "      <td>8.4</td>\n",
              "      <td>2.302608</td>\n",
              "      <td>4.165392</td>\n",
              "      <td>0.0</td>\n",
              "    </tr>\n",
              "    <tr>\n",
              "      <th>699</th>\n",
              "      <td>699</td>\n",
              "      <td>37</td>\n",
              "      <td>1</td>\n",
              "      <td>12</td>\n",
              "      <td>14</td>\n",
              "      <td>44</td>\n",
              "      <td>14.7</td>\n",
              "      <td>2.994684</td>\n",
              "      <td>3.473316</td>\n",
              "      <td>0.0</td>\n",
              "    </tr>\n",
              "  </tbody>\n",
              "</table>\n",
              "<p>700 rows × 10 columns</p>\n",
              "</div>\n",
              "    <div class=\"colab-df-buttons\">\n",
              "\n",
              "  <div class=\"colab-df-container\">\n",
              "    <button class=\"colab-df-convert\" onclick=\"convertToInteractive('df-8ee93848-226b-48d7-b514-4a2e38e5be78')\"\n",
              "            title=\"Convert this dataframe to an interactive table.\"\n",
              "            style=\"display:none;\">\n",
              "\n",
              "  <svg xmlns=\"http://www.w3.org/2000/svg\" height=\"24px\" viewBox=\"0 -960 960 960\">\n",
              "    <path d=\"M120-120v-720h720v720H120Zm60-500h600v-160H180v160Zm220 220h160v-160H400v160Zm0 220h160v-160H400v160ZM180-400h160v-160H180v160Zm440 0h160v-160H620v160ZM180-180h160v-160H180v160Zm440 0h160v-160H620v160Z\"/>\n",
              "  </svg>\n",
              "    </button>\n",
              "\n",
              "  <style>\n",
              "    .colab-df-container {\n",
              "      display:flex;\n",
              "      gap: 12px;\n",
              "    }\n",
              "\n",
              "    .colab-df-convert {\n",
              "      background-color: #E8F0FE;\n",
              "      border: none;\n",
              "      border-radius: 50%;\n",
              "      cursor: pointer;\n",
              "      display: none;\n",
              "      fill: #1967D2;\n",
              "      height: 32px;\n",
              "      padding: 0 0 0 0;\n",
              "      width: 32px;\n",
              "    }\n",
              "\n",
              "    .colab-df-convert:hover {\n",
              "      background-color: #E2EBFA;\n",
              "      box-shadow: 0px 1px 2px rgba(60, 64, 67, 0.3), 0px 1px 3px 1px rgba(60, 64, 67, 0.15);\n",
              "      fill: #174EA6;\n",
              "    }\n",
              "\n",
              "    .colab-df-buttons div {\n",
              "      margin-bottom: 4px;\n",
              "    }\n",
              "\n",
              "    [theme=dark] .colab-df-convert {\n",
              "      background-color: #3B4455;\n",
              "      fill: #D2E3FC;\n",
              "    }\n",
              "\n",
              "    [theme=dark] .colab-df-convert:hover {\n",
              "      background-color: #434B5C;\n",
              "      box-shadow: 0px 1px 3px 1px rgba(0, 0, 0, 0.15);\n",
              "      filter: drop-shadow(0px 1px 2px rgba(0, 0, 0, 0.3));\n",
              "      fill: #FFFFFF;\n",
              "    }\n",
              "  </style>\n",
              "\n",
              "    <script>\n",
              "      const buttonEl =\n",
              "        document.querySelector('#df-8ee93848-226b-48d7-b514-4a2e38e5be78 button.colab-df-convert');\n",
              "      buttonEl.style.display =\n",
              "        google.colab.kernel.accessAllowed ? 'block' : 'none';\n",
              "\n",
              "      async function convertToInteractive(key) {\n",
              "        const element = document.querySelector('#df-8ee93848-226b-48d7-b514-4a2e38e5be78');\n",
              "        const dataTable =\n",
              "          await google.colab.kernel.invokeFunction('convertToInteractive',\n",
              "                                                    [key], {});\n",
              "        if (!dataTable) return;\n",
              "\n",
              "        const docLinkHtml = 'Like what you see? Visit the ' +\n",
              "          '<a target=\"_blank\" href=https://colab.research.google.com/notebooks/data_table.ipynb>data table notebook</a>'\n",
              "          + ' to learn more about interactive tables.';\n",
              "        element.innerHTML = '';\n",
              "        dataTable['output_type'] = 'display_data';\n",
              "        await google.colab.output.renderOutput(dataTable, element);\n",
              "        const docLink = document.createElement('div');\n",
              "        docLink.innerHTML = docLinkHtml;\n",
              "        element.appendChild(docLink);\n",
              "      }\n",
              "    </script>\n",
              "  </div>\n",
              "\n",
              "\n",
              "<div id=\"df-b590a62e-8c95-4a85-9564-bda17a9969ab\">\n",
              "  <button class=\"colab-df-quickchart\" onclick=\"quickchart('df-b590a62e-8c95-4a85-9564-bda17a9969ab')\"\n",
              "            title=\"Suggest charts.\"\n",
              "            style=\"display:none;\">\n",
              "\n",
              "<svg xmlns=\"http://www.w3.org/2000/svg\" height=\"24px\"viewBox=\"0 0 24 24\"\n",
              "     width=\"24px\">\n",
              "    <g>\n",
              "        <path d=\"M19 3H5c-1.1 0-2 .9-2 2v14c0 1.1.9 2 2 2h14c1.1 0 2-.9 2-2V5c0-1.1-.9-2-2-2zM9 17H7v-7h2v7zm4 0h-2V7h2v10zm4 0h-2v-4h2v4z\"/>\n",
              "    </g>\n",
              "</svg>\n",
              "  </button>\n",
              "\n",
              "<style>\n",
              "  .colab-df-quickchart {\n",
              "      --bg-color: #E8F0FE;\n",
              "      --fill-color: #1967D2;\n",
              "      --hover-bg-color: #E2EBFA;\n",
              "      --hover-fill-color: #174EA6;\n",
              "      --disabled-fill-color: #AAA;\n",
              "      --disabled-bg-color: #DDD;\n",
              "  }\n",
              "\n",
              "  [theme=dark] .colab-df-quickchart {\n",
              "      --bg-color: #3B4455;\n",
              "      --fill-color: #D2E3FC;\n",
              "      --hover-bg-color: #434B5C;\n",
              "      --hover-fill-color: #FFFFFF;\n",
              "      --disabled-bg-color: #3B4455;\n",
              "      --disabled-fill-color: #666;\n",
              "  }\n",
              "\n",
              "  .colab-df-quickchart {\n",
              "    background-color: var(--bg-color);\n",
              "    border: none;\n",
              "    border-radius: 50%;\n",
              "    cursor: pointer;\n",
              "    display: none;\n",
              "    fill: var(--fill-color);\n",
              "    height: 32px;\n",
              "    padding: 0;\n",
              "    width: 32px;\n",
              "  }\n",
              "\n",
              "  .colab-df-quickchart:hover {\n",
              "    background-color: var(--hover-bg-color);\n",
              "    box-shadow: 0 1px 2px rgba(60, 64, 67, 0.3), 0 1px 3px 1px rgba(60, 64, 67, 0.15);\n",
              "    fill: var(--button-hover-fill-color);\n",
              "  }\n",
              "\n",
              "  .colab-df-quickchart-complete:disabled,\n",
              "  .colab-df-quickchart-complete:disabled:hover {\n",
              "    background-color: var(--disabled-bg-color);\n",
              "    fill: var(--disabled-fill-color);\n",
              "    box-shadow: none;\n",
              "  }\n",
              "\n",
              "  .colab-df-spinner {\n",
              "    border: 2px solid var(--fill-color);\n",
              "    border-color: transparent;\n",
              "    border-bottom-color: var(--fill-color);\n",
              "    animation:\n",
              "      spin 1s steps(1) infinite;\n",
              "  }\n",
              "\n",
              "  @keyframes spin {\n",
              "    0% {\n",
              "      border-color: transparent;\n",
              "      border-bottom-color: var(--fill-color);\n",
              "      border-left-color: var(--fill-color);\n",
              "    }\n",
              "    20% {\n",
              "      border-color: transparent;\n",
              "      border-left-color: var(--fill-color);\n",
              "      border-top-color: var(--fill-color);\n",
              "    }\n",
              "    30% {\n",
              "      border-color: transparent;\n",
              "      border-left-color: var(--fill-color);\n",
              "      border-top-color: var(--fill-color);\n",
              "      border-right-color: var(--fill-color);\n",
              "    }\n",
              "    40% {\n",
              "      border-color: transparent;\n",
              "      border-right-color: var(--fill-color);\n",
              "      border-top-color: var(--fill-color);\n",
              "    }\n",
              "    60% {\n",
              "      border-color: transparent;\n",
              "      border-right-color: var(--fill-color);\n",
              "    }\n",
              "    80% {\n",
              "      border-color: transparent;\n",
              "      border-right-color: var(--fill-color);\n",
              "      border-bottom-color: var(--fill-color);\n",
              "    }\n",
              "    90% {\n",
              "      border-color: transparent;\n",
              "      border-bottom-color: var(--fill-color);\n",
              "    }\n",
              "  }\n",
              "</style>\n",
              "\n",
              "  <script>\n",
              "    async function quickchart(key) {\n",
              "      const quickchartButtonEl =\n",
              "        document.querySelector('#' + key + ' button');\n",
              "      quickchartButtonEl.disabled = true;  // To prevent multiple clicks.\n",
              "      quickchartButtonEl.classList.add('colab-df-spinner');\n",
              "      try {\n",
              "        const charts = await google.colab.kernel.invokeFunction(\n",
              "            'suggestCharts', [key], {});\n",
              "      } catch (error) {\n",
              "        console.error('Error during call to suggestCharts:', error);\n",
              "      }\n",
              "      quickchartButtonEl.classList.remove('colab-df-spinner');\n",
              "      quickchartButtonEl.classList.add('colab-df-quickchart-complete');\n",
              "    }\n",
              "    (() => {\n",
              "      let quickchartButtonEl =\n",
              "        document.querySelector('#df-b590a62e-8c95-4a85-9564-bda17a9969ab button');\n",
              "      quickchartButtonEl.style.display =\n",
              "        google.colab.kernel.accessAllowed ? 'block' : 'none';\n",
              "    })();\n",
              "  </script>\n",
              "</div>\n",
              "    </div>\n",
              "  </div>\n"
            ]
          },
          "metadata": {},
          "execution_count": 58
        }
      ]
    },
    {
      "cell_type": "code",
      "source": [
        "#membuat data frame\n",
        "df=pd.DataFrame(load_data)\n",
        "df.tail()"
      ],
      "metadata": {
        "colab": {
          "base_uri": "https://localhost:8080/",
          "height": 243
        },
        "id": "SP5mYeyi39QZ",
        "outputId": "08f86b55-31d7-450b-f9e3-d15f2d624266"
      },
      "execution_count": 59,
      "outputs": [
        {
          "output_type": "execute_result",
          "data": {
            "text/plain": [
              "     Unnamed: 0  age  ed  employ  address  income  debtinc  creddebt  \\\n",
              "695         695   36   2       6       15      27      4.6  0.262062   \n",
              "696         696   29   2       6        4      21     11.5  0.369495   \n",
              "697         697   33   1      15        3      32      7.6  0.491264   \n",
              "698         698   45   1      19       22      77      8.4  2.302608   \n",
              "699         699   37   1      12       14      44     14.7  2.994684   \n",
              "\n",
              "      othdebt  default  \n",
              "695  0.979938      1.0  \n",
              "696  2.045505      0.0  \n",
              "697  1.940736      0.0  \n",
              "698  4.165392      0.0  \n",
              "699  3.473316      0.0  "
            ],
            "text/html": [
              "\n",
              "  <div id=\"df-d2ee5b10-7333-4183-b1a7-9be4dd47b91b\" class=\"colab-df-container\">\n",
              "    <div>\n",
              "<style scoped>\n",
              "    .dataframe tbody tr th:only-of-type {\n",
              "        vertical-align: middle;\n",
              "    }\n",
              "\n",
              "    .dataframe tbody tr th {\n",
              "        vertical-align: top;\n",
              "    }\n",
              "\n",
              "    .dataframe thead th {\n",
              "        text-align: right;\n",
              "    }\n",
              "</style>\n",
              "<table border=\"1\" class=\"dataframe\">\n",
              "  <thead>\n",
              "    <tr style=\"text-align: right;\">\n",
              "      <th></th>\n",
              "      <th>Unnamed: 0</th>\n",
              "      <th>age</th>\n",
              "      <th>ed</th>\n",
              "      <th>employ</th>\n",
              "      <th>address</th>\n",
              "      <th>income</th>\n",
              "      <th>debtinc</th>\n",
              "      <th>creddebt</th>\n",
              "      <th>othdebt</th>\n",
              "      <th>default</th>\n",
              "    </tr>\n",
              "  </thead>\n",
              "  <tbody>\n",
              "    <tr>\n",
              "      <th>695</th>\n",
              "      <td>695</td>\n",
              "      <td>36</td>\n",
              "      <td>2</td>\n",
              "      <td>6</td>\n",
              "      <td>15</td>\n",
              "      <td>27</td>\n",
              "      <td>4.6</td>\n",
              "      <td>0.262062</td>\n",
              "      <td>0.979938</td>\n",
              "      <td>1.0</td>\n",
              "    </tr>\n",
              "    <tr>\n",
              "      <th>696</th>\n",
              "      <td>696</td>\n",
              "      <td>29</td>\n",
              "      <td>2</td>\n",
              "      <td>6</td>\n",
              "      <td>4</td>\n",
              "      <td>21</td>\n",
              "      <td>11.5</td>\n",
              "      <td>0.369495</td>\n",
              "      <td>2.045505</td>\n",
              "      <td>0.0</td>\n",
              "    </tr>\n",
              "    <tr>\n",
              "      <th>697</th>\n",
              "      <td>697</td>\n",
              "      <td>33</td>\n",
              "      <td>1</td>\n",
              "      <td>15</td>\n",
              "      <td>3</td>\n",
              "      <td>32</td>\n",
              "      <td>7.6</td>\n",
              "      <td>0.491264</td>\n",
              "      <td>1.940736</td>\n",
              "      <td>0.0</td>\n",
              "    </tr>\n",
              "    <tr>\n",
              "      <th>698</th>\n",
              "      <td>698</td>\n",
              "      <td>45</td>\n",
              "      <td>1</td>\n",
              "      <td>19</td>\n",
              "      <td>22</td>\n",
              "      <td>77</td>\n",
              "      <td>8.4</td>\n",
              "      <td>2.302608</td>\n",
              "      <td>4.165392</td>\n",
              "      <td>0.0</td>\n",
              "    </tr>\n",
              "    <tr>\n",
              "      <th>699</th>\n",
              "      <td>699</td>\n",
              "      <td>37</td>\n",
              "      <td>1</td>\n",
              "      <td>12</td>\n",
              "      <td>14</td>\n",
              "      <td>44</td>\n",
              "      <td>14.7</td>\n",
              "      <td>2.994684</td>\n",
              "      <td>3.473316</td>\n",
              "      <td>0.0</td>\n",
              "    </tr>\n",
              "  </tbody>\n",
              "</table>\n",
              "</div>\n",
              "    <div class=\"colab-df-buttons\">\n",
              "\n",
              "  <div class=\"colab-df-container\">\n",
              "    <button class=\"colab-df-convert\" onclick=\"convertToInteractive('df-d2ee5b10-7333-4183-b1a7-9be4dd47b91b')\"\n",
              "            title=\"Convert this dataframe to an interactive table.\"\n",
              "            style=\"display:none;\">\n",
              "\n",
              "  <svg xmlns=\"http://www.w3.org/2000/svg\" height=\"24px\" viewBox=\"0 -960 960 960\">\n",
              "    <path d=\"M120-120v-720h720v720H120Zm60-500h600v-160H180v160Zm220 220h160v-160H400v160Zm0 220h160v-160H400v160ZM180-400h160v-160H180v160Zm440 0h160v-160H620v160ZM180-180h160v-160H180v160Zm440 0h160v-160H620v160Z\"/>\n",
              "  </svg>\n",
              "    </button>\n",
              "\n",
              "  <style>\n",
              "    .colab-df-container {\n",
              "      display:flex;\n",
              "      gap: 12px;\n",
              "    }\n",
              "\n",
              "    .colab-df-convert {\n",
              "      background-color: #E8F0FE;\n",
              "      border: none;\n",
              "      border-radius: 50%;\n",
              "      cursor: pointer;\n",
              "      display: none;\n",
              "      fill: #1967D2;\n",
              "      height: 32px;\n",
              "      padding: 0 0 0 0;\n",
              "      width: 32px;\n",
              "    }\n",
              "\n",
              "    .colab-df-convert:hover {\n",
              "      background-color: #E2EBFA;\n",
              "      box-shadow: 0px 1px 2px rgba(60, 64, 67, 0.3), 0px 1px 3px 1px rgba(60, 64, 67, 0.15);\n",
              "      fill: #174EA6;\n",
              "    }\n",
              "\n",
              "    .colab-df-buttons div {\n",
              "      margin-bottom: 4px;\n",
              "    }\n",
              "\n",
              "    [theme=dark] .colab-df-convert {\n",
              "      background-color: #3B4455;\n",
              "      fill: #D2E3FC;\n",
              "    }\n",
              "\n",
              "    [theme=dark] .colab-df-convert:hover {\n",
              "      background-color: #434B5C;\n",
              "      box-shadow: 0px 1px 3px 1px rgba(0, 0, 0, 0.15);\n",
              "      filter: drop-shadow(0px 1px 2px rgba(0, 0, 0, 0.3));\n",
              "      fill: #FFFFFF;\n",
              "    }\n",
              "  </style>\n",
              "\n",
              "    <script>\n",
              "      const buttonEl =\n",
              "        document.querySelector('#df-d2ee5b10-7333-4183-b1a7-9be4dd47b91b button.colab-df-convert');\n",
              "      buttonEl.style.display =\n",
              "        google.colab.kernel.accessAllowed ? 'block' : 'none';\n",
              "\n",
              "      async function convertToInteractive(key) {\n",
              "        const element = document.querySelector('#df-d2ee5b10-7333-4183-b1a7-9be4dd47b91b');\n",
              "        const dataTable =\n",
              "          await google.colab.kernel.invokeFunction('convertToInteractive',\n",
              "                                                    [key], {});\n",
              "        if (!dataTable) return;\n",
              "\n",
              "        const docLinkHtml = 'Like what you see? Visit the ' +\n",
              "          '<a target=\"_blank\" href=https://colab.research.google.com/notebooks/data_table.ipynb>data table notebook</a>'\n",
              "          + ' to learn more about interactive tables.';\n",
              "        element.innerHTML = '';\n",
              "        dataTable['output_type'] = 'display_data';\n",
              "        await google.colab.output.renderOutput(dataTable, element);\n",
              "        const docLink = document.createElement('div');\n",
              "        docLink.innerHTML = docLinkHtml;\n",
              "        element.appendChild(docLink);\n",
              "      }\n",
              "    </script>\n",
              "  </div>\n",
              "\n",
              "\n",
              "<div id=\"df-c33c709e-6296-42b3-8a4b-f79ae8b5ff0e\">\n",
              "  <button class=\"colab-df-quickchart\" onclick=\"quickchart('df-c33c709e-6296-42b3-8a4b-f79ae8b5ff0e')\"\n",
              "            title=\"Suggest charts.\"\n",
              "            style=\"display:none;\">\n",
              "\n",
              "<svg xmlns=\"http://www.w3.org/2000/svg\" height=\"24px\"viewBox=\"0 0 24 24\"\n",
              "     width=\"24px\">\n",
              "    <g>\n",
              "        <path d=\"M19 3H5c-1.1 0-2 .9-2 2v14c0 1.1.9 2 2 2h14c1.1 0 2-.9 2-2V5c0-1.1-.9-2-2-2zM9 17H7v-7h2v7zm4 0h-2V7h2v10zm4 0h-2v-4h2v4z\"/>\n",
              "    </g>\n",
              "</svg>\n",
              "  </button>\n",
              "\n",
              "<style>\n",
              "  .colab-df-quickchart {\n",
              "      --bg-color: #E8F0FE;\n",
              "      --fill-color: #1967D2;\n",
              "      --hover-bg-color: #E2EBFA;\n",
              "      --hover-fill-color: #174EA6;\n",
              "      --disabled-fill-color: #AAA;\n",
              "      --disabled-bg-color: #DDD;\n",
              "  }\n",
              "\n",
              "  [theme=dark] .colab-df-quickchart {\n",
              "      --bg-color: #3B4455;\n",
              "      --fill-color: #D2E3FC;\n",
              "      --hover-bg-color: #434B5C;\n",
              "      --hover-fill-color: #FFFFFF;\n",
              "      --disabled-bg-color: #3B4455;\n",
              "      --disabled-fill-color: #666;\n",
              "  }\n",
              "\n",
              "  .colab-df-quickchart {\n",
              "    background-color: var(--bg-color);\n",
              "    border: none;\n",
              "    border-radius: 50%;\n",
              "    cursor: pointer;\n",
              "    display: none;\n",
              "    fill: var(--fill-color);\n",
              "    height: 32px;\n",
              "    padding: 0;\n",
              "    width: 32px;\n",
              "  }\n",
              "\n",
              "  .colab-df-quickchart:hover {\n",
              "    background-color: var(--hover-bg-color);\n",
              "    box-shadow: 0 1px 2px rgba(60, 64, 67, 0.3), 0 1px 3px 1px rgba(60, 64, 67, 0.15);\n",
              "    fill: var(--button-hover-fill-color);\n",
              "  }\n",
              "\n",
              "  .colab-df-quickchart-complete:disabled,\n",
              "  .colab-df-quickchart-complete:disabled:hover {\n",
              "    background-color: var(--disabled-bg-color);\n",
              "    fill: var(--disabled-fill-color);\n",
              "    box-shadow: none;\n",
              "  }\n",
              "\n",
              "  .colab-df-spinner {\n",
              "    border: 2px solid var(--fill-color);\n",
              "    border-color: transparent;\n",
              "    border-bottom-color: var(--fill-color);\n",
              "    animation:\n",
              "      spin 1s steps(1) infinite;\n",
              "  }\n",
              "\n",
              "  @keyframes spin {\n",
              "    0% {\n",
              "      border-color: transparent;\n",
              "      border-bottom-color: var(--fill-color);\n",
              "      border-left-color: var(--fill-color);\n",
              "    }\n",
              "    20% {\n",
              "      border-color: transparent;\n",
              "      border-left-color: var(--fill-color);\n",
              "      border-top-color: var(--fill-color);\n",
              "    }\n",
              "    30% {\n",
              "      border-color: transparent;\n",
              "      border-left-color: var(--fill-color);\n",
              "      border-top-color: var(--fill-color);\n",
              "      border-right-color: var(--fill-color);\n",
              "    }\n",
              "    40% {\n",
              "      border-color: transparent;\n",
              "      border-right-color: var(--fill-color);\n",
              "      border-top-color: var(--fill-color);\n",
              "    }\n",
              "    60% {\n",
              "      border-color: transparent;\n",
              "      border-right-color: var(--fill-color);\n",
              "    }\n",
              "    80% {\n",
              "      border-color: transparent;\n",
              "      border-right-color: var(--fill-color);\n",
              "      border-bottom-color: var(--fill-color);\n",
              "    }\n",
              "    90% {\n",
              "      border-color: transparent;\n",
              "      border-bottom-color: var(--fill-color);\n",
              "    }\n",
              "  }\n",
              "</style>\n",
              "\n",
              "  <script>\n",
              "    async function quickchart(key) {\n",
              "      const quickchartButtonEl =\n",
              "        document.querySelector('#' + key + ' button');\n",
              "      quickchartButtonEl.disabled = true;  // To prevent multiple clicks.\n",
              "      quickchartButtonEl.classList.add('colab-df-spinner');\n",
              "      try {\n",
              "        const charts = await google.colab.kernel.invokeFunction(\n",
              "            'suggestCharts', [key], {});\n",
              "      } catch (error) {\n",
              "        console.error('Error during call to suggestCharts:', error);\n",
              "      }\n",
              "      quickchartButtonEl.classList.remove('colab-df-spinner');\n",
              "      quickchartButtonEl.classList.add('colab-df-quickchart-complete');\n",
              "    }\n",
              "    (() => {\n",
              "      let quickchartButtonEl =\n",
              "        document.querySelector('#df-c33c709e-6296-42b3-8a4b-f79ae8b5ff0e button');\n",
              "      quickchartButtonEl.style.display =\n",
              "        google.colab.kernel.accessAllowed ? 'block' : 'none';\n",
              "    })();\n",
              "  </script>\n",
              "</div>\n",
              "    </div>\n",
              "  </div>\n"
            ]
          },
          "metadata": {},
          "execution_count": 59
        }
      ]
    },
    {
      "cell_type": "markdown",
      "source": [
        "## Busines Understanding\n",
        "\n",
        "Salah satu bank terkemuka ingin memprediksi nasabah yang terindikasi kredit macet saat mengajukan pinjaman.\n",
        "\n",
        "Pemberi pinjaman biasanya membuat dua jenis keputusan: pertama, apakah akan memberikan kredit kepada pemohon baru, dan kedua, bagaimana menangani pemohon yang sudah ada, termasuk apakah akan meningkatkan batas kredit mereka. Dalam kedua kasus, apa pun teknik yang digunakan, sangat penting bahwa ada sampel besar pelanggan sebelumnya dengan detail aplikasi, pola perilaku, dan riwayat kredit berikutnya yang tersedia. Sebagian besar teknik menggunakan sampel ini untuk mengidentifikasi hubungan antara karakteristik konsumen (pendapatan tahunan, usia, jumlah tahun bekerja dengan pemberi kerja saat ini, dll.) Dan riwayat mereka selanjutnya.\n",
        "\n",
        "Area aplikasi khas di pasar konsumen meliputi: kartu kredit, pinjaman mobil, hipotek rumah, pinjaman ekuitas rumah, pesanan katalog surat, dan berbagai macam produk pinjaman pribadi.\n",
        "\n",
        "\n",
        "Goal:\n",
        "1. Prediksi Potensi Nasabah Gagal Bayar<br>\n",
        "Problem: Klasifikasi<br>\n",
        "Kemungkinan Algoritma:<br>\n",
        "a. Decision Tree <br>\n",
        "b. Random Forest <br>\n",
        "c. SVM <br>\n",
        "d. XGboost Tree Clasification <br>\n",
        "\n",
        "2. Predictive nilai kredit yang akan diberikan kepada nasabah lama (Old nasabah)\n",
        "Problem: Estimasi\n",
        "\n",
        "##Data Description\n",
        "\n",
        "There are 9 attributes containing 850 customer records followed by:\n",
        "\n",
        "age: Umur nasabah\n",
        "\n",
        "ed : Level pendidikan nasabah\n",
        "\n",
        "employ : Masa jabatan dengan pemberi kerja saat ini (dalam tahun)\n",
        "\n",
        "address : Jumlah tahun di alamat yang sama\n",
        "\n",
        "income : Pendapatan nasabah\n",
        "\n",
        "debtinc : Debt to income ratio (Rasio hutang terhadap pendapatan) Rasio hutang terhadap pendapatan adalah semua pembayaran hutang bulanan Anda dibagi dengan pendapatan kotor bulanan Anda. Angka ini adalah salah satu cara pemberi pinjaman mengukur kemampuan Anda untuk mengelola pembayaran bulanan untuk melunasi uang yang Anda rencanakan untuk dipinjam. Rasio hutang terhadap pendapatan Anda tidak secara langsung mempengaruhi nilai kredit Anda. Ini karena lembaga kredit tidak tahu berapa banyak uang yang Anda peroleh, sehingga mereka tidak dapat melakukan penghitungan\n",
        "\n",
        "creddebt : Credit to debt ratio (Rasio kredit terhadap utang) Menunjukkan bahwa persentase rasio hutang terhadap kredit yang baik di bawah 30%. Dan itu berlaku untuk rasio Anda pada salah satu kartu Anda secara terpisah serta untuk rasio keseluruhan Anda.\n",
        "\n",
        "othdebt : utang lainnya\n",
        "\n",
        "default : Label pelanggan gagal di masa lalu (1 = gagal , 0 = tidak pernah gagal) **variabel target**"
      ],
      "metadata": {
        "id": "Au8EgLG6tMYT"
      }
    },
    {
      "cell_type": "markdown",
      "source": [
        "##Study Case 1 : Prediksi Potensi Nasabah Gagal Bayar<br>\n",
        "Problem: Klasifikasi<br>\n",
        "Kemungkinan Algoritma:<br>\n",
        "a. Decision Tree <br>\n",
        "b. Random Forest <br>\n",
        "c. SVM <br>\n",
        "d. XGboost Tree Clasification <br>\n"
      ],
      "metadata": {
        "id": "6plo5htDsLB-"
      }
    },
    {
      "cell_type": "code",
      "source": [
        "#melihat info dataset\n",
        "df.info()"
      ],
      "metadata": {
        "colab": {
          "base_uri": "https://localhost:8080/"
        },
        "id": "UkE19qx_4Cj4",
        "outputId": "bfca838e-805b-4ffb-9504-024c03d5fb79"
      },
      "execution_count": 60,
      "outputs": [
        {
          "output_type": "stream",
          "name": "stdout",
          "text": [
            "<class 'pandas.core.frame.DataFrame'>\n",
            "RangeIndex: 700 entries, 0 to 699\n",
            "Data columns (total 10 columns):\n",
            " #   Column      Non-Null Count  Dtype  \n",
            "---  ------      --------------  -----  \n",
            " 0   Unnamed: 0  700 non-null    int64  \n",
            " 1   age         700 non-null    int64  \n",
            " 2   ed          700 non-null    int64  \n",
            " 3   employ      700 non-null    int64  \n",
            " 4   address     700 non-null    int64  \n",
            " 5   income      700 non-null    int64  \n",
            " 6   debtinc     700 non-null    float64\n",
            " 7   creddebt    700 non-null    float64\n",
            " 8   othdebt     700 non-null    float64\n",
            " 9   default     700 non-null    float64\n",
            "dtypes: float64(4), int64(6)\n",
            "memory usage: 54.8 KB\n"
          ]
        }
      ]
    },
    {
      "cell_type": "code",
      "source": [
        "df['ed'].value_counts()"
      ],
      "metadata": {
        "colab": {
          "base_uri": "https://localhost:8080/"
        },
        "id": "Qv3sszwM4Ied",
        "outputId": "a219d12b-bf01-4c24-c130-aa20849b778a"
      },
      "execution_count": 61,
      "outputs": [
        {
          "output_type": "execute_result",
          "data": {
            "text/plain": [
              "1    372\n",
              "2    198\n",
              "3     87\n",
              "4     38\n",
              "5      5\n",
              "Name: ed, dtype: int64"
            ]
          },
          "metadata": {},
          "execution_count": 61
        }
      ]
    },
    {
      "cell_type": "code",
      "source": [
        "df['age'].value_counts()"
      ],
      "metadata": {
        "colab": {
          "base_uri": "https://localhost:8080/"
        },
        "id": "UUBjIsIdYyyc",
        "outputId": "b7de950e-da9e-4dfd-da23-0e8170866cf9"
      },
      "execution_count": 62,
      "outputs": [
        {
          "output_type": "execute_result",
          "data": {
            "text/plain": [
              "29    44\n",
              "28    37\n",
              "39    37\n",
              "31    36\n",
              "41    34\n",
              "34    33\n",
              "36    29\n",
              "27    28\n",
              "40    27\n",
              "35    27\n",
              "32    25\n",
              "33    25\n",
              "30    24\n",
              "24    24\n",
              "38    23\n",
              "26    23\n",
              "37    22\n",
              "25    20\n",
              "23    18\n",
              "43    17\n",
              "42    16\n",
              "47    16\n",
              "45    16\n",
              "48    15\n",
              "46    13\n",
              "22    12\n",
              "21    10\n",
              "44     9\n",
              "50     8\n",
              "52     7\n",
              "53     6\n",
              "51     6\n",
              "54     4\n",
              "49     4\n",
              "55     2\n",
              "20     2\n",
              "56     1\n",
              "Name: age, dtype: int64"
            ]
          },
          "metadata": {},
          "execution_count": 62
        }
      ]
    },
    {
      "cell_type": "code",
      "source": [
        "sns.boxplot(x='variable', y='value', data=pd.melt(df))"
      ],
      "metadata": {
        "colab": {
          "base_uri": "https://localhost:8080/",
          "height": 466
        },
        "id": "EAdrYyP6ZeNY",
        "outputId": "0c96014c-e60b-4ce8-d8e9-2be720619dd8"
      },
      "execution_count": 63,
      "outputs": [
        {
          "output_type": "execute_result",
          "data": {
            "text/plain": [
              "<Axes: xlabel='variable', ylabel='value'>"
            ]
          },
          "metadata": {},
          "execution_count": 63
        },
        {
          "output_type": "display_data",
          "data": {
            "text/plain": [
              "<Figure size 640x480 with 1 Axes>"
            ],
            "image/png": "[encoded data removed]"
          },
          "metadata": {}
        }
      ]
    },
    {
      "cell_type": "code",
      "source": [
        "dfx = df.drop('Unnamed: 0', axis = 1)"
      ],
      "metadata": {
        "id": "cnfm3czaZYbC"
      },
      "execution_count": 64,
      "outputs": []
    },
    {
      "cell_type": "code",
      "source": [
        "sns.boxplot(x= 'variable', y= 'value', data= pd.melt(dfx))"
      ],
      "metadata": {
        "colab": {
          "base_uri": "https://localhost:8080/",
          "height": 466
        },
        "id": "gJ5SAEN8ZVCB",
        "outputId": "02d8cb3e-7eae-4fa8-d048-6c237e0b2605"
      },
      "execution_count": 65,
      "outputs": [
        {
          "output_type": "execute_result",
          "data": {
            "text/plain": [
              "<Axes: xlabel='variable', ylabel='value'>"
            ]
          },
          "metadata": {},
          "execution_count": 65
        },
        {
          "output_type": "display_data",
          "data": {
            "text/plain": [
              "<Figure size 640x480 with 1 Axes>"
            ],
            "image/png": "[encoded data removed]"
          },
          "metadata": {}
        }
      ]
    },
    {
      "cell_type": "code",
      "source": [
        "dfx1 = df[['ed','creddebt', 'othdebt']]\n",
        "sns.boxplot(x= 'variable', y= 'value', data= pd.melt(dfx1))"
      ],
      "metadata": {
        "colab": {
          "base_uri": "https://localhost:8080/",
          "height": 466
        },
        "id": "f_M-qRO1aG7_",
        "outputId": "aabae5ed-cb42-492f-c741-197c361bfbe1"
      },
      "execution_count": 66,
      "outputs": [
        {
          "output_type": "execute_result",
          "data": {
            "text/plain": [
              "<Axes: xlabel='variable', ylabel='value'>"
            ]
          },
          "metadata": {},
          "execution_count": 66
        },
        {
          "output_type": "display_data",
          "data": {
            "text/plain": [
              "<Figure size 640x480 with 1 Axes>"
            ],
            "image/png": "[encoded data removed]"
          },
          "metadata": {}
        }
      ]
    },
    {
      "cell_type": "code",
      "source": [
        "dfx2  = df.drop(['age', 'Unnamed: 0'], axis= 1)\n",
        "sns.boxplot(x= 'variable', y= 'value', data= pd.melt(dfx2))"
      ],
      "metadata": {
        "colab": {
          "base_uri": "https://localhost:8080/",
          "height": 466
        },
        "id": "KJU4_tO0aI_n",
        "outputId": "042bf8fe-8363-49c9-c4a7-ac936b288422"
      },
      "execution_count": 67,
      "outputs": [
        {
          "output_type": "execute_result",
          "data": {
            "text/plain": [
              "<Axes: xlabel='variable', ylabel='value'>"
            ]
          },
          "metadata": {},
          "execution_count": 67
        },
        {
          "output_type": "display_data",
          "data": {
            "text/plain": [
              "<Figure size 640x480 with 1 Axes>"
            ],
            "image/png": "[encoded data removed]"
          },
          "metadata": {}
        }
      ]
    },
    {
      "cell_type": "code",
      "source": [
        "sns.displot(x='creddebt', data=dfx2)"
      ],
      "metadata": {
        "colab": {
          "base_uri": "https://localhost:8080/",
          "height": 523
        },
        "id": "RVyrbMIcalK3",
        "outputId": "8c33c17e-5f74-4ba1-f8aa-d1955fe8932a"
      },
      "execution_count": 68,
      "outputs": [
        {
          "output_type": "execute_result",
          "data": {
            "text/plain": [
              "<seaborn.axisgrid.FacetGrid at 0x7d567e8ae0e0>"
            ]
          },
          "metadata": {},
          "execution_count": 68
        },
        {
          "output_type": "display_data",
          "data": {
            "text/plain": [
              "<Figure size 500x500 with 1 Axes>"
            ],
            "image/png": "[encoded data removed]"
          },
          "metadata": {}
        }
      ]
    },
    {
      "cell_type": "code",
      "source": [
        "plt.figure(figsize=(10,4))\n",
        "sns.barplot(x='creddebt', y='ed', hue='default', data=df)"
      ],
      "metadata": {
        "colab": {
          "base_uri": "https://localhost:8080/",
          "height": 293
        },
        "id": "YdvtEw56lJYK",
        "outputId": "3011d08e-ef77-4df2-dbab-fdbb6dd63fd8"
      },
      "execution_count": 69,
      "outputs": [
        {
          "output_type": "execute_result",
          "data": {
            "text/plain": [
              "<Axes: xlabel='creddebt', ylabel='ed'>"
            ]
          },
          "metadata": {},
          "execution_count": 69
        },
        {
          "output_type": "display_data",
          "data": {
            "text/plain": [
              "<Figure size 1000x400 with 1 Axes>"
            ],
            "image/png": "[encoded data removed]"
          },
          "metadata": {}
        }
      ]
    },
    {
      "cell_type": "code",
      "source": [
        "scatplot= sns.FacetGrid(df, col= 'ed', hue= 'default')\n",
        "scatplot.map(plt.scatter, 'age', 'othdebt', alpha= .7)\n",
        "scatplot.add_legend()"
      ],
      "metadata": {
        "colab": {
          "base_uri": "https://localhost:8080/",
          "height": 154
        },
        "id": "etVvIHdhkvs5",
        "outputId": "b5f982b1-db63-42ef-e71c-3fe572a5ec61"
      },
      "execution_count": 70,
      "outputs": [
        {
          "output_type": "execute_result",
          "data": {
            "text/plain": [
              "<seaborn.axisgrid.FacetGrid at 0x7d567c198dc0>"
            ]
          },
          "metadata": {},
          "execution_count": 70
        },
        {
          "output_type": "display_data",
          "data": {
            "text/plain": [
              "<Figure size 1572x300 with 5 Axes>"
            ],
            "image/png": "[encoded data removed]"
          },
          "metadata": {}
        }
      ]
    },
    {
      "cell_type": "markdown",
      "source": [
        "## Interpretasi Grafik\n",
        "**Tingkat Pendidikan 1**\n",
        "\n",
        "Pada range usia 20-30 tingkat pendidikan 1, terjadi banyak gagal bayar\n",
        "\n",
        "**Tingkat Pendidikan 2**\n",
        "\n",
        "Pada range usia 20-40 di level ED = 2, banyak terjadi gagal bayar\n",
        "\n",
        "**Tingkat Pendidikan 3**\n",
        "\n",
        "Pada range usia 30-45 di level ED = 3, banyak terjadi gagal bayar\n",
        "\n",
        "**Tingkat Pendidikan 4**\n",
        "\n",
        "Pada range usia 25-30 di level ED = 4, banyak terjadi gagal bayar\n",
        "\n",
        "**Tingkat Pendidikan 5**\n",
        "\n",
        "Pada range usia > 50 di level ED = 5, banyak terjadi gagal bayar"
      ],
      "metadata": {
        "id": "hNJeynJrky4H"
      }
    },
    {
      "cell_type": "code",
      "source": [
        "import plotly.express as px\n",
        "fig = px.scatter(df, x=\"creddebt\", y=\"othdebt\", color=\"default\",\n",
        "                 size='income', hover_data=['age'])\n",
        "fig.show()"
      ],
      "metadata": {
        "colab": {
          "base_uri": "https://localhost:8080/",
          "height": 542
        },
        "id": "Iwsa_GEByPHQ",
        "outputId": "c386b27d-c0df-404c-c929-7f0318104f20"
      },
      "execution_count": 71,
      "outputs": [
        {
          "output_type": "display_data",
          "data": {
            "text/html": [
              "<html>\n",
              "<head><meta charset=\"utf-8\" /></head>\n",
              "<body>\n",
              "    <div>            <script src=\"https://cdnjs.cloudflare.com/ajax/libs/mathjax/2.7.5/MathJax.js?config=TeX-AMS-MML_SVG\"></script><script type=\"text/javascript\">if (window.MathJax && window.MathJax.Hub && window.MathJax.Hub.Config) {window.MathJax.Hub.Config({SVG: {font: \"STIX-Web\"}});}</script>                <script type=\"text/javascript\">window.PlotlyConfig = {MathJaxConfig: 'local'};</script>\n",
              "        <script charset=\"utf-8\" src=\"https://cdn.plot.ly/plotly-2.24.1.min.js\"></script>                <div id=\"551679e6-ffd5-419f-b9a0-228c2ef26599\" class=\"plotly-graph-div\" style=\"height:525px; width:100%;\"></div>            <script type=\"text/javascript\">                                    window.PLOTLYENV=window.PLOTLYENV || {};                                    if (document.getElementById(\"551679e6-ffd5-419f-b9a0-228c2ef26599\")) {                    Plotly.newPlot(                        \"551679e6-ffd5-419f-b9a0-228c2ef26599\",                        [{\"customdata\":[[41],[27],[40],[41],[24],[41],[39],[43],[24],[36],[27],[25],[52],[37],[48],[36],[36],[43],[39],[41],[39],[47],[28],[29],[21],[25],[45],[43],[33],[26],[45],[30],[27],[25],[25],[26],[30],[32],[28],[45],[23],[34],[42],[39],[26],[21],[35],[47],[23],[35],[34],[46],[46],[38],[40],[37],[35],[39],[40],[50],[31],[29],[37],[33],[26],[32],[28],[39],[28],[29],[34],[28],[47],[43],[41],[47],[24],[29],[33],[36],[26],[31],[37],[35],[26],[40],[29],[37],[32],[23],[32],[25],[38],[32],[41],[36],[42],[41],[29],[38],[39],[36],[33],[42],[41],[40],[53],[28],[36],[34],[45],[38],[21],[42],[52],[25],[34],[40],[31],[25],[45],[23],[34],[31],[28],[41],[39],[29],[21],[41],[26],[33],[45],[39],[24],[29],[27],[40],[29],[29],[24],[27],[41],[31],[41],[42],[28],[30],[30],[31],[45],[43],[36],[28],[27],[36],[33],[54],[33],[31],[21],[28],[31],[32],[35],[40],[22],[39],[41],[34],[29],[31],[32],[32],[33],[26],[21],[28],[37],[33],[39],[40],[45],[27],[28],[39],[40],[27],[36],[55],[27],[30],[36],[31],[33],[30],[24],[33],[50],[31],[28],[44],[48],[36],[29],[40],[33],[26],[36],[26],[40],[44],[29],[35],[34],[34],[46],[41],[27],[27],[28],[48],[48],[29],[43],[23],[29],[40],[22],[23],[46],[55],[38],[35],[30],[24],[26],[32],[37],[39],[30],[30],[32],[54],[27],[31],[39],[31],[35],[35],[46],[33],[35],[35],[38],[41],[38],[34],[51],[34],[47],[34],[27],[52],[39],[33],[34],[31],[28],[39],[51],[22],[27],[32],[28],[27],[26],[32],[30],[39],[31],[34],[31],[29],[29],[35],[29],[38],[35],[29],[23],[33],[51],[24],[31],[45],[29],[34],[25],[37],[47],[43],[47],[24],[27],[25],[36],[39],[26],[41],[39],[37],[29],[42],[31],[36],[39],[23],[39],[27],[24],[27],[41],[38],[40],[54],[40],[40],[29],[30],[29],[29],[28],[28],[39],[32],[36],[39],[28],[28],[46],[30],[39],[40],[44],[30],[24],[32],[29],[40],[41],[22],[38],[37],[41],[41],[39],[24],[32],[21],[29],[35],[29],[41],[37],[32],[36],[39],[36],[46],[34],[27],[43],[33],[39],[29],[34],[26],[31],[26],[28],[48],[39],[37],[52],[48],[26],[46],[31],[34],[40],[24],[33],[53],[47],[35],[34],[49],[26],[23],[23],[38],[28],[30],[34],[50],[29],[42],[31],[39],[45],[45],[36],[25],[29],[30],[31],[43],[32],[47],[46],[43],[48],[30],[23],[36],[20],[43],[23],[41],[34],[50],[40],[29],[39],[24],[27],[40],[32],[39],[40],[32],[39],[24],[43],[56],[32],[42],[46],[31],[43],[28],[39],[39],[37],[30],[37],[22],[50],[30],[39],[21],[31],[31],[48],[28],[47],[27],[29],[21],[29],[24],[44],[22],[38],[52],[25],[25],[51],[38],[44],[24],[34],[25],[45],[34],[27],[33],[35],[50],[33],[41],[28],[38],[25],[47],[30],[44],[25],[41],[22],[35],[42],[38],[23],[28],[52],[25],[28],[43],[24],[34],[29],[31],[42],[49],[39],[45],[41],[29],[35],[27],[28],[48],[24],[31],[43],[42],[51],[22],[37],[22],[49],[29],[42],[34],[34],[32],[42],[24],[34],[26],[30],[32],[38],[43],[31],[37],[37],[41],[32],[22],[32],[47],[40],[31],[34],[52],[28],[38],[33],[39],[47],[36],[29],[48],[38],[46],[27],[54],[27],[23],[41],[24],[28],[26],[24],[49],[28],[38],[33],[26],[36],[37],[25],[29],[27],[45],[37],[29],[51],[22],[30],[31],[28],[35],[25],[32],[33],[28],[46],[41],[42],[41],[26],[47],[29],[34],[36],[38],[41],[46],[40],[44],[35],[36],[28],[29],[23],[41],[25],[45],[48],[38],[29],[42],[31],[40],[26],[25],[53],[50],[47],[23],[37],[41],[28],[31],[41],[36],[41],[53],[31],[28],[48],[23],[31],[27],[43],[29],[53],[38],[30],[28],[36],[48],[31],[35],[50],[42],[40],[37],[31],[38],[35],[44],[44],[33],[35],[36],[23],[27],[34],[35],[24],[48],[26],[40],[34],[35],[30],[20],[36],[21],[34],[35],[35],[34],[33],[30],[24],[47],[53],[22],[48],[36],[29],[33],[45],[37]],\"hovertemplate\":\"creddebt=%{x}\\u003cbr\\u003eothdebt=%{y}\\u003cbr\\u003eincome=%{marker.size}\\u003cbr\\u003eage=%{customdata[0]}\\u003cbr\\u003edefault=%{marker.color}\\u003cextra\\u003e\\u003c\\u002fextra\\u003e\",\"legendgroup\":\"\",\"marker\":{\"color\":[1.0,0.0,0.0,0.0,1.0,0.0,0.0,0.0,1.0,0.0,0.0,0.0,0.0,0.0,0.0,1.0,1.0,0.0,0.0,0.0,0.0,0.0,0.0,0.0,1.0,0.0,0.0,0.0,0.0,0.0,0.0,0.0,0.0,0.0,0.0,0.0,0.0,0.0,1.0,0.0,0.0,0.0,0.0,0.0,1.0,0.0,0.0,0.0,1.0,0.0,1.0,0.0,1.0,0.0,0.0,1.0,0.0,0.0,0.0,0.0,0.0,1.0,0.0,0.0,0.0,1.0,1.0,0.0,1.0,1.0,0.0,0.0,0.0,0.0,0.0,0.0,0.0,0.0,0.0,0.0,1.0,0.0,0.0,0.0,0.0,0.0,1.0,0.0,0.0,1.0,0.0,1.0,0.0,1.0,1.0,0.0,0.0,0.0,0.0,1.0,0.0,0.0,0.0,0.0,0.0,0.0,1.0,0.0,0.0,0.0,0.0,0.0,0.0,0.0,0.0,0.0,0.0,0.0,1.0,1.0,0.0,1.0,1.0,1.0,0.0,0.0,1.0,0.0,0.0,0.0,0.0,0.0,0.0,0.0,0.0,0.0,0.0,0.0,0.0,1.0,1.0,1.0,0.0,0.0,0.0,0.0,0.0,0.0,0.0,0.0,0.0,1.0,0.0,0.0,0.0,0.0,0.0,1.0,1.0,0.0,0.0,0.0,1.0,0.0,1.0,1.0,1.0,0.0,0.0,0.0,0.0,0.0,1.0,0.0,0.0,0.0,0.0,0.0,0.0,1.0,0.0,0.0,0.0,0.0,0.0,0.0,1.0,0.0,0.0,0.0,1.0,0.0,1.0,1.0,0.0,0.0,1.0,0.0,0.0,1.0,0.0,1.0,0.0,0.0,0.0,0.0,0.0,0.0,0.0,0.0,0.0,1.0,0.0,1.0,0.0,0.0,0.0,0.0,1.0,1.0,0.0,0.0,0.0,1.0,1.0,0.0,0.0,0.0,0.0,0.0,0.0,1.0,0.0,0.0,0.0,0.0,0.0,1.0,0.0,1.0,0.0,0.0,0.0,0.0,0.0,0.0,0.0,0.0,0.0,0.0,0.0,1.0,0.0,0.0,0.0,0.0,0.0,0.0,0.0,0.0,0.0,0.0,0.0,1.0,0.0,0.0,0.0,1.0,0.0,0.0,0.0,0.0,0.0,0.0,0.0,1.0,1.0,0.0,1.0,0.0,1.0,1.0,0.0,0.0,0.0,0.0,0.0,1.0,0.0,0.0,0.0,0.0,0.0,0.0,1.0,0.0,0.0,0.0,1.0,0.0,1.0,0.0,0.0,0.0,0.0,0.0,0.0,0.0,0.0,0.0,1.0,0.0,1.0,0.0,0.0,0.0,0.0,0.0,0.0,1.0,0.0,1.0,0.0,1.0,1.0,1.0,0.0,0.0,0.0,0.0,0.0,1.0,1.0,0.0,0.0,0.0,0.0,0.0,1.0,1.0,0.0,0.0,0.0,1.0,0.0,1.0,0.0,0.0,0.0,0.0,0.0,0.0,0.0,0.0,1.0,1.0,1.0,1.0,0.0,0.0,0.0,0.0,0.0,0.0,1.0,0.0,0.0,0.0,0.0,0.0,0.0,0.0,0.0,1.0,0.0,0.0,0.0,0.0,0.0,0.0,0.0,1.0,1.0,0.0,1.0,0.0,0.0,0.0,0.0,0.0,0.0,1.0,0.0,1.0,1.0,0.0,0.0,0.0,0.0,1.0,0.0,0.0,0.0,1.0,0.0,0.0,0.0,0.0,0.0,0.0,0.0,0.0,0.0,1.0,1.0,0.0,0.0,0.0,1.0,0.0,1.0,0.0,0.0,0.0,1.0,0.0,0.0,0.0,1.0,0.0,1.0,0.0,0.0,1.0,0.0,0.0,0.0,0.0,0.0,0.0,0.0,0.0,0.0,1.0,1.0,0.0,0.0,0.0,1.0,1.0,0.0,0.0,0.0,0.0,1.0,0.0,0.0,0.0,0.0,0.0,0.0,1.0,0.0,0.0,0.0,0.0,1.0,0.0,0.0,1.0,1.0,1.0,0.0,0.0,0.0,0.0,1.0,0.0,0.0,0.0,0.0,1.0,0.0,0.0,1.0,0.0,1.0,1.0,1.0,0.0,0.0,1.0,1.0,1.0,1.0,1.0,0.0,0.0,1.0,1.0,0.0,1.0,0.0,0.0,1.0,0.0,0.0,0.0,0.0,0.0,0.0,0.0,0.0,0.0,1.0,0.0,0.0,0.0,0.0,0.0,0.0,0.0,0.0,0.0,0.0,0.0,0.0,0.0,0.0,1.0,1.0,1.0,1.0,0.0,0.0,0.0,0.0,1.0,0.0,1.0,0.0,0.0,0.0,1.0,0.0,0.0,0.0,0.0,1.0,1.0,1.0,1.0,0.0,0.0,0.0,0.0,0.0,0.0,1.0,0.0,0.0,0.0,0.0,0.0,1.0,1.0,0.0,0.0,1.0,0.0,1.0,0.0,0.0,1.0,1.0,0.0,1.0,0.0,0.0,0.0,0.0,0.0,0.0,1.0,1.0,0.0,0.0,0.0,0.0,1.0,1.0,1.0,0.0,0.0,1.0,0.0,1.0,1.0,0.0,1.0,0.0,0.0,0.0,0.0,1.0,0.0,1.0,0.0,0.0,0.0,1.0,0.0,1.0,0.0,0.0,0.0,1.0,1.0,1.0,0.0,0.0,0.0,0.0,0.0,0.0,0.0,0.0,0.0,0.0,0.0,0.0,0.0,1.0,1.0,0.0,0.0,1.0,1.0,0.0,0.0,0.0,0.0,0.0,0.0,0.0,1.0,0.0,0.0,0.0,0.0,1.0,0.0,0.0,1.0,0.0,0.0,0.0,0.0,0.0,0.0,0.0,1.0,0.0,0.0,0.0,0.0,0.0,0.0,0.0,0.0,0.0,0.0,0.0,1.0,0.0,0.0,0.0,1.0,0.0,0.0,1.0,1.0,0.0,0.0,0.0,1.0,0.0,1.0,0.0,0.0,0.0,0.0,1.0,0.0,0.0,1.0,0.0,0.0,0.0,0.0],\"coloraxis\":\"coloraxis\",\"size\":[176,31,55,120,28,25,67,38,19,25,16,23,64,29,100,49,41,72,61,26,52,43,26,27,16,32,69,64,58,37,20,22,26,27,35,45,22,54,24,50,31,59,41,48,14,16,35,26,21,42,25,20,52,25,28,24,34,69,100,80,28,42,23,55,28,75,23,46,31,20,21,34,100,26,44,51,21,17,37,39,27,45,32,29,20,45,36,29,28,17,23,15,54,18,15,54,82,52,19,31,113,26,27,121,75,28,50,26,60,45,39,41,24,51,64,33,65,73,27,20,37,19,27,22,22,43,68,36,25,68,27,18,35,60,21,57,23,28,24,37,16,45,135,25,68,41,26,25,33,44,51,76,23,30,33,39,32,28,29,26,26,44,26,26,24,102,24,38,44,79,22,28,20,73,21,22,18,34,24,35,46,57,80,34,29,27,43,56,16,78,22,17,28,21,40,33,18,28,47,32,19,88,45,30,63,116,26,30,81,35,116,48,30,37,75,47,35,145,30,70,24,19,113,70,60,17,44,75,20,22,60,40,38,33,27,18,28,15,75,42,21,39,32,118,35,31,39,25,40,98,144,52,105,21,21,96,44,39,82,33,30,78,18,24,35,22,21,59,16,45,120,16,26,38,38,20,24,36,17,38,28,39,41,25,25,30,32,22,36,36,34,32,159,21,49,52,17,20,27,56,129,54,81,21,75,18,44,57,25,25,60,54,14,31,29,17,52,23,33,40,24,45,49,23,35,120,89,32,31,23,18,50,41,38,89,53,43,39,47,28,31,15,32,220,74,19,19,32,15,36,43,17,34,62,71,56,22,15,51,26,27,82,21,30,18,47,20,44,67,99,51,26,45,72,101,17,40,21,60,24,45,50,46,25,70,27,22,126,23,56,95,16,44,78,52,32,28,39,28,16,21,56,37,65,34,71,40,64,27,31,132,91,53,24,29,56,24,29,57,50,21,83,24,61,32,32,17,89,25,76,68,36,64,22,56,42,16,157,45,53,100,42,75,21,446,59,23,25,43,22,242,22,39,39,33,17,177,14,26,19,21,21,28,30,30,16,221,34,65,20,20,29,31,18,59,76,18,22,166,58,33,26,33,26,94,25,23,57,22,60,42,91,28,63,16,33,98,86,18,36,18,40,190,23,18,30,89,20,16,79,24,52,25,21,48,51,73,22,32,46,38,25,19,66,18,33,69,24,249,19,31,25,20,30,30,67,27,43,66,14,48,32,68,16,25,37,53,123,20,86,20,35,63,41,46,22,27,234,17,63,26,32,115,49,84,59,64,15,42,114,25,17,91,15,22,14,17,79,36,18,37,25,40,50,18,33,38,62,57,26,44,23,30,20,18,39,34,28,24,41,73,83,73,47,29,113,18,36,43,64,26,31,55,129,39,60,30,18,22,63,19,29,148,45,46,186,47,23,21,22,61,102,136,21,83,100,29,41,19,40,19,44,25,25,70,42,34,43,37,28,27,19,38,20,33,60,24,57,23,55,28,31,54,35,77,101,113,23,29,43,24,18,20,34,20,101,40,36,48,42,33,14,30,16,53,39,20,33,68,18,16,253,27,20,66,27,21,32,77,44],\"sizemode\":\"area\",\"sizeref\":1.115,\"symbol\":\"circle\"},\"mode\":\"markers\",\"name\":\"\",\"orientation\":\"v\",\"showlegend\":false,\"x\":[11.359392,1.362202,0.856075,2.65872,1.787436,0.3927,3.833874,0.128592,1.358348,2.7777,0.1825119999999999,0.2523559999999999,3.9296,1.715901,3.7037,0.817516,2.918216,1.181952,0.5632739999999999,0.099008,1.154816,0.5875520000000001,0.4316,0.402192,0.2419199999999999,2.14016,0.7073189999999999,0.951232,3.0842080000000003,0.204906,0.105,1.13883,0.72228,1.018656,0.07714,6.0489,1.409716,3.195936,1.337904,0.5586,0.33759,1.80776,0.941114,1.930416,0.3024,0.150144,0.43155,0.12168,0.775656,0.205128,0.5733,0.8092,3.032016,0.311725,0.55328,1.8011279999999998,0.3978,1.061496,1.485,2.4790400000000004,0.047712,1.457652,0.8698600000000001,2.15985,1.024296,7.7589,0.186944,2.515786,1.492154,0.56916,1.401939,3.099236,4.5824,1.518556,0.07106,3.738504,0.025074,0.157182,0.199134,0.6864,2.47212,2.7387,2.69696,1.84382,0.3186,2.01348,3.490848,1.405398,0.116116,2.043706,0.052762,0.3710699999999999,1.499688,0.296496,1.960665,0.727056,1.315116,0.926224,0.6810930000000001,1.331946,0.987168,0.030212,0.776736,1.365364,9.8766,0.5342399999999999,2.016,1.29519,1.72062,1.11807,0.4586399999999999,0.266377,0.833448,2.411994,1.865856,0.552552,2.1076900000000003,1.032512,1.08864,0.47168,1.34273,0.2793,1.982448,1.092454,0.140448,0.694364,1.0166,0.1270079999999999,0.36675,1.506608,0.311634,0.984528,0.5481,2.44956,0.519939,0.452694,0.2852,0.964768,0.4695359999999999,1.15995,1.00864,2.85156,1.2771,0.14105,0.447984,0.35547,0.377208,1.77,0.681912,1.72128,1.550808,2.151104,1.327146,0.61344,1.6335,2.800512,2.104512,1.558144,1.348674,0.31005,1.420796,0.773256,0.28288,0.326196,0.591,6.226794,1.636128,1.17819,0.353056,1.7348400000000002,0.5505720000000001,0.291088,0.31488,3.751616,0.5670000000000001,0.720588,0.158814,0.35938,0.602352,2.123975,0.5612,0.8778,0.912,0.85085,1.424654,0.96552,2.79285,4.63736,0.433008,4.404816,1.086096,0.7461300000000001,0.8153600000000001,0.2772,0.18144,0.500346,0.23895,0.376852,0.398889,3.341184,0.260965,0.284504,0.97461,0.32883,0.571725,2.56128,0.54288,0.1437,1.7845919999999995,0.085785,1.61414,1.96992,0.27945,0.581418,3.9546,1.300537,1.34946,3.23727,0.4476,1.6184,0.107136,0.8495280000000001,3.37644,3.17604,4.0392,0.302175,3.70326,0.884925,0.2072,0.849024,1.6065,0.5632,0.029412,0.103488,0.073872,0.5265,0.2261,0.118755,0.632625,2.540832,0.491904,2.056275,0.4334399999999999,9.60048,1.60132,2.05716,0.139698,1.17735,1.2136,4.874716,3.324672,2.71362,1.4184450000000002,0.369957,0.44982,2.253888,0.60588,1.142856,2.604976,0.573705,2.21235,2.156544,0.400554,0.8017920000000001,0.23275,0.630784,0.187488,3.109654,0.870656,0.91575,4.14048,0.08448,0.930176,0.69426,0.774288,0.37698,1.576512,0.273024,0.44659,1.897302,0.345408,4.373382,0.134316,0.5694,1.0703,0.6498,0.92736,1.208548,0.178704,0.7093079999999999,0.2618,0.49632,1.06848,0.099372,3.236548,0.932256,0.46971,2.04858,0.54945,0.54264,20.56131,0.62208,1.50579,0.108108,2.206575,0.06588,0.446292,1.5591780000000002,1.3064,1.0605,9.5934,4.593401999999999,0.5866560000000001,1.02486,1.065489,0.5205569999999999,4.16,0.468464,0.39732,0.28396,0.3816,0.29205,0.4312,0.8979659999999999,1.58424,14.5962,2.771994,0.853664,0.15624,0.76176,0.029898,0.2592,0.4592,0.6362720000000001,5.001711,0.089199,2.6488,0.7739159999999999,5.574294,0.43736,1.98555,0.350025,0.421792,8.1664,4.521696,0.624492,0.358663,1.167968,0.14664,0.277704,0.085785,0.8063100000000001,0.036312,1.18575,6.565583,0.3735199999999999,1.915914,0.321195,2.68617,1.529528,0.0689309999999999,0.468384,1.109892,0.11256,1.583604,0.4286399999999999,0.7290000000000001,0.367752,5.245296,0.826551,1.875168,0.6411859999999999,0.67716,15.01668,0.3407739999999999,0.13175,0.94976,0.608139,0.80352,0.31104,1.853775,6.1138,4.00384,0.27565,1.32916,1.4032440000000002,0.208692,0.4765319999999999,0.2254,0.8642479999999999,0.6327,0.270336,0.5251399999999999,6.935916000000001,2.539836,0.17472,1.13764,2.457936,1.270752,0.804864,0.4549229999999999,0.4417279999999999,1.1239860000000002,3.89961,2.0996360000000003,1.662891,1.63212,0.278784,0.2376,0.1845119999999999,2.55816,1.256346,1.888125,1.5972,2.330092,0.333312,0.21708,0.05336,5.439966,3.17555,1.376844,0.258628,0.7644,0.549976,0.8184319999999999,0.024576,0.043792,0.159488,0.12375,6.94868,7.817144,0.834624,0.789888,1.038708,4.76476,0.8379,0.130416,3.326202,0.98235,0.694194,5.402,1.540266,3.132675,2.682498,16.031470000000002,4.6728,0.326025,1.62945,3.042336,1.7390560000000002,1.63592,0.6502100000000001,2.560779,1.066026,2.693691,0.30396,0.887655,0.2254,1.851564,0.336072,0.27636,0.48825,0.121576,0.6020399999999999,2.66262,1.08528,15.791776,0.237864,1.98536,0.2907,1.00584,0.589512,0.357833,0.270072,0.407808,0.99484,0.35208,0.402864,0.8208700000000001,4.58403,0.5456880000000001,0.8877440000000001,0.778107,0.0702,3.61242,0.56985,0.319884,6.111369,1.9701,0.4679399999999999,0.228312,2.316132,2.28438,5.71536,1.01104,1.1949299999999998,2.935296,1.47576,0.513702,4.51386,0.47817,1.80256,3.15666,0.8317260000000001,0.885258,1.52235,0.397385,0.105,0.5738880000000001,0.7821,2.172816,1.497392,0.58485,0.7285739999999999,1.201248,0.54315,3.726723,0.030492,0.072384,0.2414079999999999,1.382858,0.7055,0.286672,1.46784,0.52812,0.14553,0.410688,0.666528,4.27284,1.88727,1.701063,1.97685,0.37856,0.15498,1.47246,3.741012,0.295137,1.806,1.6410240000000005,0.8384879999999999,1.473792,0.126336,2.856612,0.89376,0.343425,0.676175,1.194885,3.021618,0.1736,4.99101,0.2634,0.7812,5.549544,0.455715,0.966828,0.3699739999999999,0.125334,7.38738,0.199325,5.0905260000000006,0.030628,1.429824,0.6532,0.272636,6.911519999999999,4.935645,0.894592,0.014835,2.707992,3.2946,1.419225,0.011696,0.5734819999999999,0.072885,5.283498000000001,0.25578,0.569296,0.28835,0.383904,0.13104,0.8341649999999999,0.210325,1.97568,7.32,2.801592,0.693792,0.364458,2.4366,1.357455,0.537654,4.960032,0.372876,0.26376,0.1107,1.939392,0.217854,0.13294,2.594144,1.041408,5.896743,2.223288,6.588539999999999,2.869192,0.4371,2.526567,2.380684,1.98144,0.6243479999999999,1.03974,0.65088,1.47264,1.617084,1.751475,0.551475,1.60212,1.05624,0.1209599999999999,0.44982,1.274064,4.637556,0.190095,0.4431779999999999,3.974688,0.5355,1.169964,2.403864,2.863757,0.409446,1.022868,2.261996,1.874591,5.781564,14.231448,1.210104,0.319882,5.06,2.148349,2.995706,0.124488,1.69488,0.2416039999999999,1.333024,2.331625,0.338575,4.3344,1.018836,0.298248,0.882833,0.179894,2.125816,0.594432,1.245488,0.17119,0.23312,1.26555,0.3213,0.4419359999999999,1.143135,0.140875,2.53275,0.184884,0.118017,0.402192,1.2656,5.501188,2.992024,3.192024,0.077418,0.264306,0.96148,0.55188,0.582912,0.04248,1.369962,0.3241199999999999,1.87456,0.44368,0.390852,0.419616,0.09324,1.165098,0.200984,0.3243,0.14112,0.8403149999999999,1.701609,0.8532,2.501664,1.365984,0.2272679999999999,0.024528,9.308376,2.754459,0.21902,2.3159400000000003,0.2620619999999999,0.3694949999999999,0.491264,2.302608,2.994684],\"xaxis\":\"x\",\"y\":[5.008608000000001,4.0007980000000005,2.168925,0.8212799999999999,3.056564,2.1573,16.668126,1.239408,3.277652,2.1473,0.089488,0.943644,2.4704,3.011099,5.3963,3.396484,3.805784,4.2900480000000005,2.913726,0.342992,0.509184,1.820448,2.1684,2.243808,2.63808,3.4918400000000003,3.915681,9.736768,7.587791999999999,5.049094,0.315,1.17117,0.83772,2.869344,0.93786,5.6511,2.132284,4.580064,2.766096,1.5414,1.7084099999999998,2.91224,0.944886,4.357583999999999,0.7476,0.937856,1.14345,2.58232,1.618344,2.902872,2.5767,1.9908,3.675984,0.613275,2.10672,1.822872,1.3022,0.594504,1.015,7.28096,0.6242880000000001,1.650348,1.98214,1.69015,1.159704,9.7161,1.285056,1.670214,1.0498459999999998,3.15084,3.449061,4.992764,8.2176,1.237444,0.67694,8.399496000000001,0.100926,0.981818,0.7628659999999999,0.5616,0.36288,4.9113,3.57504,1.34618,0.7614,6.44652,0.973152,5.728602,0.6958840000000001,2.665294,1.373238,1.33893,4.224312,0.747504,1.984335,1.648944,1.390884,2.869776,0.515907,1.5510540000000002,1.950832,2.127788,0.7892640000000001,2.385636,7.8234,0.47376,3.584,2.21481,3.01938,3.4269300000000005,1.45236,3.382623,1.014552,8.502006,3.638144,1.163448,1.92231,1.449488,2.36736,0.8683200000000001,2.17227,1.3167,7.548552000000001,1.701546,0.475552,1.197636,7.8234,0.376992,1.88325,2.437392,0.471366,1.337472,5.5419,5.77044,0.8030609999999999,0.8013060000000001,2.5668,0.687232,1.138464,1.28205,1.55136,5.158440000000001,4.6629,2.13395,3.224016,1.03853,2.846792,0.73,2.090088,1.79872,7.680192,2.484896,2.421854,1.54656,2.7225,4.687488,1.511488,2.585856,2.653326,0.85995,0.8932040000000001,3.054744,1.48512,0.739804,2.4090000000000003,13.051206,2.107872,1.29181,0.394944,1.42516,1.583428,2.872912,0.64512,2.672384,1.008,1.545412,2.955186,2.02062,1.533648,5.891025,1.7388,2.3142,1.4880000000000002,1.35915,5.593346,1.19448,3.65715,4.82664,1.054992,7.763184,1.817904,1.12387,2.32064,0.2478,2.69856,0.885654,0.82305,0.827148,2.8441110000000003,4.050816,0.518035,5.083496,3.43539,2.58117,2.893275,4.39872,1.01712,0.1563,4.047408,0.5792149999999999,12.42186,2.35008,1.07055,1.416582,3.8454,1.848463,2.22054,14.45273,0.7524,3.9816,0.468864,1.202472,10.18356,10.75396,8.2008,1.040825,4.26074,0.540075,0.9128,2.318976,7.5735,2.6368,0.198588,0.8205120000000001,0.169128,0.6435,2.4339,1.246245,1.992375,5.817168,3.351096,1.648725,0.94256,7.39152,3.05368,5.28984,0.5623020000000001,2.34765,6.1864,8.159284,12.659328,8.36238,0.576555,1.289043,1.44018,5.2341120000000005,1.37412,4.0051440000000005,1.003024,2.561295,5.13765,2.055456,1.7414459999999998,3.806208,1.51725,0.777216,1.324512,5.504346,1.561344,0.74925,4.97952,0.10752,1.773824,7.28574,1.961712,1.6830200000000002,1.687488,0.5909760000000001,0.18241,1.484698,0.998592,5.259618,5.031683999999999,2.0306,2.4047,1.6302,0.99264,3.785452,1.045296,1.486692,1.2342,1.26368,3.38352,0.4466279999999999,1.565452,1.875744,1.06029,1.37142,0.80055,0.52136,12.07569,4.56192,2.94921,0.983892,2.518425,0.15012,6.021708,9.498822,0.4686,1.4645,6.6666,1.940598,1.429344,2.57114,2.153511,2.420443,6.24,1.0725360000000002,1.91268,0.95604,0.8184,4.65795,0.3528,0.965034,4.15576,17.2038,12.714006,0.330336,2.32376,1.99824,0.168102,0.9408,0.5658,3.315728,7.725289,1.659801,3.9732,2.424084,3.731706,3.53864,1.79645,0.624975,1.146208,27.0336,5.394304,2.5295080000000003,0.458337,2.448032,0.24336,1.090296,0.215215,2.35569,0.371688,4.08425,4.581417,7.74648,3.166086,2.093805,9.04383,0.472472,0.5520689999999999,0.187616,2.6911080000000003,1.89744,0.738396,0.46436,0.8909999999999999,0.556248,2.2587040000000003,1.450449,3.020832,1.7248139999999998,0.80784,14.719320000000002,1.073226,0.29325,1.61024,0.420861,2.07648,0.33696,1.611225,9.2862,3.35616,0.64935,5.25084,4.347756,0.913308,3.429468,0.9016,2.551752,2.7873,0.753664,0.83886,6.558084,7.912164,3.98528,3.62236,1.481064,1.333248,0.731136,1.372077,0.454272,1.947014,15.40539,3.136364,6.218108999999999,1.04788,3.945216,1.1124,1.303488,1.40184,9.390654,1.132875,1.3068,3.817908,3.250688,0.86292,1.28064,8.126033999999999,11.87445,1.731156,3.144372,0.9156,1.158024,5.069568,0.4874239999999999,0.347208,0.196512,1.00125,8.63132,9.250856,0.8933760000000001,3.4341120000000003,1.799292,5.7072400000000005,1.5561,0.045584,7.035798,0.68265,1.266806,9.198,2.281734,11.042325,3.386502,12.95853,4.1772,0.708975,0.92055,2.633664,1.868944,4.65608,1.87979,2.470221,2.014974,2.619309,1.7360400000000002,9.555345,2.2246,1.866436,0.499928,0.5636399999999999,2.13675,0.606424,1.13796,4.02738,2.7227200000000003,23.104224,1.258136,9.97464,0.6093,2.95416,1.324488,2.649167,0.521928,1.008192,4.85716,2.58192,1.995136,18.26913,4.98597,1.170312,1.634256,1.630893,1.0998,6.25758,0.88015,0.991116,5.801631,1.3299,0.1920599999999999,1.283688,20.615868,7.039619999999999,4.3646400000000005,1.83696,1.14807,4.120704,9.70424,2.888298,2.5061400000000003,0.90783,5.07744,11.66334,2.549274,2.480742,4.44765,3.785615,0.595,1.778112,5.1429,2.411184,3.286608,0.46515,1.014426,2.926752,7.10685,6.712277,0.893508,0.8556159999999999,0.494592,4.355142,0.9945,0.492328,0.6441600000000001,0.55188,1.2404700000000002,4.005312,1.877472,15.14916,2.50173,1.925937,1.47315,3.00144,2.3050200000000003,1.43754,5.102988,0.163863,4.644,4.6949760000000005,1.415512,2.174208,1.377664,10.811388,3.66624,1.081575,2.468825,5.960115,18.257382,4.1664,17.79899,0.3366,2.3688,5.916456,3.439285,1.885172,1.104026,0.4686659999999999,10.63062,0.225675,3.351474,0.7753720000000001,0.682176,3.9468,0.3643639999999999,4.51248,4.799355,2.8174080000000004,0.630165,5.650008000000001,6.3954,1.755775,0.260304,11.893517999999998,1.622115,0.8105020000000001,1.21422,0.382704,5.47865,2.712096,2.20896,0.830835,0.964675,1.94432,10.98,3.210408,0.890208,2.257542,6.8634,1.7775450000000002,1.048346,0.847968,1.559124,4.44624,2.3493,0.724608,2.005146,2.75706,1.549856,1.262592,4.394257,1.7187119999999998,5.03146,2.094808,1.9129,4.926433,8.015316,2.62656,1.067652,1.62626,1.26912,3.51936,2.660916,7.323525,2.673525,2.45388,2.18376,1.31904,0.46818,1.233936,5.064444,1.1209049999999998,1.122822,6.681311999999999,2.6145,1.314036,4.292136,2.259243,1.177554,3.135132,2.182004,2.944409,8.600436,17.184552,0.553896,3.083118,6.44,1.708651,9.591294,1.072512,2.26512,0.594396,1.130976,0.543375,0.386425,4.0656,0.619164,2.013752,1.224167,0.301106,3.110184,1.133568,1.338512,3.05881,1.64688,9.45945,0.9387,1.142064,4.841865,2.734125,5.71725,1.803116,0.160983,1.109808,1.5344,2.660812,2.663976,11.723976,0.129582,1.156694,4.62852,0.96012,1.7210880000000002,0.19752,2.404038,0.41588,4.58944,4.27632,0.365148,4.044384,1.16676,7.216902,1.157016,3.1257,0.8668799999999999,4.724685,4.577391,0.7268,0.897336,5.978016,1.698732,1.143472,8.907624,5.048541,0.7209800000000001,5.670059999999999,0.979938,2.045505,1.940736,4.165392,3.4733160000000005],\"yaxis\":\"y\",\"type\":\"scatter\"}],                        {\"template\":{\"data\":{\"histogram2dcontour\":[{\"type\":\"histogram2dcontour\",\"colorbar\":{\"outlinewidth\":0,\"ticks\":\"\"},\"colorscale\":[[0.0,\"#0d0887\"],[0.1111111111111111,\"#46039f\"],[0.2222222222222222,\"#7201a8\"],[0.3333333333333333,\"#9c179e\"],[0.4444444444444444,\"#bd3786\"],[0.5555555555555556,\"#d8576b\"],[0.6666666666666666,\"#ed7953\"],[0.7777777777777778,\"#fb9f3a\"],[0.8888888888888888,\"#fdca26\"],[1.0,\"#f0f921\"]]}],\"choropleth\":[{\"type\":\"choropleth\",\"colorbar\":{\"outlinewidth\":0,\"ticks\":\"\"}}],\"histogram2d\":[{\"type\":\"histogram2d\",\"colorbar\":{\"outlinewidth\":0,\"ticks\":\"\"},\"colorscale\":[[0.0,\"#0d0887\"],[0.1111111111111111,\"#46039f\"],[0.2222222222222222,\"#7201a8\"],[0.3333333333333333,\"#9c179e\"],[0.4444444444444444,\"#bd3786\"],[0.5555555555555556,\"#d8576b\"],[0.6666666666666666,\"#ed7953\"],[0.7777777777777778,\"#fb9f3a\"],[0.8888888888888888,\"#fdca26\"],[1.0,\"#f0f921\"]]}],\"heatmap\":[{\"type\":\"heatmap\",\"colorbar\":{\"outlinewidth\":0,\"ticks\":\"\"},\"colorscale\":[[0.0,\"#0d0887\"],[0.1111111111111111,\"#46039f\"],[0.2222222222222222,\"#7201a8\"],[0.3333333333333333,\"#9c179e\"],[0.4444444444444444,\"#bd3786\"],[0.5555555555555556,\"#d8576b\"],[0.6666666666666666,\"#ed7953\"],[0.7777777777777778,\"#fb9f3a\"],[0.8888888888888888,\"#fdca26\"],[1.0,\"#f0f921\"]]}],\"heatmapgl\":[{\"type\":\"heatmapgl\",\"colorbar\":{\"outlinewidth\":0,\"ticks\":\"\"},\"colorscale\":[[0.0,\"#0d0887\"],[0.1111111111111111,\"#46039f\"],[0.2222222222222222,\"#7201a8\"],[0.3333333333333333,\"#9c179e\"],[0.4444444444444444,\"#bd3786\"],[0.5555555555555556,\"#d8576b\"],[0.6666666666666666,\"#ed7953\"],[0.7777777777777778,\"#fb9f3a\"],[0.8888888888888888,\"#fdca26\"],[1.0,\"#f0f921\"]]}],\"contourcarpet\":[{\"type\":\"contourcarpet\",\"colorbar\":{\"outlinewidth\":0,\"ticks\":\"\"}}],\"contour\":[{\"type\":\"contour\",\"colorbar\":{\"outlinewidth\":0,\"ticks\":\"\"},\"colorscale\":[[0.0,\"#0d0887\"],[0.1111111111111111,\"#46039f\"],[0.2222222222222222,\"#7201a8\"],[0.3333333333333333,\"#9c179e\"],[0.4444444444444444,\"#bd3786\"],[0.5555555555555556,\"#d8576b\"],[0.6666666666666666,\"#ed7953\"],[0.7777777777777778,\"#fb9f3a\"],[0.8888888888888888,\"#fdca26\"],[1.0,\"#f0f921\"]]}],\"surface\":[{\"type\":\"surface\",\"colorbar\":{\"outlinewidth\":0,\"ticks\":\"\"},\"colorscale\":[[0.0,\"#0d0887\"],[0.1111111111111111,\"#46039f\"],[0.2222222222222222,\"#7201a8\"],[0.3333333333333333,\"#9c179e\"],[0.4444444444444444,\"#bd3786\"],[0.5555555555555556,\"#d8576b\"],[0.6666666666666666,\"#ed7953\"],[0.7777777777777778,\"#fb9f3a\"],[0.8888888888888888,\"#fdca26\"],[1.0,\"#f0f921\"]]}],\"mesh3d\":[{\"type\":\"mesh3d\",\"colorbar\":{\"outlinewidth\":0,\"ticks\":\"\"}}],\"scatter\":[{\"fillpattern\":{\"fillmode\":\"overlay\",\"size\":10,\"solidity\":0.2},\"type\":\"scatter\"}],\"parcoords\":[{\"type\":\"parcoords\",\"line\":{\"colorbar\":{\"outlinewidth\":0,\"ticks\":\"\"}}}],\"scatterpolargl\":[{\"type\":\"scatterpolargl\",\"marker\":{\"colorbar\":{\"outlinewidth\":0,\"ticks\":\"\"}}}],\"bar\":[{\"error_x\":{\"color\":\"#2a3f5f\"},\"error_y\":{\"color\":\"#2a3f5f\"},\"marker\":{\"line\":{\"color\":\"#E5ECF6\",\"width\":0.5},\"pattern\":{\"fillmode\":\"overlay\",\"size\":10,\"solidity\":0.2}},\"type\":\"bar\"}],\"scattergeo\":[{\"type\":\"scattergeo\",\"marker\":{\"colorbar\":{\"outlinewidth\":0,\"ticks\":\"\"}}}],\"scatterpolar\":[{\"type\":\"scatterpolar\",\"marker\":{\"colorbar\":{\"outlinewidth\":0,\"ticks\":\"\"}}}],\"histogram\":[{\"marker\":{\"pattern\":{\"fillmode\":\"overlay\",\"size\":10,\"solidity\":0.2}},\"type\":\"histogram\"}],\"scattergl\":[{\"type\":\"scattergl\",\"marker\":{\"colorbar\":{\"outlinewidth\":0,\"ticks\":\"\"}}}],\"scatter3d\":[{\"type\":\"scatter3d\",\"line\":{\"colorbar\":{\"outlinewidth\":0,\"ticks\":\"\"}},\"marker\":{\"colorbar\":{\"outlinewidth\":0,\"ticks\":\"\"}}}],\"scattermapbox\":[{\"type\":\"scattermapbox\",\"marker\":{\"colorbar\":{\"outlinewidth\":0,\"ticks\":\"\"}}}],\"scatterternary\":[{\"type\":\"scatterternary\",\"marker\":{\"colorbar\":{\"outlinewidth\":0,\"ticks\":\"\"}}}],\"scattercarpet\":[{\"type\":\"scattercarpet\",\"marker\":{\"colorbar\":{\"outlinewidth\":0,\"ticks\":\"\"}}}],\"carpet\":[{\"aaxis\":{\"endlinecolor\":\"#2a3f5f\",\"gridcolor\":\"white\",\"linecolor\":\"white\",\"minorgridcolor\":\"white\",\"startlinecolor\":\"#2a3f5f\"},\"baxis\":{\"endlinecolor\":\"#2a3f5f\",\"gridcolor\":\"white\",\"linecolor\":\"white\",\"minorgridcolor\":\"white\",\"startlinecolor\":\"#2a3f5f\"},\"type\":\"carpet\"}],\"table\":[{\"cells\":{\"fill\":{\"color\":\"#EBF0F8\"},\"line\":{\"color\":\"white\"}},\"header\":{\"fill\":{\"color\":\"#C8D4E3\"},\"line\":{\"color\":\"white\"}},\"type\":\"table\"}],\"barpolar\":[{\"marker\":{\"line\":{\"color\":\"#E5ECF6\",\"width\":0.5},\"pattern\":{\"fillmode\":\"overlay\",\"size\":10,\"solidity\":0.2}},\"type\":\"barpolar\"}],\"pie\":[{\"automargin\":true,\"type\":\"pie\"}]},\"layout\":{\"autotypenumbers\":\"strict\",\"colorway\":[\"#636efa\",\"#EF553B\",\"#00cc96\",\"#ab63fa\",\"#FFA15A\",\"#19d3f3\",\"#FF6692\",\"#B6E880\",\"#FF97FF\",\"#FECB52\"],\"font\":{\"color\":\"#2a3f5f\"},\"hovermode\":\"closest\",\"hoverlabel\":{\"align\":\"left\"},\"paper_bgcolor\":\"white\",\"plot_bgcolor\":\"#E5ECF6\",\"polar\":{\"bgcolor\":\"#E5ECF6\",\"angularaxis\":{\"gridcolor\":\"white\",\"linecolor\":\"white\",\"ticks\":\"\"},\"radialaxis\":{\"gridcolor\":\"white\",\"linecolor\":\"white\",\"ticks\":\"\"}},\"ternary\":{\"bgcolor\":\"#E5ECF6\",\"aaxis\":{\"gridcolor\":\"white\",\"linecolor\":\"white\",\"ticks\":\"\"},\"baxis\":{\"gridcolor\":\"white\",\"linecolor\":\"white\",\"ticks\":\"\"},\"caxis\":{\"gridcolor\":\"white\",\"linecolor\":\"white\",\"ticks\":\"\"}},\"coloraxis\":{\"colorbar\":{\"outlinewidth\":0,\"ticks\":\"\"}},\"colorscale\":{\"sequential\":[[0.0,\"#0d0887\"],[0.1111111111111111,\"#46039f\"],[0.2222222222222222,\"#7201a8\"],[0.3333333333333333,\"#9c179e\"],[0.4444444444444444,\"#bd3786\"],[0.5555555555555556,\"#d8576b\"],[0.6666666666666666,\"#ed7953\"],[0.7777777777777778,\"#fb9f3a\"],[0.8888888888888888,\"#fdca26\"],[1.0,\"#f0f921\"]],\"sequentialminus\":[[0.0,\"#0d0887\"],[0.1111111111111111,\"#46039f\"],[0.2222222222222222,\"#7201a8\"],[0.3333333333333333,\"#9c179e\"],[0.4444444444444444,\"#bd3786\"],[0.5555555555555556,\"#d8576b\"],[0.6666666666666666,\"#ed7953\"],[0.7777777777777778,\"#fb9f3a\"],[0.8888888888888888,\"#fdca26\"],[1.0,\"#f0f921\"]],\"diverging\":[[0,\"#8e0152\"],[0.1,\"#c51b7d\"],[0.2,\"#de77ae\"],[0.3,\"#f1b6da\"],[0.4,\"#fde0ef\"],[0.5,\"#f7f7f7\"],[0.6,\"#e6f5d0\"],[0.7,\"#b8e186\"],[0.8,\"#7fbc41\"],[0.9,\"#4d9221\"],[1,\"#276419\"]]},\"xaxis\":{\"gridcolor\":\"white\",\"linecolor\":\"white\",\"ticks\":\"\",\"title\":{\"standoff\":15},\"zerolinecolor\":\"white\",\"automargin\":true,\"zerolinewidth\":2},\"yaxis\":{\"gridcolor\":\"white\",\"linecolor\":\"white\",\"ticks\":\"\",\"title\":{\"standoff\":15},\"zerolinecolor\":\"white\",\"automargin\":true,\"zerolinewidth\":2},\"scene\":{\"xaxis\":{\"backgroundcolor\":\"#E5ECF6\",\"gridcolor\":\"white\",\"linecolor\":\"white\",\"showbackground\":true,\"ticks\":\"\",\"zerolinecolor\":\"white\",\"gridwidth\":2},\"yaxis\":{\"backgroundcolor\":\"#E5ECF6\",\"gridcolor\":\"white\",\"linecolor\":\"white\",\"showbackground\":true,\"ticks\":\"\",\"zerolinecolor\":\"white\",\"gridwidth\":2},\"zaxis\":{\"backgroundcolor\":\"#E5ECF6\",\"gridcolor\":\"white\",\"linecolor\":\"white\",\"showbackground\":true,\"ticks\":\"\",\"zerolinecolor\":\"white\",\"gridwidth\":2}},\"shapedefaults\":{\"line\":{\"color\":\"#2a3f5f\"}},\"annotationdefaults\":{\"arrowcolor\":\"#2a3f5f\",\"arrowhead\":0,\"arrowwidth\":1},\"geo\":{\"bgcolor\":\"white\",\"landcolor\":\"#E5ECF6\",\"subunitcolor\":\"white\",\"showland\":true,\"showlakes\":true,\"lakecolor\":\"white\"},\"title\":{\"x\":0.05},\"mapbox\":{\"style\":\"light\"}}},\"xaxis\":{\"anchor\":\"y\",\"domain\":[0.0,1.0],\"title\":{\"text\":\"creddebt\"}},\"yaxis\":{\"anchor\":\"x\",\"domain\":[0.0,1.0],\"title\":{\"text\":\"othdebt\"}},\"coloraxis\":{\"colorbar\":{\"title\":{\"text\":\"default\"}},\"colorscale\":[[0.0,\"#0d0887\"],[0.1111111111111111,\"#46039f\"],[0.2222222222222222,\"#7201a8\"],[0.3333333333333333,\"#9c179e\"],[0.4444444444444444,\"#bd3786\"],[0.5555555555555556,\"#d8576b\"],[0.6666666666666666,\"#ed7953\"],[0.7777777777777778,\"#fb9f3a\"],[0.8888888888888888,\"#fdca26\"],[1.0,\"#f0f921\"]]},\"legend\":{\"tracegroupgap\":0,\"itemsizing\":\"constant\"},\"margin\":{\"t\":60}},                        {\"responsive\": true}                    ).then(function(){\n",
              "                            \n",
              "var gd = document.getElementById('551679e6-ffd5-419f-b9a0-228c2ef26599');\n",
              "var x = new MutationObserver(function (mutations, observer) {{\n",
              "        var display = window.getComputedStyle(gd).display;\n",
              "        if (!display || display === 'none') {{\n",
              "            console.log([gd, 'removed!']);\n",
              "            Plotly.purge(gd);\n",
              "            observer.disconnect();\n",
              "        }}\n",
              "}});\n",
              "\n",
              "// Listen for the removal of the full notebook cells\n",
              "var notebookContainer = gd.closest('#notebook-container');\n",
              "if (notebookContainer) {{\n",
              "    x.observe(notebookContainer, {childList: true});\n",
              "}}\n",
              "\n",
              "// Listen for the clearing of the current output cell\n",
              "var outputEl = gd.closest('.output');\n",
              "if (outputEl) {{\n",
              "    x.observe(outputEl, {childList: true});\n",
              "}}\n",
              "\n",
              "                        })                };                            </script>        </div>\n",
              "</body>\n",
              "</html>"
            ]
          },
          "metadata": {}
        }
      ]
    },
    {
      "cell_type": "markdown",
      "source": [
        "##Data Preparation\n",
        "1. Tidak ada temuan missing value\n",
        "2. Hanya digunakan 1 tabel"
      ],
      "metadata": {
        "id": "TJ5wTegXyt4C"
      }
    },
    {
      "cell_type": "markdown",
      "source": [
        "##Data Modelling"
      ],
      "metadata": {
        "id": "bvPXa4e4zQ4l"
      }
    },
    {
      "cell_type": "code",
      "source": [
        "#split Training and Testing\n",
        "from sklearn.model_selection import train_test_split # import train_tes_split function\n",
        "from sklearn import metrics #import scikit-learn metrics module for accuracy calculation"
      ],
      "metadata": {
        "id": "y87gvUL-ydT_"
      },
      "execution_count": 72,
      "outputs": []
    },
    {
      "cell_type": "code",
      "source": [
        "#input variabel\n",
        "x=df[['age', 'ed', 'employ', 'address', 'debtinc', 'creddebt', 'othdebt']]\n",
        "\n",
        "#target variabel\n",
        "y=df['default'].astype('category')"
      ],
      "metadata": {
        "id": "inxy3Qyp09Rt"
      },
      "execution_count": 73,
      "outputs": []
    },
    {
      "cell_type": "code",
      "source": [
        "#untuk pemodelan, kita harus membagi data training dan testing, supaya kita bisa mengikur akurasi/error predict\n",
        "#karna ini supervised learning maka harus ada pembagian training dan testing\n",
        "x_train, x_test, y_train, y_test=train_test_split(x,y, test_size=0.3, random_state=0)"
      ],
      "metadata": {
        "id": "79aeEKPt0r16"
      },
      "execution_count": 74,
      "outputs": []
    },
    {
      "cell_type": "code",
      "source": [
        "#evaluation Model\n",
        "from sklearn.metrics import accuracy_score\n",
        "from sklearn.metrics import classification_report\n",
        "from sklearn.metrics import precision_score, recall_score\n",
        "from sklearn.metrics import confusion_matrix"
      ],
      "metadata": {
        "id": "XIcwRf7r0aCy"
      },
      "execution_count": 75,
      "outputs": []
    },
    {
      "cell_type": "markdown",
      "source": [
        "#Pemodelan Decision Tree"
      ],
      "metadata": {
        "id": "2zWgXMeV1mgD"
      }
    },
    {
      "cell_type": "code",
      "source": [
        "from sklearn.tree import DecisionTreeClassifier #Import Decision Tree Classifier"
      ],
      "metadata": {
        "id": "6hZP4HI20mE0"
      },
      "execution_count": 76,
      "outputs": []
    },
    {
      "cell_type": "code",
      "source": [
        "#object Decision Tree\n",
        "clf=DecisionTreeClassifier()\n",
        "\n",
        "#training model\n",
        "model_clf=clf.fit(x_train,y_train)\n",
        "\n",
        "#predict model\n",
        "y_pred_clf=model_clf.predict(x_test)"
      ],
      "metadata": {
        "id": "BxOw75sD2juL"
      },
      "execution_count": 77,
      "outputs": []
    },
    {
      "cell_type": "code",
      "source": [
        "#print klasifikasi\n",
        "print(classification_report(y_test,y_pred_clf))"
      ],
      "metadata": {
        "colab": {
          "base_uri": "https://localhost:8080/"
        },
        "id": "kgysxjcb2z2b",
        "outputId": "ee19611d-a8fb-452e-8c59-c30e5eb3bfc1"
      },
      "execution_count": 78,
      "outputs": [
        {
          "output_type": "stream",
          "name": "stdout",
          "text": [
            "              precision    recall  f1-score   support\n",
            "\n",
            "         0.0       0.81      0.76      0.79       155\n",
            "         1.0       0.43      0.51      0.47        55\n",
            "\n",
            "    accuracy                           0.70       210\n",
            "   macro avg       0.62      0.64      0.63       210\n",
            "weighted avg       0.71      0.70      0.70       210\n",
            "\n"
          ]
        }
      ]
    },
    {
      "cell_type": "code",
      "source": [
        "#memvisualisasikan confusion matrix\n",
        "mat=confusion_matrix(y_test,y_pred_clf)\n",
        "sns.heatmap(mat.T,square=True, annot=True, fmt='d', cbar=False)\n",
        "plt.xlabel('True Label')\n",
        "plt.ylabel('Predict Label')"
      ],
      "metadata": {
        "colab": {
          "base_uri": "https://localhost:8080/",
          "height": 466
        },
        "id": "qBi9AHx-22Pt",
        "outputId": "af2eed64-8253-4902-9255-b6822b7de670"
      },
      "execution_count": 79,
      "outputs": [
        {
          "output_type": "execute_result",
          "data": {
            "text/plain": [
              "Text(113.9222222222222, 0.5, 'Predict Label')"
            ]
          },
          "metadata": {},
          "execution_count": 79
        },
        {
          "output_type": "display_data",
          "data": {
            "text/plain": [
              "<Figure size 640x480 with 1 Axes>"
            ],
            "image/png": "[encoded data removed]"
          },
          "metadata": {}
        }
      ]
    },
    {
      "cell_type": "markdown",
      "source": [
        "##Day 3\n",
        "\n",
        "Kamis, 12 Oktober 2023"
      ],
      "metadata": {
        "id": "yPbZV7l9osi7"
      }
    },
    {
      "cell_type": "code",
      "source": [
        "#siginifikan faktor dari model\n",
        "feat_importances=pd.Series(model_clf.feature_importances_,index=x.columns)\n",
        "feat_importances.nlargest(10).plot(kind='barh')"
      ],
      "metadata": {
        "colab": {
          "base_uri": "https://localhost:8080/",
          "height": 447
        },
        "id": "kHkylAlRPSh9",
        "outputId": "d8597c54-7c16-4549-ad60-24f6106eb58e"
      },
      "execution_count": 80,
      "outputs": [
        {
          "output_type": "execute_result",
          "data": {
            "text/plain": [
              "<Axes: >"
            ]
          },
          "metadata": {},
          "execution_count": 80
        },
        {
          "output_type": "display_data",
          "data": {
            "text/plain": [
              "<Figure size 640x480 with 1 Axes>"
            ],
            "image/png": "[encoded data removed]"
          },
          "metadata": {}
        }
      ]
    },
    {
      "cell_type": "markdown",
      "source": [
        "##Hasil Evaluasi Pemodelan Decision Tree\n",
        "\n",
        "1. Model dalam memprediksi orang yang **Tidak Gagal Bayar** akurasi sebesar 80%, sedangkan overall accuracy 66% jadi bisa disimpulkam bahwa model **UNDERFIT** dalam memprediksi orang yang TIDAK GAGAL BAYAR.\n",
        "2. Model **OVERFIT** dalam mempredik Orang yang gagal bayar. Hal ini ditunjukkan nilai presisi 38% dan nilai accurasi overall 66%. Artinya presisi lebih rendah daripada accurasi (High accuracy and low presisi)\n",
        "3. Berdasarkan confusion matrix, maka model pintar dalam mem predict orang yang tidak gagal bayar.\n",
        "\n",
        "##KESIMPULAN : Model menggunakan Decision Tree tidak bisa diimplementasikan pada case ini."
      ],
      "metadata": {
        "id": "1ObIEbf0Afw5"
      }
    },
    {
      "cell_type": "markdown",
      "source": [
        "#Pemodelan Random Forest"
      ],
      "metadata": {
        "id": "sRydlyFCUp5L"
      }
    },
    {
      "cell_type": "code",
      "source": [
        "from sklearn.ensemble import RandomForestClassifier\n",
        "from sklearn.preprocessing import LabelEncoder\n",
        "from sklearn.preprocessing import StandardScaler"
      ],
      "metadata": {
        "id": "KfjKIo8BQTM2"
      },
      "execution_count": 81,
      "outputs": []
    },
    {
      "cell_type": "code",
      "source": [
        "#object Random Forest\n",
        "rf=RandomForestClassifier(n_estimators=200, max_depth=6)\n",
        "\n",
        "#training model\n",
        "model_rf=rf.fit(x_train,y_train)\n",
        "\n",
        "#predict model\n",
        "y_pred_rf=model_rf.predict(x_test)"
      ],
      "metadata": {
        "id": "9OlxRMZUUw-J"
      },
      "execution_count": 82,
      "outputs": []
    },
    {
      "cell_type": "code",
      "source": [
        "#evaluasi model random forest\n",
        "print(classification_report(y_test,y_pred_rf))"
      ],
      "metadata": {
        "colab": {
          "base_uri": "https://localhost:8080/"
        },
        "id": "NzGxpQWqWC01",
        "outputId": "4214866c-b941-41c1-d0d3-f5d1b362ea2f"
      },
      "execution_count": 83,
      "outputs": [
        {
          "output_type": "stream",
          "name": "stdout",
          "text": [
            "              precision    recall  f1-score   support\n",
            "\n",
            "         0.0       0.82      0.97      0.88       155\n",
            "         1.0       0.81      0.38      0.52        55\n",
            "\n",
            "    accuracy                           0.81       210\n",
            "   macro avg       0.81      0.67      0.70       210\n",
            "weighted avg       0.81      0.81      0.79       210\n",
            "\n"
          ]
        }
      ]
    },
    {
      "cell_type": "code",
      "source": [
        "#memvisualisasikan confusion matrix\n",
        "mat=confusion_matrix(y_test,y_pred_rf)\n",
        "sns.heatmap(mat.T,square=True, annot=True, fmt='d', cbar=False)\n",
        "plt.xlabel('True Label')\n",
        "plt.ylabel('Predict Label')"
      ],
      "metadata": {
        "colab": {
          "base_uri": "https://localhost:8080/",
          "height": 466
        },
        "id": "d-5QZTtwawti",
        "outputId": "a91bc329-bd6b-42ef-db04-e392f178fe7c"
      },
      "execution_count": 84,
      "outputs": [
        {
          "output_type": "execute_result",
          "data": {
            "text/plain": [
              "Text(113.9222222222222, 0.5, 'Predict Label')"
            ]
          },
          "metadata": {},
          "execution_count": 84
        },
        {
          "output_type": "display_data",
          "data": {
            "text/plain": [
              "<Figure size 640x480 with 1 Axes>"
            ],
            "image/png": "[encoded data removed]"
          },
          "metadata": {}
        }
      ]
    },
    {
      "cell_type": "code",
      "source": [
        "#siginifikan faktor dari model\n",
        "feat_importances=pd.Series(model_rf.feature_importances_,index=x.columns)\n",
        "feat_importances.nlargest(10).plot(kind='barh')"
      ],
      "metadata": {
        "colab": {
          "base_uri": "https://localhost:8080/",
          "height": 447
        },
        "id": "-RJ-mrpfa7PE",
        "outputId": "fb5c9d72-a37d-462b-c83d-4a1fad3d13be"
      },
      "execution_count": 85,
      "outputs": [
        {
          "output_type": "execute_result",
          "data": {
            "text/plain": [
              "<Axes: >"
            ]
          },
          "metadata": {},
          "execution_count": 85
        },
        {
          "output_type": "display_data",
          "data": {
            "text/plain": [
              "<Figure size 640x480 with 1 Axes>"
            ],
            "image/png": "[encoded data removed]"
          },
          "metadata": {}
        }
      ]
    },
    {
      "cell_type": "markdown",
      "source": [
        "## Hasil Evaluasi Pemodelan Random Forrest\n",
        "\n",
        "1.  Model **UNDERFIT** dalam mempredik orang yang **Tidak Gagal Bayar** akurasi sebesar 80%, sedangkan overall accuracy 76% jadi bisa disimpulkan bahwa model Underfit dalam mempredik orang yg TIDAK GAGAL BAYAR.\n",
        "\n",
        "2. Model **OVERFIT** dalam mempredik Orang yang GAGAL BAYAR. Hal ini ditunjukan nilai precisi 56% dan nilai accurasi overall 76%. Artinya precisi lebih rendah daripada accurasi (High accuracy and low precisi)\n",
        "\n",
        "3. Berdasarkan confustion matrix, maka model pintar dalam mem predict orang yang tidak gagal bayar.\n",
        "\n",
        "##KESIMPULAN : Model menggunakan Decision tree tidak bisa diimplementasi pada case ini."
      ],
      "metadata": {
        "id": "EIXibS7uU0AY"
      }
    },
    {
      "cell_type": "markdown",
      "source": [
        "##Hasil evaluasi setelah tuning model dengan menambahkan Hyperparameter\n",
        "1. Model dinilai tepat dalam memprediksi nilai 0 (orang yg TIDAK GAGAL BAYAR).\n",
        "2. Model masih overvit dalam mempredik nilai 1 (orang yg GAGAL BAYAR).\n",
        "3. Model Random Forest belum bisa diterapkan pada case ini."
      ],
      "metadata": {
        "id": "a6SfFk7EaGqd"
      }
    },
    {
      "cell_type": "markdown",
      "source": [
        "#Pemodelan SVM"
      ],
      "metadata": {
        "id": "2ddGg200bvCL"
      }
    },
    {
      "cell_type": "code",
      "source": [
        "# Import SVM\n",
        "from sklearn.svm import SVC"
      ],
      "metadata": {
        "id": "kjzLP6OqYeFi"
      },
      "execution_count": 86,
      "outputs": []
    },
    {
      "cell_type": "code",
      "source": [
        "#object SVM\n",
        "svm=SVC(kernel='linear',random_state=0)\n",
        "\n",
        "#training model\n",
        "model_svm=svm.fit(x_train,y_train)\n",
        "\n",
        "#predict model\n",
        "y_pred_svm=model_svm.predict(x_test)"
      ],
      "metadata": {
        "id": "G1GyYNnMeeMS"
      },
      "execution_count": 87,
      "outputs": []
    },
    {
      "cell_type": "code",
      "source": [
        "#evaluasi model SVM\n",
        "print(classification_report(y_test,y_pred_svm))"
      ],
      "metadata": {
        "colab": {
          "base_uri": "https://localhost:8080/"
        },
        "id": "21sPISxffZ4L",
        "outputId": "9fa0b91f-6011-475e-dc57-03fc142b1687"
      },
      "execution_count": 88,
      "outputs": [
        {
          "output_type": "stream",
          "name": "stdout",
          "text": [
            "              precision    recall  f1-score   support\n",
            "\n",
            "         0.0       0.82      0.95      0.88       155\n",
            "         1.0       0.73      0.40      0.52        55\n",
            "\n",
            "    accuracy                           0.80       210\n",
            "   macro avg       0.77      0.67      0.70       210\n",
            "weighted avg       0.79      0.80      0.78       210\n",
            "\n"
          ]
        }
      ]
    },
    {
      "cell_type": "code",
      "source": [
        "#memvisualisasikan confusion matrix\n",
        "mat=confusion_matrix(y_test,y_pred_svm)\n",
        "sns.heatmap(mat.T,square=True, annot=True, fmt='d', cbar=False)\n",
        "plt.xlabel('True Label')\n",
        "plt.ylabel('Predict Label')"
      ],
      "metadata": {
        "colab": {
          "base_uri": "https://localhost:8080/",
          "height": 466
        },
        "id": "8QGU08YrgFUv",
        "outputId": "15650508-5494-4a87-eeb4-a8ee71dfc512"
      },
      "execution_count": 89,
      "outputs": [
        {
          "output_type": "execute_result",
          "data": {
            "text/plain": [
              "Text(113.9222222222222, 0.5, 'Predict Label')"
            ]
          },
          "metadata": {},
          "execution_count": 89
        },
        {
          "output_type": "display_data",
          "data": {
            "text/plain": [
              "<Figure size 640x480 with 1 Axes>"
            ],
            "image/png": "[encoded data removed]"
          },
          "metadata": {}
        }
      ]
    },
    {
      "cell_type": "markdown",
      "source": [
        "## Hasil Evaluasi Pemodelan SVM\n",
        "\n",
        "1.  Model **AKURAT** dalam mempredik orang yang **Tidak Gagal Bayar** akurasi sebesar 82%, sedangkan overall accuracy 81% jadi bisa disimpulkan bahwa model tepat dalam mempredik orang yg TIDAK GAGAL BAYAR.\n",
        "\n",
        "2. Model **OVERFIT** dalam mempredik Orang yang GAGAL BAYAR. Hal ini ditunjukan nilai precisi 73% dan nilai accurasi overall 81%. Artinya precisi lebih rendah daripada accurasi (High accuracy and low precisi)\n",
        "\n",
        "3. Berdasarkan confustion matrix, maka model pintar dalam mem predict orang yang tidak gagal bayar."
      ],
      "metadata": {
        "id": "3nsF80eofj2C"
      }
    },
    {
      "cell_type": "markdown",
      "source": [
        "#Pemodelan XGBOOST"
      ],
      "metadata": {
        "id": "theQlyJMj9S2"
      }
    },
    {
      "cell_type": "code",
      "source": [
        "from xgboost import XGBClassifier"
      ],
      "metadata": {
        "id": "TFIE7jCmY-N0"
      },
      "execution_count": 90,
      "outputs": []
    },
    {
      "cell_type": "code",
      "source": [
        "#object XGboost XGBClassifier\n",
        "xgb=XGBClassifier()\n",
        "\n",
        "#training model\n",
        "model_xgb=xgb.fit(x_train,y_train)\n",
        "\n",
        "#predict model\n",
        "y_pred_xgb=model_xgb.predict(x_test)"
      ],
      "metadata": {
        "id": "lWkmLWSVhGFd"
      },
      "execution_count": 91,
      "outputs": []
    },
    {
      "cell_type": "code",
      "source": [
        "#evaluasi model random forest\n",
        "print(classification_report(y_test,y_pred_xgb))"
      ],
      "metadata": {
        "colab": {
          "base_uri": "https://localhost:8080/"
        },
        "id": "1svSftdMheKQ",
        "outputId": "9a77f3c1-1d3f-4d93-df4c-8b9617db95ef"
      },
      "execution_count": 92,
      "outputs": [
        {
          "output_type": "stream",
          "name": "stdout",
          "text": [
            "              precision    recall  f1-score   support\n",
            "\n",
            "         0.0       0.82      0.90      0.86       155\n",
            "         1.0       0.60      0.44      0.51        55\n",
            "\n",
            "    accuracy                           0.78       210\n",
            "   macro avg       0.71      0.67      0.68       210\n",
            "weighted avg       0.76      0.78      0.76       210\n",
            "\n"
          ]
        }
      ]
    },
    {
      "cell_type": "code",
      "source": [
        "#memvisualisasikan confusion matrix\n",
        "mat=confusion_matrix(y_test,y_pred_xgb)\n",
        "sns.heatmap(mat.T,square=True, annot=True, fmt='d', cbar=False)\n",
        "plt.xlabel('True Label')\n",
        "plt.ylabel('Predict Label')"
      ],
      "metadata": {
        "colab": {
          "base_uri": "https://localhost:8080/",
          "height": 466
        },
        "id": "-LEo03KPhbgS",
        "outputId": "c30d2972-c18f-44ac-d65b-e18202d135f3"
      },
      "execution_count": 93,
      "outputs": [
        {
          "output_type": "execute_result",
          "data": {
            "text/plain": [
              "Text(113.9222222222222, 0.5, 'Predict Label')"
            ]
          },
          "metadata": {},
          "execution_count": 93
        },
        {
          "output_type": "display_data",
          "data": {
            "text/plain": [
              "<Figure size 640x480 with 1 Axes>"
            ],
            "image/png": "[encoded data removed]"
          },
          "metadata": {}
        }
      ]
    },
    {
      "cell_type": "code",
      "source": [
        "#siginifikan faktor dari model\n",
        "feat_importances=pd.Series(model_xgb.feature_importances_,index=x.columns)\n",
        "feat_importances.nlargest(10).plot(kind='barh')"
      ],
      "metadata": {
        "colab": {
          "base_uri": "https://localhost:8080/",
          "height": 447
        },
        "id": "LjuVroaVhcsx",
        "outputId": "fa2c5e3f-298e-42c0-bda8-079785effa83"
      },
      "execution_count": 94,
      "outputs": [
        {
          "output_type": "execute_result",
          "data": {
            "text/plain": [
              "<Axes: >"
            ]
          },
          "metadata": {},
          "execution_count": 94
        },
        {
          "output_type": "display_data",
          "data": {
            "text/plain": [
              "<Figure size 640x480 with 1 Axes>"
            ],
            "image/png": "[encoded data removed]"
          },
          "metadata": {}
        }
      ]
    },
    {
      "cell_type": "markdown",
      "source": [
        "## Hasil Evaluasi Pemodelan XGBOOST\n",
        "\n",
        "1.  Model **UNDERFIT** dalam mempredik orang yang **Tidak Gagal Bayar** akurasi sebesar 78%, sedangkan overall accuracy 82% jadi bisa disimpulkan bahwa model tepat dalam mempredik orang yg TIDAK GAGAL BAYAR.\n",
        "\n",
        "2. Model **OVERFIT** dalam mempredik Orang yang GAGAL BAYAR. Hal ini ditunjukan nilai precisi 78% dan nilai accurasi overall 60%. Artinya precisi lebih rendah daripada accurasi (High accuracy and low precisi)\n",
        "\n",
        "3. Berdasarkan confustion matrix, maka model pintar dalam mem predict orang yang tidak gagal bayar."
      ],
      "metadata": {
        "id": "GEzCtl0eiZGb"
      }
    },
    {
      "cell_type": "markdown",
      "source": [
        "#KESIMPULAN :\n",
        "\n",
        "Kita akan menggunakan **model SVM** untuk implementasi mesin learning dalam memutuskan mana nasabah yg akan diterima permohonan kreditnya."
      ],
      "metadata": {
        "id": "SW_GGYq5kNHs"
      }
    },
    {
      "cell_type": "markdown",
      "source": [
        "##Implementasi Machine Learning Model SVM"
      ],
      "metadata": {
        "id": "DVijHbUNmOqw"
      }
    },
    {
      "cell_type": "code",
      "source": [
        "#load data new nasabah to colab\n",
        "path_newNasabah= '/content/drive/MyDrive/DataSource/credit_risk_newCust.csv'\n",
        "\n",
        "load_data_newNasabah=pd.read_csv(path_newNasabah, delimiter=\",\")\n",
        "load_data_newNasabah"
      ],
      "metadata": {
        "colab": {
          "base_uri": "https://localhost:8080/",
          "height": 461
        },
        "id": "pgGik1ONmjAv",
        "outputId": "53959286-5ae7-4df4-8455-90df11accbde"
      },
      "execution_count": 95,
      "outputs": [
        {
          "output_type": "execute_result",
          "data": {
            "text/plain": [
              "     Unnamed: 0  age  ed  employ  address  income  debtinc  creddebt  \\\n",
              "0           700   36   1      16       13      32     10.9  0.544128   \n",
              "1           701   50   1       6       27      21     12.9  1.316574   \n",
              "2           702   40   1       9        9      33     17.0  4.880700   \n",
              "3           703   31   1       5        7      23      2.0  0.046000   \n",
              "4           704   29   1       4        0      24      7.8  0.866736   \n",
              "..          ...  ...  ..     ...      ...     ...      ...       ...   \n",
              "145         845   34   1      12       15      32      2.7  0.239328   \n",
              "146         846   32   2      12       11     116      5.7  4.026708   \n",
              "147         847   48   1      13       11      38     10.8  0.722304   \n",
              "148         848   35   2       1       11      24      7.8  0.417456   \n",
              "149         849   37   1      20       13      41     12.9  0.899130   \n",
              "\n",
              "      othdebt  default  \n",
              "0    2.943872      NaN  \n",
              "1    1.392426      NaN  \n",
              "2    0.729300      NaN  \n",
              "3    0.414000      NaN  \n",
              "4    1.005264      NaN  \n",
              "..        ...      ...  \n",
              "145  0.624672      NaN  \n",
              "146  2.585292      NaN  \n",
              "147  3.381696      NaN  \n",
              "148  1.454544      NaN  \n",
              "149  4.389870      NaN  \n",
              "\n",
              "[150 rows x 10 columns]"
            ],
            "text/html": [
              "\n",
              "  <div id=\"df-3595cc4b-d6fd-48ad-a864-c1a7d777b1d0\" class=\"colab-df-container\">\n",
              "    <div>\n",
              "<style scoped>\n",
              "    .dataframe tbody tr th:only-of-type {\n",
              "        vertical-align: middle;\n",
              "    }\n",
              "\n",
              "    .dataframe tbody tr th {\n",
              "        vertical-align: top;\n",
              "    }\n",
              "\n",
              "    .dataframe thead th {\n",
              "        text-align: right;\n",
              "    }\n",
              "</style>\n",
              "<table border=\"1\" class=\"dataframe\">\n",
              "  <thead>\n",
              "    <tr style=\"text-align: right;\">\n",
              "      <th></th>\n",
              "      <th>Unnamed: 0</th>\n",
              "      <th>age</th>\n",
              "      <th>ed</th>\n",
              "      <th>employ</th>\n",
              "      <th>address</th>\n",
              "      <th>income</th>\n",
              "      <th>debtinc</th>\n",
              "      <th>creddebt</th>\n",
              "      <th>othdebt</th>\n",
              "      <th>default</th>\n",
              "    </tr>\n",
              "  </thead>\n",
              "  <tbody>\n",
              "    <tr>\n",
              "      <th>0</th>\n",
              "      <td>700</td>\n",
              "      <td>36</td>\n",
              "      <td>1</td>\n",
              "      <td>16</td>\n",
              "      <td>13</td>\n",
              "      <td>32</td>\n",
              "      <td>10.9</td>\n",
              "      <td>0.544128</td>\n",
              "      <td>2.943872</td>\n",
              "      <td>NaN</td>\n",
              "    </tr>\n",
              "    <tr>\n",
              "      <th>1</th>\n",
              "      <td>701</td>\n",
              "      <td>50</td>\n",
              "      <td>1</td>\n",
              "      <td>6</td>\n",
              "      <td>27</td>\n",
              "      <td>21</td>\n",
              "      <td>12.9</td>\n",
              "      <td>1.316574</td>\n",
              "      <td>1.392426</td>\n",
              "      <td>NaN</td>\n",
              "    </tr>\n",
              "    <tr>\n",
              "      <th>2</th>\n",
              "      <td>702</td>\n",
              "      <td>40</td>\n",
              "      <td>1</td>\n",
              "      <td>9</td>\n",
              "      <td>9</td>\n",
              "      <td>33</td>\n",
              "      <td>17.0</td>\n",
              "      <td>4.880700</td>\n",
              "      <td>0.729300</td>\n",
              "      <td>NaN</td>\n",
              "    </tr>\n",
              "    <tr>\n",
              "      <th>3</th>\n",
              "      <td>703</td>\n",
              "      <td>31</td>\n",
              "      <td>1</td>\n",
              "      <td>5</td>\n",
              "      <td>7</td>\n",
              "      <td>23</td>\n",
              "      <td>2.0</td>\n",
              "      <td>0.046000</td>\n",
              "      <td>0.414000</td>\n",
              "      <td>NaN</td>\n",
              "    </tr>\n",
              "    <tr>\n",
              "      <th>4</th>\n",
              "      <td>704</td>\n",
              "      <td>29</td>\n",
              "      <td>1</td>\n",
              "      <td>4</td>\n",
              "      <td>0</td>\n",
              "      <td>24</td>\n",
              "      <td>7.8</td>\n",
              "      <td>0.866736</td>\n",
              "      <td>1.005264</td>\n",
              "      <td>NaN</td>\n",
              "    </tr>\n",
              "    <tr>\n",
              "      <th>...</th>\n",
              "      <td>...</td>\n",
              "      <td>...</td>\n",
              "      <td>...</td>\n",
              "      <td>...</td>\n",
              "      <td>...</td>\n",
              "      <td>...</td>\n",
              "      <td>...</td>\n",
              "      <td>...</td>\n",
              "      <td>...</td>\n",
              "      <td>...</td>\n",
              "    </tr>\n",
              "    <tr>\n",
              "      <th>145</th>\n",
              "      <td>845</td>\n",
              "      <td>34</td>\n",
              "      <td>1</td>\n",
              "      <td>12</td>\n",
              "      <td>15</td>\n",
              "      <td>32</td>\n",
              "      <td>2.7</td>\n",
              "      <td>0.239328</td>\n",
              "      <td>0.624672</td>\n",
              "      <td>NaN</td>\n",
              "    </tr>\n",
              "    <tr>\n",
              "      <th>146</th>\n",
              "      <td>846</td>\n",
              "      <td>32</td>\n",
              "      <td>2</td>\n",
              "      <td>12</td>\n",
              "      <td>11</td>\n",
              "      <td>116</td>\n",
              "      <td>5.7</td>\n",
              "      <td>4.026708</td>\n",
              "      <td>2.585292</td>\n",
              "      <td>NaN</td>\n",
              "    </tr>\n",
              "    <tr>\n",
              "      <th>147</th>\n",
              "      <td>847</td>\n",
              "      <td>48</td>\n",
              "      <td>1</td>\n",
              "      <td>13</td>\n",
              "      <td>11</td>\n",
              "      <td>38</td>\n",
              "      <td>10.8</td>\n",
              "      <td>0.722304</td>\n",
              "      <td>3.381696</td>\n",
              "      <td>NaN</td>\n",
              "    </tr>\n",
              "    <tr>\n",
              "      <th>148</th>\n",
              "      <td>848</td>\n",
              "      <td>35</td>\n",
              "      <td>2</td>\n",
              "      <td>1</td>\n",
              "      <td>11</td>\n",
              "      <td>24</td>\n",
              "      <td>7.8</td>\n",
              "      <td>0.417456</td>\n",
              "      <td>1.454544</td>\n",
              "      <td>NaN</td>\n",
              "    </tr>\n",
              "    <tr>\n",
              "      <th>149</th>\n",
              "      <td>849</td>\n",
              "      <td>37</td>\n",
              "      <td>1</td>\n",
              "      <td>20</td>\n",
              "      <td>13</td>\n",
              "      <td>41</td>\n",
              "      <td>12.9</td>\n",
              "      <td>0.899130</td>\n",
              "      <td>4.389870</td>\n",
              "      <td>NaN</td>\n",
              "    </tr>\n",
              "  </tbody>\n",
              "</table>\n",
              "<p>150 rows × 10 columns</p>\n",
              "</div>\n",
              "    <div class=\"colab-df-buttons\">\n",
              "\n",
              "  <div class=\"colab-df-container\">\n",
              "    <button class=\"colab-df-convert\" onclick=\"convertToInteractive('df-3595cc4b-d6fd-48ad-a864-c1a7d777b1d0')\"\n",
              "            title=\"Convert this dataframe to an interactive table.\"\n",
              "            style=\"display:none;\">\n",
              "\n",
              "  <svg xmlns=\"http://www.w3.org/2000/svg\" height=\"24px\" viewBox=\"0 -960 960 960\">\n",
              "    <path d=\"M120-120v-720h720v720H120Zm60-500h600v-160H180v160Zm220 220h160v-160H400v160Zm0 220h160v-160H400v160ZM180-400h160v-160H180v160Zm440 0h160v-160H620v160ZM180-180h160v-160H180v160Zm440 0h160v-160H620v160Z\"/>\n",
              "  </svg>\n",
              "    </button>\n",
              "\n",
              "  <style>\n",
              "    .colab-df-container {\n",
              "      display:flex;\n",
              "      gap: 12px;\n",
              "    }\n",
              "\n",
              "    .colab-df-convert {\n",
              "      background-color: #E8F0FE;\n",
              "      border: none;\n",
              "      border-radius: 50%;\n",
              "      cursor: pointer;\n",
              "      display: none;\n",
              "      fill: #1967D2;\n",
              "      height: 32px;\n",
              "      padding: 0 0 0 0;\n",
              "      width: 32px;\n",
              "    }\n",
              "\n",
              "    .colab-df-convert:hover {\n",
              "      background-color: #E2EBFA;\n",
              "      box-shadow: 0px 1px 2px rgba(60, 64, 67, 0.3), 0px 1px 3px 1px rgba(60, 64, 67, 0.15);\n",
              "      fill: #174EA6;\n",
              "    }\n",
              "\n",
              "    .colab-df-buttons div {\n",
              "      margin-bottom: 4px;\n",
              "    }\n",
              "\n",
              "    [theme=dark] .colab-df-convert {\n",
              "      background-color: #3B4455;\n",
              "      fill: #D2E3FC;\n",
              "    }\n",
              "\n",
              "    [theme=dark] .colab-df-convert:hover {\n",
              "      background-color: #434B5C;\n",
              "      box-shadow: 0px 1px 3px 1px rgba(0, 0, 0, 0.15);\n",
              "      filter: drop-shadow(0px 1px 2px rgba(0, 0, 0, 0.3));\n",
              "      fill: #FFFFFF;\n",
              "    }\n",
              "  </style>\n",
              "\n",
              "    <script>\n",
              "      const buttonEl =\n",
              "        document.querySelector('#df-3595cc4b-d6fd-48ad-a864-c1a7d777b1d0 button.colab-df-convert');\n",
              "      buttonEl.style.display =\n",
              "        google.colab.kernel.accessAllowed ? 'block' : 'none';\n",
              "\n",
              "      async function convertToInteractive(key) {\n",
              "        const element = document.querySelector('#df-3595cc4b-d6fd-48ad-a864-c1a7d777b1d0');\n",
              "        const dataTable =\n",
              "          await google.colab.kernel.invokeFunction('convertToInteractive',\n",
              "                                                    [key], {});\n",
              "        if (!dataTable) return;\n",
              "\n",
              "        const docLinkHtml = 'Like what you see? Visit the ' +\n",
              "          '<a target=\"_blank\" href=https://colab.research.google.com/notebooks/data_table.ipynb>data table notebook</a>'\n",
              "          + ' to learn more about interactive tables.';\n",
              "        element.innerHTML = '';\n",
              "        dataTable['output_type'] = 'display_data';\n",
              "        await google.colab.output.renderOutput(dataTable, element);\n",
              "        const docLink = document.createElement('div');\n",
              "        docLink.innerHTML = docLinkHtml;\n",
              "        element.appendChild(docLink);\n",
              "      }\n",
              "    </script>\n",
              "  </div>\n",
              "\n",
              "\n",
              "<div id=\"df-3fb6b24e-0118-4544-af73-591a34f8ebc7\">\n",
              "  <button class=\"colab-df-quickchart\" onclick=\"quickchart('df-3fb6b24e-0118-4544-af73-591a34f8ebc7')\"\n",
              "            title=\"Suggest charts.\"\n",
              "            style=\"display:none;\">\n",
              "\n",
              "<svg xmlns=\"http://www.w3.org/2000/svg\" height=\"24px\"viewBox=\"0 0 24 24\"\n",
              "     width=\"24px\">\n",
              "    <g>\n",
              "        <path d=\"M19 3H5c-1.1 0-2 .9-2 2v14c0 1.1.9 2 2 2h14c1.1 0 2-.9 2-2V5c0-1.1-.9-2-2-2zM9 17H7v-7h2v7zm4 0h-2V7h2v10zm4 0h-2v-4h2v4z\"/>\n",
              "    </g>\n",
              "</svg>\n",
              "  </button>\n",
              "\n",
              "<style>\n",
              "  .colab-df-quickchart {\n",
              "      --bg-color: #E8F0FE;\n",
              "      --fill-color: #1967D2;\n",
              "      --hover-bg-color: #E2EBFA;\n",
              "      --hover-fill-color: #174EA6;\n",
              "      --disabled-fill-color: #AAA;\n",
              "      --disabled-bg-color: #DDD;\n",
              "  }\n",
              "\n",
              "  [theme=dark] .colab-df-quickchart {\n",
              "      --bg-color: #3B4455;\n",
              "      --fill-color: #D2E3FC;\n",
              "      --hover-bg-color: #434B5C;\n",
              "      --hover-fill-color: #FFFFFF;\n",
              "      --disabled-bg-color: #3B4455;\n",
              "      --disabled-fill-color: #666;\n",
              "  }\n",
              "\n",
              "  .colab-df-quickchart {\n",
              "    background-color: var(--bg-color);\n",
              "    border: none;\n",
              "    border-radius: 50%;\n",
              "    cursor: pointer;\n",
              "    display: none;\n",
              "    fill: var(--fill-color);\n",
              "    height: 32px;\n",
              "    padding: 0;\n",
              "    width: 32px;\n",
              "  }\n",
              "\n",
              "  .colab-df-quickchart:hover {\n",
              "    background-color: var(--hover-bg-color);\n",
              "    box-shadow: 0 1px 2px rgba(60, 64, 67, 0.3), 0 1px 3px 1px rgba(60, 64, 67, 0.15);\n",
              "    fill: var(--button-hover-fill-color);\n",
              "  }\n",
              "\n",
              "  .colab-df-quickchart-complete:disabled,\n",
              "  .colab-df-quickchart-complete:disabled:hover {\n",
              "    background-color: var(--disabled-bg-color);\n",
              "    fill: var(--disabled-fill-color);\n",
              "    box-shadow: none;\n",
              "  }\n",
              "\n",
              "  .colab-df-spinner {\n",
              "    border: 2px solid var(--fill-color);\n",
              "    border-color: transparent;\n",
              "    border-bottom-color: var(--fill-color);\n",
              "    animation:\n",
              "      spin 1s steps(1) infinite;\n",
              "  }\n",
              "\n",
              "  @keyframes spin {\n",
              "    0% {\n",
              "      border-color: transparent;\n",
              "      border-bottom-color: var(--fill-color);\n",
              "      border-left-color: var(--fill-color);\n",
              "    }\n",
              "    20% {\n",
              "      border-color: transparent;\n",
              "      border-left-color: var(--fill-color);\n",
              "      border-top-color: var(--fill-color);\n",
              "    }\n",
              "    30% {\n",
              "      border-color: transparent;\n",
              "      border-left-color: var(--fill-color);\n",
              "      border-top-color: var(--fill-color);\n",
              "      border-right-color: var(--fill-color);\n",
              "    }\n",
              "    40% {\n",
              "      border-color: transparent;\n",
              "      border-right-color: var(--fill-color);\n",
              "      border-top-color: var(--fill-color);\n",
              "    }\n",
              "    60% {\n",
              "      border-color: transparent;\n",
              "      border-right-color: var(--fill-color);\n",
              "    }\n",
              "    80% {\n",
              "      border-color: transparent;\n",
              "      border-right-color: var(--fill-color);\n",
              "      border-bottom-color: var(--fill-color);\n",
              "    }\n",
              "    90% {\n",
              "      border-color: transparent;\n",
              "      border-bottom-color: var(--fill-color);\n",
              "    }\n",
              "  }\n",
              "</style>\n",
              "\n",
              "  <script>\n",
              "    async function quickchart(key) {\n",
              "      const quickchartButtonEl =\n",
              "        document.querySelector('#' + key + ' button');\n",
              "      quickchartButtonEl.disabled = true;  // To prevent multiple clicks.\n",
              "      quickchartButtonEl.classList.add('colab-df-spinner');\n",
              "      try {\n",
              "        const charts = await google.colab.kernel.invokeFunction(\n",
              "            'suggestCharts', [key], {});\n",
              "      } catch (error) {\n",
              "        console.error('Error during call to suggestCharts:', error);\n",
              "      }\n",
              "      quickchartButtonEl.classList.remove('colab-df-spinner');\n",
              "      quickchartButtonEl.classList.add('colab-df-quickchart-complete');\n",
              "    }\n",
              "    (() => {\n",
              "      let quickchartButtonEl =\n",
              "        document.querySelector('#df-3fb6b24e-0118-4544-af73-591a34f8ebc7 button');\n",
              "      quickchartButtonEl.style.display =\n",
              "        google.colab.kernel.accessAllowed ? 'block' : 'none';\n",
              "    })();\n",
              "  </script>\n",
              "</div>\n",
              "    </div>\n",
              "  </div>\n"
            ]
          },
          "metadata": {},
          "execution_count": 95
        }
      ]
    },
    {
      "cell_type": "code",
      "source": [
        "df_NewNasabah=pd.DataFrame(load_data_newNasabah)\n",
        "df_NewNasabah.info()"
      ],
      "metadata": {
        "colab": {
          "base_uri": "https://localhost:8080/"
        },
        "id": "kl6DTMWKnEkt",
        "outputId": "d445f07c-81c2-431f-f20f-1eddd796743b"
      },
      "execution_count": 96,
      "outputs": [
        {
          "output_type": "stream",
          "name": "stdout",
          "text": [
            "<class 'pandas.core.frame.DataFrame'>\n",
            "RangeIndex: 150 entries, 0 to 149\n",
            "Data columns (total 10 columns):\n",
            " #   Column      Non-Null Count  Dtype  \n",
            "---  ------      --------------  -----  \n",
            " 0   Unnamed: 0  150 non-null    int64  \n",
            " 1   age         150 non-null    int64  \n",
            " 2   ed          150 non-null    int64  \n",
            " 3   employ      150 non-null    int64  \n",
            " 4   address     150 non-null    int64  \n",
            " 5   income      150 non-null    int64  \n",
            " 6   debtinc     150 non-null    float64\n",
            " 7   creddebt    150 non-null    float64\n",
            " 8   othdebt     150 non-null    float64\n",
            " 9   default     0 non-null      float64\n",
            "dtypes: float64(4), int64(6)\n",
            "memory usage: 11.8 KB\n"
          ]
        }
      ]
    },
    {
      "cell_type": "code",
      "source": [
        "#input variabel\n",
        "x1=df_NewNasabah[['age', 'ed', 'employ', 'address', 'debtinc', 'creddebt', 'othdebt']]"
      ],
      "metadata": {
        "id": "-pAjY9D_nS2C"
      },
      "execution_count": 97,
      "outputs": []
    },
    {
      "cell_type": "markdown",
      "source": [
        "##Applying Model SVM"
      ],
      "metadata": {
        "id": "etXzoVd-nsuH"
      }
    },
    {
      "cell_type": "code",
      "source": [
        "y_predict_newNasabah=model_svm.predict(x1)\n",
        "y_predict_newNasabah"
      ],
      "metadata": {
        "colab": {
          "base_uri": "https://localhost:8080/"
        },
        "id": "QxsvioKinv5c",
        "outputId": "c579022b-2c38-4ca6-b651-b46571313720"
      },
      "execution_count": 98,
      "outputs": [
        {
          "output_type": "execute_result",
          "data": {
            "text/plain": [
              "array([0., 0., 1., 0., 0., 0., 0., 1., 0., 0., 0., 0., 0., 0., 0., 0., 1.,\n",
              "       0., 0., 0., 0., 0., 0., 0., 0., 0., 0., 0., 0., 0., 0., 0., 1., 0.,\n",
              "       0., 0., 0., 0., 0., 0., 1., 0., 0., 0., 0., 1., 0., 0., 0., 0., 0.,\n",
              "       0., 0., 0., 0., 0., 1., 0., 0., 0., 0., 0., 0., 1., 0., 0., 0., 0.,\n",
              "       0., 0., 1., 0., 0., 1., 0., 0., 0., 1., 0., 0., 0., 1., 0., 1., 1.,\n",
              "       0., 0., 0., 0., 1., 0., 0., 0., 0., 0., 0., 0., 0., 0., 0., 0., 1.,\n",
              "       0., 1., 0., 0., 0., 1., 0., 0., 1., 0., 0., 0., 0., 0., 0., 0., 0.,\n",
              "       0., 0., 0., 1., 0., 0., 0., 1., 0., 0., 0., 0., 0., 0., 0., 0., 0.,\n",
              "       1., 0., 0., 0., 1., 0., 0., 0., 0., 0., 0., 0., 0., 0.])"
            ]
          },
          "metadata": {},
          "execution_count": 98
        }
      ]
    },
    {
      "cell_type": "code",
      "source": [
        "#mengubah hasil pemodelan yg berbentuk array menjadi dataframe\n",
        "df_predict_newNasabah=pd.DataFrame({'Prediction_GagalBayar':y_predict_newNasabah}).round(2)\n",
        "df_predict_newNasabah"
      ],
      "metadata": {
        "colab": {
          "base_uri": "https://localhost:8080/",
          "height": 423
        },
        "id": "BoTDNVt-oUF4",
        "outputId": "8cc7bb5f-e441-406d-b36a-f93190d7e78f"
      },
      "execution_count": 99,
      "outputs": [
        {
          "output_type": "execute_result",
          "data": {
            "text/plain": [
              "     Prediction_GagalBayar\n",
              "0                      0.0\n",
              "1                      0.0\n",
              "2                      1.0\n",
              "3                      0.0\n",
              "4                      0.0\n",
              "..                     ...\n",
              "145                    0.0\n",
              "146                    0.0\n",
              "147                    0.0\n",
              "148                    0.0\n",
              "149                    0.0\n",
              "\n",
              "[150 rows x 1 columns]"
            ],
            "text/html": [
              "\n",
              "  <div id=\"df-d225d44c-88fa-4dc7-87e0-cc6520811d03\" class=\"colab-df-container\">\n",
              "    <div>\n",
              "<style scoped>\n",
              "    .dataframe tbody tr th:only-of-type {\n",
              "        vertical-align: middle;\n",
              "    }\n",
              "\n",
              "    .dataframe tbody tr th {\n",
              "        vertical-align: top;\n",
              "    }\n",
              "\n",
              "    .dataframe thead th {\n",
              "        text-align: right;\n",
              "    }\n",
              "</style>\n",
              "<table border=\"1\" class=\"dataframe\">\n",
              "  <thead>\n",
              "    <tr style=\"text-align: right;\">\n",
              "      <th></th>\n",
              "      <th>Prediction_GagalBayar</th>\n",
              "    </tr>\n",
              "  </thead>\n",
              "  <tbody>\n",
              "    <tr>\n",
              "      <th>0</th>\n",
              "      <td>0.0</td>\n",
              "    </tr>\n",
              "    <tr>\n",
              "      <th>1</th>\n",
              "      <td>0.0</td>\n",
              "    </tr>\n",
              "    <tr>\n",
              "      <th>2</th>\n",
              "      <td>1.0</td>\n",
              "    </tr>\n",
              "    <tr>\n",
              "      <th>3</th>\n",
              "      <td>0.0</td>\n",
              "    </tr>\n",
              "    <tr>\n",
              "      <th>4</th>\n",
              "      <td>0.0</td>\n",
              "    </tr>\n",
              "    <tr>\n",
              "      <th>...</th>\n",
              "      <td>...</td>\n",
              "    </tr>\n",
              "    <tr>\n",
              "      <th>145</th>\n",
              "      <td>0.0</td>\n",
              "    </tr>\n",
              "    <tr>\n",
              "      <th>146</th>\n",
              "      <td>0.0</td>\n",
              "    </tr>\n",
              "    <tr>\n",
              "      <th>147</th>\n",
              "      <td>0.0</td>\n",
              "    </tr>\n",
              "    <tr>\n",
              "      <th>148</th>\n",
              "      <td>0.0</td>\n",
              "    </tr>\n",
              "    <tr>\n",
              "      <th>149</th>\n",
              "      <td>0.0</td>\n",
              "    </tr>\n",
              "  </tbody>\n",
              "</table>\n",
              "<p>150 rows × 1 columns</p>\n",
              "</div>\n",
              "    <div class=\"colab-df-buttons\">\n",
              "\n",
              "  <div class=\"colab-df-container\">\n",
              "    <button class=\"colab-df-convert\" onclick=\"convertToInteractive('df-d225d44c-88fa-4dc7-87e0-cc6520811d03')\"\n",
              "            title=\"Convert this dataframe to an interactive table.\"\n",
              "            style=\"display:none;\">\n",
              "\n",
              "  <svg xmlns=\"http://www.w3.org/2000/svg\" height=\"24px\" viewBox=\"0 -960 960 960\">\n",
              "    <path d=\"M120-120v-720h720v720H120Zm60-500h600v-160H180v160Zm220 220h160v-160H400v160Zm0 220h160v-160H400v160ZM180-400h160v-160H180v160Zm440 0h160v-160H620v160ZM180-180h160v-160H180v160Zm440 0h160v-160H620v160Z\"/>\n",
              "  </svg>\n",
              "    </button>\n",
              "\n",
              "  <style>\n",
              "    .colab-df-container {\n",
              "      display:flex;\n",
              "      gap: 12px;\n",
              "    }\n",
              "\n",
              "    .colab-df-convert {\n",
              "      background-color: #E8F0FE;\n",
              "      border: none;\n",
              "      border-radius: 50%;\n",
              "      cursor: pointer;\n",
              "      display: none;\n",
              "      fill: #1967D2;\n",
              "      height: 32px;\n",
              "      padding: 0 0 0 0;\n",
              "      width: 32px;\n",
              "    }\n",
              "\n",
              "    .colab-df-convert:hover {\n",
              "      background-color: #E2EBFA;\n",
              "      box-shadow: 0px 1px 2px rgba(60, 64, 67, 0.3), 0px 1px 3px 1px rgba(60, 64, 67, 0.15);\n",
              "      fill: #174EA6;\n",
              "    }\n",
              "\n",
              "    .colab-df-buttons div {\n",
              "      margin-bottom: 4px;\n",
              "    }\n",
              "\n",
              "    [theme=dark] .colab-df-convert {\n",
              "      background-color: #3B4455;\n",
              "      fill: #D2E3FC;\n",
              "    }\n",
              "\n",
              "    [theme=dark] .colab-df-convert:hover {\n",
              "      background-color: #434B5C;\n",
              "      box-shadow: 0px 1px 3px 1px rgba(0, 0, 0, 0.15);\n",
              "      filter: drop-shadow(0px 1px 2px rgba(0, 0, 0, 0.3));\n",
              "      fill: #FFFFFF;\n",
              "    }\n",
              "  </style>\n",
              "\n",
              "    <script>\n",
              "      const buttonEl =\n",
              "        document.querySelector('#df-d225d44c-88fa-4dc7-87e0-cc6520811d03 button.colab-df-convert');\n",
              "      buttonEl.style.display =\n",
              "        google.colab.kernel.accessAllowed ? 'block' : 'none';\n",
              "\n",
              "      async function convertToInteractive(key) {\n",
              "        const element = document.querySelector('#df-d225d44c-88fa-4dc7-87e0-cc6520811d03');\n",
              "        const dataTable =\n",
              "          await google.colab.kernel.invokeFunction('convertToInteractive',\n",
              "                                                    [key], {});\n",
              "        if (!dataTable) return;\n",
              "\n",
              "        const docLinkHtml = 'Like what you see? Visit the ' +\n",
              "          '<a target=\"_blank\" href=https://colab.research.google.com/notebooks/data_table.ipynb>data table notebook</a>'\n",
              "          + ' to learn more about interactive tables.';\n",
              "        element.innerHTML = '';\n",
              "        dataTable['output_type'] = 'display_data';\n",
              "        await google.colab.output.renderOutput(dataTable, element);\n",
              "        const docLink = document.createElement('div');\n",
              "        docLink.innerHTML = docLinkHtml;\n",
              "        element.appendChild(docLink);\n",
              "      }\n",
              "    </script>\n",
              "  </div>\n",
              "\n",
              "\n",
              "<div id=\"df-ba82c351-cd4c-4c96-ae90-4c466161c090\">\n",
              "  <button class=\"colab-df-quickchart\" onclick=\"quickchart('df-ba82c351-cd4c-4c96-ae90-4c466161c090')\"\n",
              "            title=\"Suggest charts.\"\n",
              "            style=\"display:none;\">\n",
              "\n",
              "<svg xmlns=\"http://www.w3.org/2000/svg\" height=\"24px\"viewBox=\"0 0 24 24\"\n",
              "     width=\"24px\">\n",
              "    <g>\n",
              "        <path d=\"M19 3H5c-1.1 0-2 .9-2 2v14c0 1.1.9 2 2 2h14c1.1 0 2-.9 2-2V5c0-1.1-.9-2-2-2zM9 17H7v-7h2v7zm4 0h-2V7h2v10zm4 0h-2v-4h2v4z\"/>\n",
              "    </g>\n",
              "</svg>\n",
              "  </button>\n",
              "\n",
              "<style>\n",
              "  .colab-df-quickchart {\n",
              "      --bg-color: #E8F0FE;\n",
              "      --fill-color: #1967D2;\n",
              "      --hover-bg-color: #E2EBFA;\n",
              "      --hover-fill-color: #174EA6;\n",
              "      --disabled-fill-color: #AAA;\n",
              "      --disabled-bg-color: #DDD;\n",
              "  }\n",
              "\n",
              "  [theme=dark] .colab-df-quickchart {\n",
              "      --bg-color: #3B4455;\n",
              "      --fill-color: #D2E3FC;\n",
              "      --hover-bg-color: #434B5C;\n",
              "      --hover-fill-color: #FFFFFF;\n",
              "      --disabled-bg-color: #3B4455;\n",
              "      --disabled-fill-color: #666;\n",
              "  }\n",
              "\n",
              "  .colab-df-quickchart {\n",
              "    background-color: var(--bg-color);\n",
              "    border: none;\n",
              "    border-radius: 50%;\n",
              "    cursor: pointer;\n",
              "    display: none;\n",
              "    fill: var(--fill-color);\n",
              "    height: 32px;\n",
              "    padding: 0;\n",
              "    width: 32px;\n",
              "  }\n",
              "\n",
              "  .colab-df-quickchart:hover {\n",
              "    background-color: var(--hover-bg-color);\n",
              "    box-shadow: 0 1px 2px rgba(60, 64, 67, 0.3), 0 1px 3px 1px rgba(60, 64, 67, 0.15);\n",
              "    fill: var(--button-hover-fill-color);\n",
              "  }\n",
              "\n",
              "  .colab-df-quickchart-complete:disabled,\n",
              "  .colab-df-quickchart-complete:disabled:hover {\n",
              "    background-color: var(--disabled-bg-color);\n",
              "    fill: var(--disabled-fill-color);\n",
              "    box-shadow: none;\n",
              "  }\n",
              "\n",
              "  .colab-df-spinner {\n",
              "    border: 2px solid var(--fill-color);\n",
              "    border-color: transparent;\n",
              "    border-bottom-color: var(--fill-color);\n",
              "    animation:\n",
              "      spin 1s steps(1) infinite;\n",
              "  }\n",
              "\n",
              "  @keyframes spin {\n",
              "    0% {\n",
              "      border-color: transparent;\n",
              "      border-bottom-color: var(--fill-color);\n",
              "      border-left-color: var(--fill-color);\n",
              "    }\n",
              "    20% {\n",
              "      border-color: transparent;\n",
              "      border-left-color: var(--fill-color);\n",
              "      border-top-color: var(--fill-color);\n",
              "    }\n",
              "    30% {\n",
              "      border-color: transparent;\n",
              "      border-left-color: var(--fill-color);\n",
              "      border-top-color: var(--fill-color);\n",
              "      border-right-color: var(--fill-color);\n",
              "    }\n",
              "    40% {\n",
              "      border-color: transparent;\n",
              "      border-right-color: var(--fill-color);\n",
              "      border-top-color: var(--fill-color);\n",
              "    }\n",
              "    60% {\n",
              "      border-color: transparent;\n",
              "      border-right-color: var(--fill-color);\n",
              "    }\n",
              "    80% {\n",
              "      border-color: transparent;\n",
              "      border-right-color: var(--fill-color);\n",
              "      border-bottom-color: var(--fill-color);\n",
              "    }\n",
              "    90% {\n",
              "      border-color: transparent;\n",
              "      border-bottom-color: var(--fill-color);\n",
              "    }\n",
              "  }\n",
              "</style>\n",
              "\n",
              "  <script>\n",
              "    async function quickchart(key) {\n",
              "      const quickchartButtonEl =\n",
              "        document.querySelector('#' + key + ' button');\n",
              "      quickchartButtonEl.disabled = true;  // To prevent multiple clicks.\n",
              "      quickchartButtonEl.classList.add('colab-df-spinner');\n",
              "      try {\n",
              "        const charts = await google.colab.kernel.invokeFunction(\n",
              "            'suggestCharts', [key], {});\n",
              "      } catch (error) {\n",
              "        console.error('Error during call to suggestCharts:', error);\n",
              "      }\n",
              "      quickchartButtonEl.classList.remove('colab-df-spinner');\n",
              "      quickchartButtonEl.classList.add('colab-df-quickchart-complete');\n",
              "    }\n",
              "    (() => {\n",
              "      let quickchartButtonEl =\n",
              "        document.querySelector('#df-ba82c351-cd4c-4c96-ae90-4c466161c090 button');\n",
              "      quickchartButtonEl.style.display =\n",
              "        google.colab.kernel.accessAllowed ? 'block' : 'none';\n",
              "    })();\n",
              "  </script>\n",
              "</div>\n",
              "    </div>\n",
              "  </div>\n"
            ]
          },
          "metadata": {},
          "execution_count": 99
        }
      ]
    },
    {
      "cell_type": "code",
      "source": [
        "#menggabungkan dataset NewNasabah dengan hasil predict nya\n",
        "df_hasil_predict_svm=pd.concat([df_NewNasabah,df_predict_newNasabah], sort=False, axis=1)\n",
        "df_hasil_predict_svm.head()"
      ],
      "metadata": {
        "colab": {
          "base_uri": "https://localhost:8080/",
          "height": 243
        },
        "id": "5UC_eR0bohcE",
        "outputId": "34dc7100-6fd1-43c4-bf85-c7f715771366"
      },
      "execution_count": 100,
      "outputs": [
        {
          "output_type": "execute_result",
          "data": {
            "text/plain": [
              "   Unnamed: 0  age  ed  employ  address  income  debtinc  creddebt   othdebt  \\\n",
              "0         700   36   1      16       13      32     10.9  0.544128  2.943872   \n",
              "1         701   50   1       6       27      21     12.9  1.316574  1.392426   \n",
              "2         702   40   1       9        9      33     17.0  4.880700  0.729300   \n",
              "3         703   31   1       5        7      23      2.0  0.046000  0.414000   \n",
              "4         704   29   1       4        0      24      7.8  0.866736  1.005264   \n",
              "\n",
              "   default  Prediction_GagalBayar  \n",
              "0      NaN                    0.0  \n",
              "1      NaN                    0.0  \n",
              "2      NaN                    1.0  \n",
              "3      NaN                    0.0  \n",
              "4      NaN                    0.0  "
            ],
            "text/html": [
              "\n",
              "  <div id=\"df-dec16475-bb8f-40e8-bd8f-00fc734516d5\" class=\"colab-df-container\">\n",
              "    <div>\n",
              "<style scoped>\n",
              "    .dataframe tbody tr th:only-of-type {\n",
              "        vertical-align: middle;\n",
              "    }\n",
              "\n",
              "    .dataframe tbody tr th {\n",
              "        vertical-align: top;\n",
              "    }\n",
              "\n",
              "    .dataframe thead th {\n",
              "        text-align: right;\n",
              "    }\n",
              "</style>\n",
              "<table border=\"1\" class=\"dataframe\">\n",
              "  <thead>\n",
              "    <tr style=\"text-align: right;\">\n",
              "      <th></th>\n",
              "      <th>Unnamed: 0</th>\n",
              "      <th>age</th>\n",
              "      <th>ed</th>\n",
              "      <th>employ</th>\n",
              "      <th>address</th>\n",
              "      <th>income</th>\n",
              "      <th>debtinc</th>\n",
              "      <th>creddebt</th>\n",
              "      <th>othdebt</th>\n",
              "      <th>default</th>\n",
              "      <th>Prediction_GagalBayar</th>\n",
              "    </tr>\n",
              "  </thead>\n",
              "  <tbody>\n",
              "    <tr>\n",
              "      <th>0</th>\n",
              "      <td>700</td>\n",
              "      <td>36</td>\n",
              "      <td>1</td>\n",
              "      <td>16</td>\n",
              "      <td>13</td>\n",
              "      <td>32</td>\n",
              "      <td>10.9</td>\n",
              "      <td>0.544128</td>\n",
              "      <td>2.943872</td>\n",
              "      <td>NaN</td>\n",
              "      <td>0.0</td>\n",
              "    </tr>\n",
              "    <tr>\n",
              "      <th>1</th>\n",
              "      <td>701</td>\n",
              "      <td>50</td>\n",
              "      <td>1</td>\n",
              "      <td>6</td>\n",
              "      <td>27</td>\n",
              "      <td>21</td>\n",
              "      <td>12.9</td>\n",
              "      <td>1.316574</td>\n",
              "      <td>1.392426</td>\n",
              "      <td>NaN</td>\n",
              "      <td>0.0</td>\n",
              "    </tr>\n",
              "    <tr>\n",
              "      <th>2</th>\n",
              "      <td>702</td>\n",
              "      <td>40</td>\n",
              "      <td>1</td>\n",
              "      <td>9</td>\n",
              "      <td>9</td>\n",
              "      <td>33</td>\n",
              "      <td>17.0</td>\n",
              "      <td>4.880700</td>\n",
              "      <td>0.729300</td>\n",
              "      <td>NaN</td>\n",
              "      <td>1.0</td>\n",
              "    </tr>\n",
              "    <tr>\n",
              "      <th>3</th>\n",
              "      <td>703</td>\n",
              "      <td>31</td>\n",
              "      <td>1</td>\n",
              "      <td>5</td>\n",
              "      <td>7</td>\n",
              "      <td>23</td>\n",
              "      <td>2.0</td>\n",
              "      <td>0.046000</td>\n",
              "      <td>0.414000</td>\n",
              "      <td>NaN</td>\n",
              "      <td>0.0</td>\n",
              "    </tr>\n",
              "    <tr>\n",
              "      <th>4</th>\n",
              "      <td>704</td>\n",
              "      <td>29</td>\n",
              "      <td>1</td>\n",
              "      <td>4</td>\n",
              "      <td>0</td>\n",
              "      <td>24</td>\n",
              "      <td>7.8</td>\n",
              "      <td>0.866736</td>\n",
              "      <td>1.005264</td>\n",
              "      <td>NaN</td>\n",
              "      <td>0.0</td>\n",
              "    </tr>\n",
              "  </tbody>\n",
              "</table>\n",
              "</div>\n",
              "    <div class=\"colab-df-buttons\">\n",
              "\n",
              "  <div class=\"colab-df-container\">\n",
              "    <button class=\"colab-df-convert\" onclick=\"convertToInteractive('df-dec16475-bb8f-40e8-bd8f-00fc734516d5')\"\n",
              "            title=\"Convert this dataframe to an interactive table.\"\n",
              "            style=\"display:none;\">\n",
              "\n",
              "  <svg xmlns=\"http://www.w3.org/2000/svg\" height=\"24px\" viewBox=\"0 -960 960 960\">\n",
              "    <path d=\"M120-120v-720h720v720H120Zm60-500h600v-160H180v160Zm220 220h160v-160H400v160Zm0 220h160v-160H400v160ZM180-400h160v-160H180v160Zm440 0h160v-160H620v160ZM180-180h160v-160H180v160Zm440 0h160v-160H620v160Z\"/>\n",
              "  </svg>\n",
              "    </button>\n",
              "\n",
              "  <style>\n",
              "    .colab-df-container {\n",
              "      display:flex;\n",
              "      gap: 12px;\n",
              "    }\n",
              "\n",
              "    .colab-df-convert {\n",
              "      background-color: #E8F0FE;\n",
              "      border: none;\n",
              "      border-radius: 50%;\n",
              "      cursor: pointer;\n",
              "      display: none;\n",
              "      fill: #1967D2;\n",
              "      height: 32px;\n",
              "      padding: 0 0 0 0;\n",
              "      width: 32px;\n",
              "    }\n",
              "\n",
              "    .colab-df-convert:hover {\n",
              "      background-color: #E2EBFA;\n",
              "      box-shadow: 0px 1px 2px rgba(60, 64, 67, 0.3), 0px 1px 3px 1px rgba(60, 64, 67, 0.15);\n",
              "      fill: #174EA6;\n",
              "    }\n",
              "\n",
              "    .colab-df-buttons div {\n",
              "      margin-bottom: 4px;\n",
              "    }\n",
              "\n",
              "    [theme=dark] .colab-df-convert {\n",
              "      background-color: #3B4455;\n",
              "      fill: #D2E3FC;\n",
              "    }\n",
              "\n",
              "    [theme=dark] .colab-df-convert:hover {\n",
              "      background-color: #434B5C;\n",
              "      box-shadow: 0px 1px 3px 1px rgba(0, 0, 0, 0.15);\n",
              "      filter: drop-shadow(0px 1px 2px rgba(0, 0, 0, 0.3));\n",
              "      fill: #FFFFFF;\n",
              "    }\n",
              "  </style>\n",
              "\n",
              "    <script>\n",
              "      const buttonEl =\n",
              "        document.querySelector('#df-dec16475-bb8f-40e8-bd8f-00fc734516d5 button.colab-df-convert');\n",
              "      buttonEl.style.display =\n",
              "        google.colab.kernel.accessAllowed ? 'block' : 'none';\n",
              "\n",
              "      async function convertToInteractive(key) {\n",
              "        const element = document.querySelector('#df-dec16475-bb8f-40e8-bd8f-00fc734516d5');\n",
              "        const dataTable =\n",
              "          await google.colab.kernel.invokeFunction('convertToInteractive',\n",
              "                                                    [key], {});\n",
              "        if (!dataTable) return;\n",
              "\n",
              "        const docLinkHtml = 'Like what you see? Visit the ' +\n",
              "          '<a target=\"_blank\" href=https://colab.research.google.com/notebooks/data_table.ipynb>data table notebook</a>'\n",
              "          + ' to learn more about interactive tables.';\n",
              "        element.innerHTML = '';\n",
              "        dataTable['output_type'] = 'display_data';\n",
              "        await google.colab.output.renderOutput(dataTable, element);\n",
              "        const docLink = document.createElement('div');\n",
              "        docLink.innerHTML = docLinkHtml;\n",
              "        element.appendChild(docLink);\n",
              "      }\n",
              "    </script>\n",
              "  </div>\n",
              "\n",
              "\n",
              "<div id=\"df-2a6b2266-385e-48d2-b8c9-5130375503a1\">\n",
              "  <button class=\"colab-df-quickchart\" onclick=\"quickchart('df-2a6b2266-385e-48d2-b8c9-5130375503a1')\"\n",
              "            title=\"Suggest charts.\"\n",
              "            style=\"display:none;\">\n",
              "\n",
              "<svg xmlns=\"http://www.w3.org/2000/svg\" height=\"24px\"viewBox=\"0 0 24 24\"\n",
              "     width=\"24px\">\n",
              "    <g>\n",
              "        <path d=\"M19 3H5c-1.1 0-2 .9-2 2v14c0 1.1.9 2 2 2h14c1.1 0 2-.9 2-2V5c0-1.1-.9-2-2-2zM9 17H7v-7h2v7zm4 0h-2V7h2v10zm4 0h-2v-4h2v4z\"/>\n",
              "    </g>\n",
              "</svg>\n",
              "  </button>\n",
              "\n",
              "<style>\n",
              "  .colab-df-quickchart {\n",
              "      --bg-color: #E8F0FE;\n",
              "      --fill-color: #1967D2;\n",
              "      --hover-bg-color: #E2EBFA;\n",
              "      --hover-fill-color: #174EA6;\n",
              "      --disabled-fill-color: #AAA;\n",
              "      --disabled-bg-color: #DDD;\n",
              "  }\n",
              "\n",
              "  [theme=dark] .colab-df-quickchart {\n",
              "      --bg-color: #3B4455;\n",
              "      --fill-color: #D2E3FC;\n",
              "      --hover-bg-color: #434B5C;\n",
              "      --hover-fill-color: #FFFFFF;\n",
              "      --disabled-bg-color: #3B4455;\n",
              "      --disabled-fill-color: #666;\n",
              "  }\n",
              "\n",
              "  .colab-df-quickchart {\n",
              "    background-color: var(--bg-color);\n",
              "    border: none;\n",
              "    border-radius: 50%;\n",
              "    cursor: pointer;\n",
              "    display: none;\n",
              "    fill: var(--fill-color);\n",
              "    height: 32px;\n",
              "    padding: 0;\n",
              "    width: 32px;\n",
              "  }\n",
              "\n",
              "  .colab-df-quickchart:hover {\n",
              "    background-color: var(--hover-bg-color);\n",
              "    box-shadow: 0 1px 2px rgba(60, 64, 67, 0.3), 0 1px 3px 1px rgba(60, 64, 67, 0.15);\n",
              "    fill: var(--button-hover-fill-color);\n",
              "  }\n",
              "\n",
              "  .colab-df-quickchart-complete:disabled,\n",
              "  .colab-df-quickchart-complete:disabled:hover {\n",
              "    background-color: var(--disabled-bg-color);\n",
              "    fill: var(--disabled-fill-color);\n",
              "    box-shadow: none;\n",
              "  }\n",
              "\n",
              "  .colab-df-spinner {\n",
              "    border: 2px solid var(--fill-color);\n",
              "    border-color: transparent;\n",
              "    border-bottom-color: var(--fill-color);\n",
              "    animation:\n",
              "      spin 1s steps(1) infinite;\n",
              "  }\n",
              "\n",
              "  @keyframes spin {\n",
              "    0% {\n",
              "      border-color: transparent;\n",
              "      border-bottom-color: var(--fill-color);\n",
              "      border-left-color: var(--fill-color);\n",
              "    }\n",
              "    20% {\n",
              "      border-color: transparent;\n",
              "      border-left-color: var(--fill-color);\n",
              "      border-top-color: var(--fill-color);\n",
              "    }\n",
              "    30% {\n",
              "      border-color: transparent;\n",
              "      border-left-color: var(--fill-color);\n",
              "      border-top-color: var(--fill-color);\n",
              "      border-right-color: var(--fill-color);\n",
              "    }\n",
              "    40% {\n",
              "      border-color: transparent;\n",
              "      border-right-color: var(--fill-color);\n",
              "      border-top-color: var(--fill-color);\n",
              "    }\n",
              "    60% {\n",
              "      border-color: transparent;\n",
              "      border-right-color: var(--fill-color);\n",
              "    }\n",
              "    80% {\n",
              "      border-color: transparent;\n",
              "      border-right-color: var(--fill-color);\n",
              "      border-bottom-color: var(--fill-color);\n",
              "    }\n",
              "    90% {\n",
              "      border-color: transparent;\n",
              "      border-bottom-color: var(--fill-color);\n",
              "    }\n",
              "  }\n",
              "</style>\n",
              "\n",
              "  <script>\n",
              "    async function quickchart(key) {\n",
              "      const quickchartButtonEl =\n",
              "        document.querySelector('#' + key + ' button');\n",
              "      quickchartButtonEl.disabled = true;  // To prevent multiple clicks.\n",
              "      quickchartButtonEl.classList.add('colab-df-spinner');\n",
              "      try {\n",
              "        const charts = await google.colab.kernel.invokeFunction(\n",
              "            'suggestCharts', [key], {});\n",
              "      } catch (error) {\n",
              "        console.error('Error during call to suggestCharts:', error);\n",
              "      }\n",
              "      quickchartButtonEl.classList.remove('colab-df-spinner');\n",
              "      quickchartButtonEl.classList.add('colab-df-quickchart-complete');\n",
              "    }\n",
              "    (() => {\n",
              "      let quickchartButtonEl =\n",
              "        document.querySelector('#df-2a6b2266-385e-48d2-b8c9-5130375503a1 button');\n",
              "      quickchartButtonEl.style.display =\n",
              "        google.colab.kernel.accessAllowed ? 'block' : 'none';\n",
              "    })();\n",
              "  </script>\n",
              "</div>\n",
              "    </div>\n",
              "  </div>\n"
            ]
          },
          "metadata": {},
          "execution_count": 100
        }
      ]
    },
    {
      "cell_type": "code",
      "source": [
        "df_hasil_predict_svm['Prediction_GagalBayar'].value_counts()"
      ],
      "metadata": {
        "colab": {
          "base_uri": "https://localhost:8080/"
        },
        "id": "bNz2Edqzpjsw",
        "outputId": "7bcb0d7d-5835-43ea-ace9-1dd53500293f"
      },
      "execution_count": 101,
      "outputs": [
        {
          "output_type": "execute_result",
          "data": {
            "text/plain": [
              "0.0    127\n",
              "1.0     23\n",
              "Name: Prediction_GagalBayar, dtype: int64"
            ]
          },
          "metadata": {},
          "execution_count": 101
        }
      ]
    },
    {
      "cell_type": "markdown",
      "source": [
        "Output: dari data new nasabah <br>\n",
        "Yang akan kita terima : 127 orang <br>\n",
        "Yang akan kita tolak : 23 orang"
      ],
      "metadata": {
        "id": "T4lGeW2Mpw8s"
      }
    },
    {
      "cell_type": "markdown",
      "source": [
        "##Day 4\n",
        "\n",
        "Kamis, 19 Oktober 2023"
      ],
      "metadata": {
        "id": "L899GeGxzphG"
      }
    },
    {
      "cell_type": "markdown",
      "source": [
        "##Study Case 2 : Predictive nilai kredit yang akan diberikan kepada nasabah lama (Old nasabah)\n",
        "\n",
        "**Problem:** Estimasi\n",
        "\n",
        "**Kemungkinan algortima yang akan digunakan:**\n",
        "1. Linear Regression\n",
        "2. MLP Regressor (ANN)"
      ],
      "metadata": {
        "id": "osjy7kvirEv9"
      }
    },
    {
      "cell_type": "code",
      "source": [
        "#create object baru\n",
        "df_oldNasabah=df\n",
        "df_oldNasabah.head()"
      ],
      "metadata": {
        "colab": {
          "base_uri": "https://localhost:8080/",
          "height": 243
        },
        "id": "zzDMa3z1z_Mm",
        "outputId": "d942e7e9-7d25-4006-f766-1a9e51109841"
      },
      "execution_count": 102,
      "outputs": [
        {
          "output_type": "execute_result",
          "data": {
            "text/plain": [
              "   Unnamed: 0  age  ed  employ  address  income  debtinc   creddebt   othdebt  \\\n",
              "0           0   41   3      17       12     176      9.3  11.359392  5.008608   \n",
              "1           1   27   1      10        6      31     17.3   1.362202  4.000798   \n",
              "2           2   40   1      15       14      55      5.5   0.856075  2.168925   \n",
              "3           3   41   1      15       14     120      2.9   2.658720  0.821280   \n",
              "4           4   24   2       2        0      28     17.3   1.787436  3.056564   \n",
              "\n",
              "   default  \n",
              "0      1.0  \n",
              "1      0.0  \n",
              "2      0.0  \n",
              "3      0.0  \n",
              "4      1.0  "
            ],
            "text/html": [
              "\n",
              "  <div id=\"df-4431e929-74bf-439d-a16a-5403a04d5265\" class=\"colab-df-container\">\n",
              "    <div>\n",
              "<style scoped>\n",
              "    .dataframe tbody tr th:only-of-type {\n",
              "        vertical-align: middle;\n",
              "    }\n",
              "\n",
              "    .dataframe tbody tr th {\n",
              "        vertical-align: top;\n",
              "    }\n",
              "\n",
              "    .dataframe thead th {\n",
              "        text-align: right;\n",
              "    }\n",
              "</style>\n",
              "<table border=\"1\" class=\"dataframe\">\n",
              "  <thead>\n",
              "    <tr style=\"text-align: right;\">\n",
              "      <th></th>\n",
              "      <th>Unnamed: 0</th>\n",
              "      <th>age</th>\n",
              "      <th>ed</th>\n",
              "      <th>employ</th>\n",
              "      <th>address</th>\n",
              "      <th>income</th>\n",
              "      <th>debtinc</th>\n",
              "      <th>creddebt</th>\n",
              "      <th>othdebt</th>\n",
              "      <th>default</th>\n",
              "    </tr>\n",
              "  </thead>\n",
              "  <tbody>\n",
              "    <tr>\n",
              "      <th>0</th>\n",
              "      <td>0</td>\n",
              "      <td>41</td>\n",
              "      <td>3</td>\n",
              "      <td>17</td>\n",
              "      <td>12</td>\n",
              "      <td>176</td>\n",
              "      <td>9.3</td>\n",
              "      <td>11.359392</td>\n",
              "      <td>5.008608</td>\n",
              "      <td>1.0</td>\n",
              "    </tr>\n",
              "    <tr>\n",
              "      <th>1</th>\n",
              "      <td>1</td>\n",
              "      <td>27</td>\n",
              "      <td>1</td>\n",
              "      <td>10</td>\n",
              "      <td>6</td>\n",
              "      <td>31</td>\n",
              "      <td>17.3</td>\n",
              "      <td>1.362202</td>\n",
              "      <td>4.000798</td>\n",
              "      <td>0.0</td>\n",
              "    </tr>\n",
              "    <tr>\n",
              "      <th>2</th>\n",
              "      <td>2</td>\n",
              "      <td>40</td>\n",
              "      <td>1</td>\n",
              "      <td>15</td>\n",
              "      <td>14</td>\n",
              "      <td>55</td>\n",
              "      <td>5.5</td>\n",
              "      <td>0.856075</td>\n",
              "      <td>2.168925</td>\n",
              "      <td>0.0</td>\n",
              "    </tr>\n",
              "    <tr>\n",
              "      <th>3</th>\n",
              "      <td>3</td>\n",
              "      <td>41</td>\n",
              "      <td>1</td>\n",
              "      <td>15</td>\n",
              "      <td>14</td>\n",
              "      <td>120</td>\n",
              "      <td>2.9</td>\n",
              "      <td>2.658720</td>\n",
              "      <td>0.821280</td>\n",
              "      <td>0.0</td>\n",
              "    </tr>\n",
              "    <tr>\n",
              "      <th>4</th>\n",
              "      <td>4</td>\n",
              "      <td>24</td>\n",
              "      <td>2</td>\n",
              "      <td>2</td>\n",
              "      <td>0</td>\n",
              "      <td>28</td>\n",
              "      <td>17.3</td>\n",
              "      <td>1.787436</td>\n",
              "      <td>3.056564</td>\n",
              "      <td>1.0</td>\n",
              "    </tr>\n",
              "  </tbody>\n",
              "</table>\n",
              "</div>\n",
              "    <div class=\"colab-df-buttons\">\n",
              "\n",
              "  <div class=\"colab-df-container\">\n",
              "    <button class=\"colab-df-convert\" onclick=\"convertToInteractive('df-4431e929-74bf-439d-a16a-5403a04d5265')\"\n",
              "            title=\"Convert this dataframe to an interactive table.\"\n",
              "            style=\"display:none;\">\n",
              "\n",
              "  <svg xmlns=\"http://www.w3.org/2000/svg\" height=\"24px\" viewBox=\"0 -960 960 960\">\n",
              "    <path d=\"M120-120v-720h720v720H120Zm60-500h600v-160H180v160Zm220 220h160v-160H400v160Zm0 220h160v-160H400v160ZM180-400h160v-160H180v160Zm440 0h160v-160H620v160ZM180-180h160v-160H180v160Zm440 0h160v-160H620v160Z\"/>\n",
              "  </svg>\n",
              "    </button>\n",
              "\n",
              "  <style>\n",
              "    .colab-df-container {\n",
              "      display:flex;\n",
              "      gap: 12px;\n",
              "    }\n",
              "\n",
              "    .colab-df-convert {\n",
              "      background-color: #E8F0FE;\n",
              "      border: none;\n",
              "      border-radius: 50%;\n",
              "      cursor: pointer;\n",
              "      display: none;\n",
              "      fill: #1967D2;\n",
              "      height: 32px;\n",
              "      padding: 0 0 0 0;\n",
              "      width: 32px;\n",
              "    }\n",
              "\n",
              "    .colab-df-convert:hover {\n",
              "      background-color: #E2EBFA;\n",
              "      box-shadow: 0px 1px 2px rgba(60, 64, 67, 0.3), 0px 1px 3px 1px rgba(60, 64, 67, 0.15);\n",
              "      fill: #174EA6;\n",
              "    }\n",
              "\n",
              "    .colab-df-buttons div {\n",
              "      margin-bottom: 4px;\n",
              "    }\n",
              "\n",
              "    [theme=dark] .colab-df-convert {\n",
              "      background-color: #3B4455;\n",
              "      fill: #D2E3FC;\n",
              "    }\n",
              "\n",
              "    [theme=dark] .colab-df-convert:hover {\n",
              "      background-color: #434B5C;\n",
              "      box-shadow: 0px 1px 3px 1px rgba(0, 0, 0, 0.15);\n",
              "      filter: drop-shadow(0px 1px 2px rgba(0, 0, 0, 0.3));\n",
              "      fill: #FFFFFF;\n",
              "    }\n",
              "  </style>\n",
              "\n",
              "    <script>\n",
              "      const buttonEl =\n",
              "        document.querySelector('#df-4431e929-74bf-439d-a16a-5403a04d5265 button.colab-df-convert');\n",
              "      buttonEl.style.display =\n",
              "        google.colab.kernel.accessAllowed ? 'block' : 'none';\n",
              "\n",
              "      async function convertToInteractive(key) {\n",
              "        const element = document.querySelector('#df-4431e929-74bf-439d-a16a-5403a04d5265');\n",
              "        const dataTable =\n",
              "          await google.colab.kernel.invokeFunction('convertToInteractive',\n",
              "                                                    [key], {});\n",
              "        if (!dataTable) return;\n",
              "\n",
              "        const docLinkHtml = 'Like what you see? Visit the ' +\n",
              "          '<a target=\"_blank\" href=https://colab.research.google.com/notebooks/data_table.ipynb>data table notebook</a>'\n",
              "          + ' to learn more about interactive tables.';\n",
              "        element.innerHTML = '';\n",
              "        dataTable['output_type'] = 'display_data';\n",
              "        await google.colab.output.renderOutput(dataTable, element);\n",
              "        const docLink = document.createElement('div');\n",
              "        docLink.innerHTML = docLinkHtml;\n",
              "        element.appendChild(docLink);\n",
              "      }\n",
              "    </script>\n",
              "  </div>\n",
              "\n",
              "\n",
              "<div id=\"df-fd8caf3a-d3a4-4684-8dc1-798f63ae9131\">\n",
              "  <button class=\"colab-df-quickchart\" onclick=\"quickchart('df-fd8caf3a-d3a4-4684-8dc1-798f63ae9131')\"\n",
              "            title=\"Suggest charts.\"\n",
              "            style=\"display:none;\">\n",
              "\n",
              "<svg xmlns=\"http://www.w3.org/2000/svg\" height=\"24px\"viewBox=\"0 0 24 24\"\n",
              "     width=\"24px\">\n",
              "    <g>\n",
              "        <path d=\"M19 3H5c-1.1 0-2 .9-2 2v14c0 1.1.9 2 2 2h14c1.1 0 2-.9 2-2V5c0-1.1-.9-2-2-2zM9 17H7v-7h2v7zm4 0h-2V7h2v10zm4 0h-2v-4h2v4z\"/>\n",
              "    </g>\n",
              "</svg>\n",
              "  </button>\n",
              "\n",
              "<style>\n",
              "  .colab-df-quickchart {\n",
              "      --bg-color: #E8F0FE;\n",
              "      --fill-color: #1967D2;\n",
              "      --hover-bg-color: #E2EBFA;\n",
              "      --hover-fill-color: #174EA6;\n",
              "      --disabled-fill-color: #AAA;\n",
              "      --disabled-bg-color: #DDD;\n",
              "  }\n",
              "\n",
              "  [theme=dark] .colab-df-quickchart {\n",
              "      --bg-color: #3B4455;\n",
              "      --fill-color: #D2E3FC;\n",
              "      --hover-bg-color: #434B5C;\n",
              "      --hover-fill-color: #FFFFFF;\n",
              "      --disabled-bg-color: #3B4455;\n",
              "      --disabled-fill-color: #666;\n",
              "  }\n",
              "\n",
              "  .colab-df-quickchart {\n",
              "    background-color: var(--bg-color);\n",
              "    border: none;\n",
              "    border-radius: 50%;\n",
              "    cursor: pointer;\n",
              "    display: none;\n",
              "    fill: var(--fill-color);\n",
              "    height: 32px;\n",
              "    padding: 0;\n",
              "    width: 32px;\n",
              "  }\n",
              "\n",
              "  .colab-df-quickchart:hover {\n",
              "    background-color: var(--hover-bg-color);\n",
              "    box-shadow: 0 1px 2px rgba(60, 64, 67, 0.3), 0 1px 3px 1px rgba(60, 64, 67, 0.15);\n",
              "    fill: var(--button-hover-fill-color);\n",
              "  }\n",
              "\n",
              "  .colab-df-quickchart-complete:disabled,\n",
              "  .colab-df-quickchart-complete:disabled:hover {\n",
              "    background-color: var(--disabled-bg-color);\n",
              "    fill: var(--disabled-fill-color);\n",
              "    box-shadow: none;\n",
              "  }\n",
              "\n",
              "  .colab-df-spinner {\n",
              "    border: 2px solid var(--fill-color);\n",
              "    border-color: transparent;\n",
              "    border-bottom-color: var(--fill-color);\n",
              "    animation:\n",
              "      spin 1s steps(1) infinite;\n",
              "  }\n",
              "\n",
              "  @keyframes spin {\n",
              "    0% {\n",
              "      border-color: transparent;\n",
              "      border-bottom-color: var(--fill-color);\n",
              "      border-left-color: var(--fill-color);\n",
              "    }\n",
              "    20% {\n",
              "      border-color: transparent;\n",
              "      border-left-color: var(--fill-color);\n",
              "      border-top-color: var(--fill-color);\n",
              "    }\n",
              "    30% {\n",
              "      border-color: transparent;\n",
              "      border-left-color: var(--fill-color);\n",
              "      border-top-color: var(--fill-color);\n",
              "      border-right-color: var(--fill-color);\n",
              "    }\n",
              "    40% {\n",
              "      border-color: transparent;\n",
              "      border-right-color: var(--fill-color);\n",
              "      border-top-color: var(--fill-color);\n",
              "    }\n",
              "    60% {\n",
              "      border-color: transparent;\n",
              "      border-right-color: var(--fill-color);\n",
              "    }\n",
              "    80% {\n",
              "      border-color: transparent;\n",
              "      border-right-color: var(--fill-color);\n",
              "      border-bottom-color: var(--fill-color);\n",
              "    }\n",
              "    90% {\n",
              "      border-color: transparent;\n",
              "      border-bottom-color: var(--fill-color);\n",
              "    }\n",
              "  }\n",
              "</style>\n",
              "\n",
              "  <script>\n",
              "    async function quickchart(key) {\n",
              "      const quickchartButtonEl =\n",
              "        document.querySelector('#' + key + ' button');\n",
              "      quickchartButtonEl.disabled = true;  // To prevent multiple clicks.\n",
              "      quickchartButtonEl.classList.add('colab-df-spinner');\n",
              "      try {\n",
              "        const charts = await google.colab.kernel.invokeFunction(\n",
              "            'suggestCharts', [key], {});\n",
              "      } catch (error) {\n",
              "        console.error('Error during call to suggestCharts:', error);\n",
              "      }\n",
              "      quickchartButtonEl.classList.remove('colab-df-spinner');\n",
              "      quickchartButtonEl.classList.add('colab-df-quickchart-complete');\n",
              "    }\n",
              "    (() => {\n",
              "      let quickchartButtonEl =\n",
              "        document.querySelector('#df-fd8caf3a-d3a4-4684-8dc1-798f63ae9131 button');\n",
              "      quickchartButtonEl.style.display =\n",
              "        google.colab.kernel.accessAllowed ? 'block' : 'none';\n",
              "    })();\n",
              "  </script>\n",
              "</div>\n",
              "    </div>\n",
              "  </div>\n"
            ]
          },
          "metadata": {},
          "execution_count": 102
        }
      ]
    },
    {
      "cell_type": "code",
      "source": [
        "#melihat info dataset\n",
        "df_oldNasabah.info()"
      ],
      "metadata": {
        "colab": {
          "base_uri": "https://localhost:8080/"
        },
        "id": "SAap23tG0IL9",
        "outputId": "91190210-4652-4533-9dbb-602875088588"
      },
      "execution_count": 103,
      "outputs": [
        {
          "output_type": "stream",
          "name": "stdout",
          "text": [
            "<class 'pandas.core.frame.DataFrame'>\n",
            "RangeIndex: 700 entries, 0 to 699\n",
            "Data columns (total 10 columns):\n",
            " #   Column      Non-Null Count  Dtype  \n",
            "---  ------      --------------  -----  \n",
            " 0   Unnamed: 0  700 non-null    int64  \n",
            " 1   age         700 non-null    int64  \n",
            " 2   ed          700 non-null    int64  \n",
            " 3   employ      700 non-null    int64  \n",
            " 4   address     700 non-null    int64  \n",
            " 5   income      700 non-null    int64  \n",
            " 6   debtinc     700 non-null    float64\n",
            " 7   creddebt    700 non-null    float64\n",
            " 8   othdebt     700 non-null    float64\n",
            " 9   default     700 non-null    float64\n",
            "dtypes: float64(4), int64(6)\n",
            "memory usage: 54.8 KB\n"
          ]
        }
      ]
    },
    {
      "cell_type": "code",
      "source": [
        "#kenaikan nilai kredit diberikan kepada nasabah lama yang tidak pernah gagal bayar\n",
        "df_oldNasabah1=df_oldNasabah[(df_oldNasabah['default']==0)&(df_oldNasabah['creddebt']<0.3)]\n",
        "df_oldNasabah1.info()"
      ],
      "metadata": {
        "colab": {
          "base_uri": "https://localhost:8080/"
        },
        "id": "-KIJH1Lz0DTr",
        "outputId": "2a14f417-409c-4e81-d9a9-3cfd32d82858"
      },
      "execution_count": 104,
      "outputs": [
        {
          "output_type": "stream",
          "name": "stdout",
          "text": [
            "<class 'pandas.core.frame.DataFrame'>\n",
            "Int64Index: 115 entries, 7 to 693\n",
            "Data columns (total 10 columns):\n",
            " #   Column      Non-Null Count  Dtype  \n",
            "---  ------      --------------  -----  \n",
            " 0   Unnamed: 0  115 non-null    int64  \n",
            " 1   age         115 non-null    int64  \n",
            " 2   ed          115 non-null    int64  \n",
            " 3   employ      115 non-null    int64  \n",
            " 4   address     115 non-null    int64  \n",
            " 5   income      115 non-null    int64  \n",
            " 6   debtinc     115 non-null    float64\n",
            " 7   creddebt    115 non-null    float64\n",
            " 8   othdebt     115 non-null    float64\n",
            " 9   default     115 non-null    float64\n",
            "dtypes: float64(4), int64(6)\n",
            "memory usage: 9.9 KB\n"
          ]
        }
      ]
    },
    {
      "cell_type": "code",
      "source": [
        "df_oldNasabah1"
      ],
      "metadata": {
        "colab": {
          "base_uri": "https://localhost:8080/",
          "height": 461
        },
        "id": "SSZWzA_u0Pun",
        "outputId": "bd06ab97-41cc-429d-89ea-d6c05b7d8ab8"
      },
      "execution_count": 105,
      "outputs": [
        {
          "output_type": "execute_result",
          "data": {
            "text/plain": [
              "     Unnamed: 0  age  ed  employ  address  income  debtinc  creddebt  \\\n",
              "7             7   43   1      12       11      38      3.6  0.128592   \n",
              "10           10   27   1       0        1      16      1.7  0.182512   \n",
              "11           11   25   1       4        0      23      5.2  0.252356   \n",
              "19           19   41   3       0       21      26      1.7  0.099008   \n",
              "29           29   26   3       2        1      37     14.2  0.204906   \n",
              "..          ...  ...  ..     ...      ...     ...      ...       ...   \n",
              "679         679   35   1      17        4      42      3.0  0.093240   \n",
              "683         683   21   1       1        1      16      6.3  0.141120   \n",
              "689         689   30   1       4        2      18     10.7  0.227268   \n",
              "690         690   24   2       0        5      16      7.3  0.024528   \n",
              "693         693   22   3       0        2      20      4.7  0.219020   \n",
              "\n",
              "      othdebt  default  \n",
              "7    1.239408      0.0  \n",
              "10   0.089488      0.0  \n",
              "11   0.943644      0.0  \n",
              "19   0.342992      0.0  \n",
              "29   5.049094      0.0  \n",
              "..        ...      ...  \n",
              "679  1.166760      0.0  \n",
              "683  0.866880      0.0  \n",
              "689  1.698732      0.0  \n",
              "690  1.143472      0.0  \n",
              "693  0.720980      0.0  \n",
              "\n",
              "[115 rows x 10 columns]"
            ],
            "text/html": [
              "\n",
              "  <div id=\"df-c3d965fd-2a71-479d-9c2b-d8be3d740b3d\" class=\"colab-df-container\">\n",
              "    <div>\n",
              "<style scoped>\n",
              "    .dataframe tbody tr th:only-of-type {\n",
              "        vertical-align: middle;\n",
              "    }\n",
              "\n",
              "    .dataframe tbody tr th {\n",
              "        vertical-align: top;\n",
              "    }\n",
              "\n",
              "    .dataframe thead th {\n",
              "        text-align: right;\n",
              "    }\n",
              "</style>\n",
              "<table border=\"1\" class=\"dataframe\">\n",
              "  <thead>\n",
              "    <tr style=\"text-align: right;\">\n",
              "      <th></th>\n",
              "      <th>Unnamed: 0</th>\n",
              "      <th>age</th>\n",
              "      <th>ed</th>\n",
              "      <th>employ</th>\n",
              "      <th>address</th>\n",
              "      <th>income</th>\n",
              "      <th>debtinc</th>\n",
              "      <th>creddebt</th>\n",
              "      <th>othdebt</th>\n",
              "      <th>default</th>\n",
              "    </tr>\n",
              "  </thead>\n",
              "  <tbody>\n",
              "    <tr>\n",
              "      <th>7</th>\n",
              "      <td>7</td>\n",
              "      <td>43</td>\n",
              "      <td>1</td>\n",
              "      <td>12</td>\n",
              "      <td>11</td>\n",
              "      <td>38</td>\n",
              "      <td>3.6</td>\n",
              "      <td>0.128592</td>\n",
              "      <td>1.239408</td>\n",
              "      <td>0.0</td>\n",
              "    </tr>\n",
              "    <tr>\n",
              "      <th>10</th>\n",
              "      <td>10</td>\n",
              "      <td>27</td>\n",
              "      <td>1</td>\n",
              "      <td>0</td>\n",
              "      <td>1</td>\n",
              "      <td>16</td>\n",
              "      <td>1.7</td>\n",
              "      <td>0.182512</td>\n",
              "      <td>0.089488</td>\n",
              "      <td>0.0</td>\n",
              "    </tr>\n",
              "    <tr>\n",
              "      <th>11</th>\n",
              "      <td>11</td>\n",
              "      <td>25</td>\n",
              "      <td>1</td>\n",
              "      <td>4</td>\n",
              "      <td>0</td>\n",
              "      <td>23</td>\n",
              "      <td>5.2</td>\n",
              "      <td>0.252356</td>\n",
              "      <td>0.943644</td>\n",
              "      <td>0.0</td>\n",
              "    </tr>\n",
              "    <tr>\n",
              "      <th>19</th>\n",
              "      <td>19</td>\n",
              "      <td>41</td>\n",
              "      <td>3</td>\n",
              "      <td>0</td>\n",
              "      <td>21</td>\n",
              "      <td>26</td>\n",
              "      <td>1.7</td>\n",
              "      <td>0.099008</td>\n",
              "      <td>0.342992</td>\n",
              "      <td>0.0</td>\n",
              "    </tr>\n",
              "    <tr>\n",
              "      <th>29</th>\n",
              "      <td>29</td>\n",
              "      <td>26</td>\n",
              "      <td>3</td>\n",
              "      <td>2</td>\n",
              "      <td>1</td>\n",
              "      <td>37</td>\n",
              "      <td>14.2</td>\n",
              "      <td>0.204906</td>\n",
              "      <td>5.049094</td>\n",
              "      <td>0.0</td>\n",
              "    </tr>\n",
              "    <tr>\n",
              "      <th>...</th>\n",
              "      <td>...</td>\n",
              "      <td>...</td>\n",
              "      <td>...</td>\n",
              "      <td>...</td>\n",
              "      <td>...</td>\n",
              "      <td>...</td>\n",
              "      <td>...</td>\n",
              "      <td>...</td>\n",
              "      <td>...</td>\n",
              "      <td>...</td>\n",
              "    </tr>\n",
              "    <tr>\n",
              "      <th>679</th>\n",
              "      <td>679</td>\n",
              "      <td>35</td>\n",
              "      <td>1</td>\n",
              "      <td>17</td>\n",
              "      <td>4</td>\n",
              "      <td>42</td>\n",
              "      <td>3.0</td>\n",
              "      <td>0.093240</td>\n",
              "      <td>1.166760</td>\n",
              "      <td>0.0</td>\n",
              "    </tr>\n",
              "    <tr>\n",
              "      <th>683</th>\n",
              "      <td>683</td>\n",
              "      <td>21</td>\n",
              "      <td>1</td>\n",
              "      <td>1</td>\n",
              "      <td>1</td>\n",
              "      <td>16</td>\n",
              "      <td>6.3</td>\n",
              "      <td>0.141120</td>\n",
              "      <td>0.866880</td>\n",
              "      <td>0.0</td>\n",
              "    </tr>\n",
              "    <tr>\n",
              "      <th>689</th>\n",
              "      <td>689</td>\n",
              "      <td>30</td>\n",
              "      <td>1</td>\n",
              "      <td>4</td>\n",
              "      <td>2</td>\n",
              "      <td>18</td>\n",
              "      <td>10.7</td>\n",
              "      <td>0.227268</td>\n",
              "      <td>1.698732</td>\n",
              "      <td>0.0</td>\n",
              "    </tr>\n",
              "    <tr>\n",
              "      <th>690</th>\n",
              "      <td>690</td>\n",
              "      <td>24</td>\n",
              "      <td>2</td>\n",
              "      <td>0</td>\n",
              "      <td>5</td>\n",
              "      <td>16</td>\n",
              "      <td>7.3</td>\n",
              "      <td>0.024528</td>\n",
              "      <td>1.143472</td>\n",
              "      <td>0.0</td>\n",
              "    </tr>\n",
              "    <tr>\n",
              "      <th>693</th>\n",
              "      <td>693</td>\n",
              "      <td>22</td>\n",
              "      <td>3</td>\n",
              "      <td>0</td>\n",
              "      <td>2</td>\n",
              "      <td>20</td>\n",
              "      <td>4.7</td>\n",
              "      <td>0.219020</td>\n",
              "      <td>0.720980</td>\n",
              "      <td>0.0</td>\n",
              "    </tr>\n",
              "  </tbody>\n",
              "</table>\n",
              "<p>115 rows × 10 columns</p>\n",
              "</div>\n",
              "    <div class=\"colab-df-buttons\">\n",
              "\n",
              "  <div class=\"colab-df-container\">\n",
              "    <button class=\"colab-df-convert\" onclick=\"convertToInteractive('df-c3d965fd-2a71-479d-9c2b-d8be3d740b3d')\"\n",
              "            title=\"Convert this dataframe to an interactive table.\"\n",
              "            style=\"display:none;\">\n",
              "\n",
              "  <svg xmlns=\"http://www.w3.org/2000/svg\" height=\"24px\" viewBox=\"0 -960 960 960\">\n",
              "    <path d=\"M120-120v-720h720v720H120Zm60-500h600v-160H180v160Zm220 220h160v-160H400v160Zm0 220h160v-160H400v160ZM180-400h160v-160H180v160Zm440 0h160v-160H620v160ZM180-180h160v-160H180v160Zm440 0h160v-160H620v160Z\"/>\n",
              "  </svg>\n",
              "    </button>\n",
              "\n",
              "  <style>\n",
              "    .colab-df-container {\n",
              "      display:flex;\n",
              "      gap: 12px;\n",
              "    }\n",
              "\n",
              "    .colab-df-convert {\n",
              "      background-color: #E8F0FE;\n",
              "      border: none;\n",
              "      border-radius: 50%;\n",
              "      cursor: pointer;\n",
              "      display: none;\n",
              "      fill: #1967D2;\n",
              "      height: 32px;\n",
              "      padding: 0 0 0 0;\n",
              "      width: 32px;\n",
              "    }\n",
              "\n",
              "    .colab-df-convert:hover {\n",
              "      background-color: #E2EBFA;\n",
              "      box-shadow: 0px 1px 2px rgba(60, 64, 67, 0.3), 0px 1px 3px 1px rgba(60, 64, 67, 0.15);\n",
              "      fill: #174EA6;\n",
              "    }\n",
              "\n",
              "    .colab-df-buttons div {\n",
              "      margin-bottom: 4px;\n",
              "    }\n",
              "\n",
              "    [theme=dark] .colab-df-convert {\n",
              "      background-color: #3B4455;\n",
              "      fill: #D2E3FC;\n",
              "    }\n",
              "\n",
              "    [theme=dark] .colab-df-convert:hover {\n",
              "      background-color: #434B5C;\n",
              "      box-shadow: 0px 1px 3px 1px rgba(0, 0, 0, 0.15);\n",
              "      filter: drop-shadow(0px 1px 2px rgba(0, 0, 0, 0.3));\n",
              "      fill: #FFFFFF;\n",
              "    }\n",
              "  </style>\n",
              "\n",
              "    <script>\n",
              "      const buttonEl =\n",
              "        document.querySelector('#df-c3d965fd-2a71-479d-9c2b-d8be3d740b3d button.colab-df-convert');\n",
              "      buttonEl.style.display =\n",
              "        google.colab.kernel.accessAllowed ? 'block' : 'none';\n",
              "\n",
              "      async function convertToInteractive(key) {\n",
              "        const element = document.querySelector('#df-c3d965fd-2a71-479d-9c2b-d8be3d740b3d');\n",
              "        const dataTable =\n",
              "          await google.colab.kernel.invokeFunction('convertToInteractive',\n",
              "                                                    [key], {});\n",
              "        if (!dataTable) return;\n",
              "\n",
              "        const docLinkHtml = 'Like what you see? Visit the ' +\n",
              "          '<a target=\"_blank\" href=https://colab.research.google.com/notebooks/data_table.ipynb>data table notebook</a>'\n",
              "          + ' to learn more about interactive tables.';\n",
              "        element.innerHTML = '';\n",
              "        dataTable['output_type'] = 'display_data';\n",
              "        await google.colab.output.renderOutput(dataTable, element);\n",
              "        const docLink = document.createElement('div');\n",
              "        docLink.innerHTML = docLinkHtml;\n",
              "        element.appendChild(docLink);\n",
              "      }\n",
              "    </script>\n",
              "  </div>\n",
              "\n",
              "\n",
              "<div id=\"df-ae495179-ab6a-4bed-8b28-98bc35105405\">\n",
              "  <button class=\"colab-df-quickchart\" onclick=\"quickchart('df-ae495179-ab6a-4bed-8b28-98bc35105405')\"\n",
              "            title=\"Suggest charts.\"\n",
              "            style=\"display:none;\">\n",
              "\n",
              "<svg xmlns=\"http://www.w3.org/2000/svg\" height=\"24px\"viewBox=\"0 0 24 24\"\n",
              "     width=\"24px\">\n",
              "    <g>\n",
              "        <path d=\"M19 3H5c-1.1 0-2 .9-2 2v14c0 1.1.9 2 2 2h14c1.1 0 2-.9 2-2V5c0-1.1-.9-2-2-2zM9 17H7v-7h2v7zm4 0h-2V7h2v10zm4 0h-2v-4h2v4z\"/>\n",
              "    </g>\n",
              "</svg>\n",
              "  </button>\n",
              "\n",
              "<style>\n",
              "  .colab-df-quickchart {\n",
              "      --bg-color: #E8F0FE;\n",
              "      --fill-color: #1967D2;\n",
              "      --hover-bg-color: #E2EBFA;\n",
              "      --hover-fill-color: #174EA6;\n",
              "      --disabled-fill-color: #AAA;\n",
              "      --disabled-bg-color: #DDD;\n",
              "  }\n",
              "\n",
              "  [theme=dark] .colab-df-quickchart {\n",
              "      --bg-color: #3B4455;\n",
              "      --fill-color: #D2E3FC;\n",
              "      --hover-bg-color: #434B5C;\n",
              "      --hover-fill-color: #FFFFFF;\n",
              "      --disabled-bg-color: #3B4455;\n",
              "      --disabled-fill-color: #666;\n",
              "  }\n",
              "\n",
              "  .colab-df-quickchart {\n",
              "    background-color: var(--bg-color);\n",
              "    border: none;\n",
              "    border-radius: 50%;\n",
              "    cursor: pointer;\n",
              "    display: none;\n",
              "    fill: var(--fill-color);\n",
              "    height: 32px;\n",
              "    padding: 0;\n",
              "    width: 32px;\n",
              "  }\n",
              "\n",
              "  .colab-df-quickchart:hover {\n",
              "    background-color: var(--hover-bg-color);\n",
              "    box-shadow: 0 1px 2px rgba(60, 64, 67, 0.3), 0 1px 3px 1px rgba(60, 64, 67, 0.15);\n",
              "    fill: var(--button-hover-fill-color);\n",
              "  }\n",
              "\n",
              "  .colab-df-quickchart-complete:disabled,\n",
              "  .colab-df-quickchart-complete:disabled:hover {\n",
              "    background-color: var(--disabled-bg-color);\n",
              "    fill: var(--disabled-fill-color);\n",
              "    box-shadow: none;\n",
              "  }\n",
              "\n",
              "  .colab-df-spinner {\n",
              "    border: 2px solid var(--fill-color);\n",
              "    border-color: transparent;\n",
              "    border-bottom-color: var(--fill-color);\n",
              "    animation:\n",
              "      spin 1s steps(1) infinite;\n",
              "  }\n",
              "\n",
              "  @keyframes spin {\n",
              "    0% {\n",
              "      border-color: transparent;\n",
              "      border-bottom-color: var(--fill-color);\n",
              "      border-left-color: var(--fill-color);\n",
              "    }\n",
              "    20% {\n",
              "      border-color: transparent;\n",
              "      border-left-color: var(--fill-color);\n",
              "      border-top-color: var(--fill-color);\n",
              "    }\n",
              "    30% {\n",
              "      border-color: transparent;\n",
              "      border-left-color: var(--fill-color);\n",
              "      border-top-color: var(--fill-color);\n",
              "      border-right-color: var(--fill-color);\n",
              "    }\n",
              "    40% {\n",
              "      border-color: transparent;\n",
              "      border-right-color: var(--fill-color);\n",
              "      border-top-color: var(--fill-color);\n",
              "    }\n",
              "    60% {\n",
              "      border-color: transparent;\n",
              "      border-right-color: var(--fill-color);\n",
              "    }\n",
              "    80% {\n",
              "      border-color: transparent;\n",
              "      border-right-color: var(--fill-color);\n",
              "      border-bottom-color: var(--fill-color);\n",
              "    }\n",
              "    90% {\n",
              "      border-color: transparent;\n",
              "      border-bottom-color: var(--fill-color);\n",
              "    }\n",
              "  }\n",
              "</style>\n",
              "\n",
              "  <script>\n",
              "    async function quickchart(key) {\n",
              "      const quickchartButtonEl =\n",
              "        document.querySelector('#' + key + ' button');\n",
              "      quickchartButtonEl.disabled = true;  // To prevent multiple clicks.\n",
              "      quickchartButtonEl.classList.add('colab-df-spinner');\n",
              "      try {\n",
              "        const charts = await google.colab.kernel.invokeFunction(\n",
              "            'suggestCharts', [key], {});\n",
              "      } catch (error) {\n",
              "        console.error('Error during call to suggestCharts:', error);\n",
              "      }\n",
              "      quickchartButtonEl.classList.remove('colab-df-spinner');\n",
              "      quickchartButtonEl.classList.add('colab-df-quickchart-complete');\n",
              "    }\n",
              "    (() => {\n",
              "      let quickchartButtonEl =\n",
              "        document.querySelector('#df-ae495179-ab6a-4bed-8b28-98bc35105405 button');\n",
              "      quickchartButtonEl.style.display =\n",
              "        google.colab.kernel.accessAllowed ? 'block' : 'none';\n",
              "    })();\n",
              "  </script>\n",
              "</div>\n",
              "    </div>\n",
              "  </div>\n"
            ]
          },
          "metadata": {},
          "execution_count": 105
        }
      ]
    },
    {
      "cell_type": "code",
      "source": [
        "f, ax = plt.subplots(figsize = (8,8))\n",
        "plt.title (\"Pearson Correlation\")\n",
        "sns.heatmap(df_oldNasabah1.astype(float).corr(), linewidths=0.25, vmax=1.0, square=True, cmap=\"YlGn\", linecolor='black', annot=True)"
      ],
      "metadata": {
        "colab": {
          "base_uri": "https://localhost:8080/",
          "height": 654
        },
        "id": "2wwxarMn2AEI",
        "outputId": "9a802ba9-7f90-44c3-b214-74f72194e6d7"
      },
      "execution_count": 106,
      "outputs": [
        {
          "output_type": "execute_result",
          "data": {
            "text/plain": [
              "<Axes: title={'center': 'Pearson Correlation'}>"
            ]
          },
          "metadata": {},
          "execution_count": 106
        },
        {
          "output_type": "display_data",
          "data": {
            "text/plain": [
              "<Figure size 800x800 with 2 Axes>"
            ],
            "image/png": "[encoded data removed]"
          },
          "metadata": {}
        }
      ]
    },
    {
      "cell_type": "code",
      "source": [
        "#menentukan input variabel\n",
        "x2=df_oldNasabah1[['age', 'ed', 'employ', 'address', 'income', 'debtinc', 'creddebt', 'othdebt', 'default']]\n",
        "\n",
        "#menentukan target variabel\n",
        "y2=df_oldNasabah1['default']"
      ],
      "metadata": {
        "id": "C6l7qKF62c4N"
      },
      "execution_count": 110,
      "outputs": []
    },
    {
      "cell_type": "code",
      "source": [
        "#rasio Kredit terhadap Utang = Total Kredit yang Tersedia / Total Utang\n",
        "\n",
        "#DTI = Total Utang / Pendapatan Bulanan\n",
        "\n",
        "hutang = 176 * 9.3 / 100\n",
        "kredit =(29.9 - 16.368) * hutang\n",
        "print('Jadi Total Nilai Kredit Yang Dapat Diberikan =', kredit)"
      ],
      "metadata": {
        "colab": {
          "base_uri": "https://localhost:8080/"
        },
        "id": "Kpp-saOe5jii",
        "outputId": "db6cd1f2-f95e-40a8-d1e1-bf0c6800c656"
      },
      "execution_count": 111,
      "outputs": [
        {
          "output_type": "stream",
          "name": "stdout",
          "text": [
            "Jadi Total Nilai Kredit Yang Dapat Diberikan = 221.49177600000002\n"
          ]
        }
      ]
    }
  ]
}