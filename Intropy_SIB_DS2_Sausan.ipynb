{
  "nbformat": 4,
  "nbformat_minor": 0,
  "metadata": {
    "colab": {
      "provenance": []
    },
    "kernelspec": {
      "name": "python3",
      "display_name": "Python 3"
    },
    "language_info": {
      "name": "python"
    }
  },
  "cells": [
    {
      "cell_type": "markdown",
      "source": [
        "Nama : Sausan<br>\n",
        "Grup : DS2"
      ],
      "metadata": {
        "id": "pLzHCe_qnzow"
      }
    },
    {
      "cell_type": "markdown",
      "source": [
        "Link: https://colab.research.google.com/drive/1EQn2U4tqLLaIZ3USDmXhZ4Z-1lK9IhPt?usp=sharing\n",
        "\n",
        "\n",
        "##Day 1\n",
        "\n",
        "Selasa, 26 September 2023"
      ],
      "metadata": {
        "id": "YxdhTaq6R0ho"
      }
    },
    {
      "cell_type": "markdown",
      "source": [
        "#Variabel dan Tipe Data dalam Python"
      ],
      "metadata": {
        "id": "7n0uFU8TLFDK"
      }
    },
    {
      "cell_type": "code",
      "execution_count": 1,
      "metadata": {
        "id": "_vB6zUbLPlOo"
      },
      "outputs": [],
      "source": [
        "a=3"
      ]
    },
    {
      "cell_type": "code",
      "source": [
        "a"
      ],
      "metadata": {
        "colab": {
          "base_uri": "https://localhost:8080/"
        },
        "id": "iM4capWsPsVK",
        "outputId": "32ae0409-1d16-4661-b7a6-82a211d6db25"
      },
      "execution_count": 2,
      "outputs": [
        {
          "output_type": "execute_result",
          "data": {
            "text/plain": [
              "3"
            ]
          },
          "metadata": {},
          "execution_count": 2
        }
      ]
    },
    {
      "cell_type": "code",
      "source": [
        "c=2"
      ],
      "metadata": {
        "id": "BXH_haqMPu6v"
      },
      "execution_count": 3,
      "outputs": []
    },
    {
      "cell_type": "code",
      "source": [
        "b=a+c\n",
        "b"
      ],
      "metadata": {
        "colab": {
          "base_uri": "https://localhost:8080/"
        },
        "id": "HPwxqqZKPy_2",
        "outputId": "5c9b11f5-a5c9-4e3d-a00d-c012f2f601ee"
      },
      "execution_count": 4,
      "outputs": [
        {
          "output_type": "execute_result",
          "data": {
            "text/plain": [
              "5"
            ]
          },
          "metadata": {},
          "execution_count": 4
        }
      ]
    },
    {
      "cell_type": "code",
      "source": [
        "print(c)"
      ],
      "metadata": {
        "colab": {
          "base_uri": "https://localhost:8080/"
        },
        "id": "etUHgayAP0L8",
        "outputId": "ecfbb7fe-78bd-4d22-b8fe-83bac7673353"
      },
      "execution_count": 5,
      "outputs": [
        {
          "output_type": "stream",
          "name": "stdout",
          "text": [
            "2\n"
          ]
        }
      ]
    },
    {
      "cell_type": "code",
      "source": [
        "c"
      ],
      "metadata": {
        "colab": {
          "base_uri": "https://localhost:8080/"
        },
        "id": "N4NxOsjKQINN",
        "outputId": "602da6f3-18f8-4d8a-8eff-a5d7ab73f16b"
      },
      "execution_count": 6,
      "outputs": [
        {
          "output_type": "execute_result",
          "data": {
            "text/plain": [
              "2"
            ]
          },
          "metadata": {},
          "execution_count": 6
        }
      ]
    },
    {
      "cell_type": "code",
      "source": [
        "buah='leci'"
      ],
      "metadata": {
        "id": "vR94TN4FQIqj"
      },
      "execution_count": 7,
      "outputs": []
    },
    {
      "cell_type": "code",
      "source": [
        "buah1='pepaya'"
      ],
      "metadata": {
        "id": "VvLwlqd3Rgfd"
      },
      "execution_count": 8,
      "outputs": []
    },
    {
      "cell_type": "code",
      "source": [
        "buah"
      ],
      "metadata": {
        "colab": {
          "base_uri": "https://localhost:8080/",
          "height": 36
        },
        "id": "Z1NCUnG1Rr8U",
        "outputId": "b47c854f-eaf2-424e-be21-e8865e2c43a0"
      },
      "execution_count": 9,
      "outputs": [
        {
          "output_type": "execute_result",
          "data": {
            "text/plain": [
              "'leci'"
            ],
            "application/vnd.google.colaboratory.intrinsic+json": {
              "type": "string"
            }
          },
          "metadata": {},
          "execution_count": 9
        }
      ]
    },
    {
      "cell_type": "code",
      "source": [
        "print(buah)"
      ],
      "metadata": {
        "colab": {
          "base_uri": "https://localhost:8080/"
        },
        "id": "ELyZ0tClRkro",
        "outputId": "78021d8d-2b61-4890-cadc-44662207ca54"
      },
      "execution_count": 10,
      "outputs": [
        {
          "output_type": "stream",
          "name": "stdout",
          "text": [
            "leci\n"
          ]
        }
      ]
    },
    {
      "cell_type": "markdown",
      "source": [
        "Print : mencetak variabel/manggil output. Cetakan layar jadi tidak bisa diproses lagi"
      ],
      "metadata": {
        "id": "ZdvZNAEMHiS-"
      }
    },
    {
      "cell_type": "markdown",
      "source": [
        "# Operasi Dasar pada Tipe Data"
      ],
      "metadata": {
        "id": "0krdVbwSLJlO"
      }
    },
    {
      "cell_type": "markdown",
      "source": [
        "##Contoh penggunaan / dan //"
      ],
      "metadata": {
        "id": "sJFPQErULLdx"
      }
    },
    {
      "cell_type": "code",
      "source": [
        "#pembagian sederhana\n",
        "x = 15\n",
        "y = 2\n",
        "print(x/y)"
      ],
      "metadata": {
        "colab": {
          "base_uri": "https://localhost:8080/"
        },
        "id": "HzgYZ9e9Ip6N",
        "outputId": "4a00e421-6fc6-4d82-cd34-5acab24c092a"
      },
      "execution_count": 11,
      "outputs": [
        {
          "output_type": "stream",
          "name": "stdout",
          "text": [
            "7.5\n"
          ]
        }
      ]
    },
    {
      "cell_type": "code",
      "source": [
        "#floor division, pembulatan ke bawah\n",
        "x = 15\n",
        "y = 2\n",
        "print(x//y)"
      ],
      "metadata": {
        "colab": {
          "base_uri": "https://localhost:8080/"
        },
        "id": "N0yDik20LZuS",
        "outputId": "fd6b6e13-ec9b-459f-869e-8c9fc87f8500"
      },
      "execution_count": 12,
      "outputs": [
        {
          "output_type": "stream",
          "name": "stdout",
          "text": [
            "7\n"
          ]
        }
      ]
    },
    {
      "cell_type": "code",
      "source": [
        "#floor division, pembulatan ke bawah\n",
        "x = 10\n",
        "x//=3\n",
        "print(x)"
      ],
      "metadata": {
        "colab": {
          "base_uri": "https://localhost:8080/"
        },
        "id": "MnQxmoK9Iltn",
        "outputId": "3eb29df3-cb50-429b-c062-573adc9d9254"
      },
      "execution_count": 13,
      "outputs": [
        {
          "output_type": "stream",
          "name": "stdout",
          "text": [
            "3\n"
          ]
        }
      ]
    },
    {
      "cell_type": "code",
      "source": [
        "#floor division, pembulatan ke bawah\n",
        "x = 9\n",
        "x//=3\n",
        "print(x)"
      ],
      "metadata": {
        "colab": {
          "base_uri": "https://localhost:8080/"
        },
        "id": "hionMXXTLgvu",
        "outputId": "b2afc568-28e6-47ad-f4ec-04c6a443a6c8"
      },
      "execution_count": 14,
      "outputs": [
        {
          "output_type": "stream",
          "name": "stdout",
          "text": [
            "3\n"
          ]
        }
      ]
    },
    {
      "cell_type": "markdown",
      "source": [
        "##Contoh penggunaan comparison"
      ],
      "metadata": {
        "id": "Xxbj4TFeLx6d"
      }
    },
    {
      "cell_type": "code",
      "source": [
        "x = 2\n",
        "y = 4\n",
        "\n",
        "print(x==y)\n",
        "print(x!=y)\n",
        "print(x>y)\n",
        "print(x<y)\n",
        "print(x>=y)\n",
        "print(x<=y)"
      ],
      "metadata": {
        "colab": {
          "base_uri": "https://localhost:8080/"
        },
        "id": "sY1vnA67Rsmc",
        "outputId": "f78b3b57-f71f-48ef-c30b-14d5cc4f0e4d"
      },
      "execution_count": 15,
      "outputs": [
        {
          "output_type": "stream",
          "name": "stdout",
          "text": [
            "False\n",
            "True\n",
            "False\n",
            "True\n",
            "False\n",
            "True\n"
          ]
        }
      ]
    },
    {
      "cell_type": "markdown",
      "source": [
        "##Contoh penggunaan and dan or"
      ],
      "metadata": {
        "id": "XVbNv-loeC2I"
      }
    },
    {
      "cell_type": "code",
      "source": [
        "x = 5\n",
        "print(not(x > 3 and x < 10))"
      ],
      "metadata": {
        "id": "zftP0L9vdz1J",
        "colab": {
          "base_uri": "https://localhost:8080/"
        },
        "outputId": "c9aaa80d-c071-4b8a-8871-cf7ff75e0050"
      },
      "execution_count": 16,
      "outputs": [
        {
          "output_type": "stream",
          "name": "stdout",
          "text": [
            "False\n"
          ]
        }
      ]
    },
    {
      "cell_type": "code",
      "source": [
        "x = 5\n",
        "print(x > 3 or x < 10)"
      ],
      "metadata": {
        "colab": {
          "base_uri": "https://localhost:8080/"
        },
        "id": "-kVESyMVd9NG",
        "outputId": "0e4f3c36-8812-4941-e453-0722073838b1"
      },
      "execution_count": 17,
      "outputs": [
        {
          "output_type": "stream",
          "name": "stdout",
          "text": [
            "True\n"
          ]
        }
      ]
    },
    {
      "cell_type": "markdown",
      "source": [
        "##Contoh penggunaan is"
      ],
      "metadata": {
        "id": "TGUxEaEwM3Z_"
      }
    },
    {
      "cell_type": "code",
      "source": [
        "x = [\"apple\", \"banana\"]\n",
        "y = [\"apple\", \"banana\"]\n",
        "z = x\n",
        "\n",
        "print(x is z)\n",
        "print(x is y)\n",
        "print(x==y)"
      ],
      "metadata": {
        "colab": {
          "base_uri": "https://localhost:8080/"
        },
        "id": "6iL9Uz16M9NV",
        "outputId": "84484ebb-8495-463b-ca26-7a3bc4779038"
      },
      "execution_count": 18,
      "outputs": [
        {
          "output_type": "stream",
          "name": "stdout",
          "text": [
            "True\n",
            "False\n",
            "True\n"
          ]
        }
      ]
    },
    {
      "cell_type": "markdown",
      "source": [
        "##Contoh penggunaan not in"
      ],
      "metadata": {
        "id": "3MD2o4JMM6uO"
      }
    },
    {
      "cell_type": "code",
      "source": [
        "x = [\"apple\", 'banana']\n",
        "print(\"pineapple\" not in x)"
      ],
      "metadata": {
        "colab": {
          "base_uri": "https://localhost:8080/"
        },
        "id": "vLPuRGUfNNTg",
        "outputId": "17b32e71-7e18-4388-f749-985dcb618608"
      },
      "execution_count": 19,
      "outputs": [
        {
          "output_type": "stream",
          "name": "stdout",
          "text": [
            "True\n"
          ]
        }
      ]
    },
    {
      "cell_type": "markdown",
      "source": [
        "##Contoh penggunaan & dan |"
      ],
      "metadata": {
        "id": "bLlB2N7xpsry"
      }
    },
    {
      "cell_type": "code",
      "source": [
        "#inner join\n",
        "set_1 = {\"apple\", \"banana\", \"cherry\", \"watermelon\"}\n",
        "set_2 = {\"mangoo\", \"banana\", \"orange\", \"apple\"}\n",
        "print(set_1 & set_2)"
      ],
      "metadata": {
        "colab": {
          "base_uri": "https://localhost:8080/"
        },
        "id": "eFDDay9UNT85",
        "outputId": "a753a78c-a69c-4cc6-9902-be34ef293eee"
      },
      "execution_count": 20,
      "outputs": [
        {
          "output_type": "stream",
          "name": "stdout",
          "text": [
            "{'banana', 'apple'}\n"
          ]
        }
      ]
    },
    {
      "cell_type": "code",
      "source": [
        "#left join\n",
        "a = {1, 2, 3, 4, 5}\n",
        "b = {2, 4, 5, 10, 1}\n",
        "a|b"
      ],
      "metadata": {
        "colab": {
          "base_uri": "https://localhost:8080/"
        },
        "id": "4I1WFBGxNoWZ",
        "outputId": "240867be-2e52-42c9-b41b-71c163b6ba14"
      },
      "execution_count": 21,
      "outputs": [
        {
          "output_type": "execute_result",
          "data": {
            "text/plain": [
              "{1, 2, 3, 4, 5, 10}"
            ]
          },
          "metadata": {},
          "execution_count": 21
        }
      ]
    },
    {
      "cell_type": "markdown",
      "source": [
        "#Data Struktur"
      ],
      "metadata": {
        "id": "zoIgdWiCOa7d"
      }
    },
    {
      "cell_type": "code",
      "source": [
        "#list\n",
        "thislist = [\"apple\", \"banana\", \"cherry\"]\n",
        "print(thislist[1])"
      ],
      "metadata": {
        "colab": {
          "base_uri": "https://localhost:8080/"
        },
        "id": "9eu5NofUObYQ",
        "outputId": "67fed9c2-2966-48da-c2a1-ce810ff9bb15"
      },
      "execution_count": 22,
      "outputs": [
        {
          "output_type": "stream",
          "name": "stdout",
          "text": [
            "banana\n"
          ]
        }
      ]
    },
    {
      "cell_type": "code",
      "source": [
        "#dictionary\n",
        "thisdict = {\n",
        "    \"brand\" : \"The Bodyshop\",\n",
        "    \"Kategory\" : \"Skin Care\",\n",
        "    \"Produk\" : \"Drop of Youth Essential Lotion\"\n",
        "}\n",
        "print(thisdict)"
      ],
      "metadata": {
        "colab": {
          "base_uri": "https://localhost:8080/"
        },
        "id": "0EvAcL1QO51l",
        "outputId": "6454cd17-9d7a-4640-eacf-ed71bbd33138"
      },
      "execution_count": 23,
      "outputs": [
        {
          "output_type": "stream",
          "name": "stdout",
          "text": [
            "{'brand': 'The Bodyshop', 'Kategory': 'Skin Care', 'Produk': 'Drop of Youth Essential Lotion'}\n"
          ]
        }
      ]
    },
    {
      "cell_type": "markdown",
      "source": [
        "#Datetime"
      ],
      "metadata": {
        "id": "VVO-fe6-RGAE"
      }
    },
    {
      "cell_type": "code",
      "source": [
        "#date\n",
        "import datetime\n",
        "\n",
        "x = datetime.datetime.now()\n",
        "print(x)"
      ],
      "metadata": {
        "colab": {
          "base_uri": "https://localhost:8080/"
        },
        "id": "vYHvYdTueB0C",
        "outputId": "a604540d-a120-4f37-d13c-9b526104a153"
      },
      "execution_count": 24,
      "outputs": [
        {
          "output_type": "stream",
          "name": "stdout",
          "text": [
            "2023-10-08 04:25:53.577738\n"
          ]
        }
      ]
    },
    {
      "cell_type": "code",
      "source": [
        "#date output\n",
        "import datetime\n",
        "\n",
        "x = datetime.datetime.now()\n",
        "print(x.year)\n",
        "print(x.strftime(\"%A\"))"
      ],
      "metadata": {
        "colab": {
          "base_uri": "https://localhost:8080/"
        },
        "id": "rk5Apnk5RD7X",
        "outputId": "da1a332e-c58e-4dd4-f01f-127ad2ed8d04"
      },
      "execution_count": 25,
      "outputs": [
        {
          "output_type": "stream",
          "name": "stdout",
          "text": [
            "2023\n",
            "Sunday\n"
          ]
        }
      ]
    },
    {
      "cell_type": "code",
      "source": [
        "#creating data object\n",
        "import datetime\n",
        "\n",
        "x = datetime.datetime(2020,5,17)\n",
        "print(x)"
      ],
      "metadata": {
        "colab": {
          "base_uri": "https://localhost:8080/"
        },
        "id": "WEmOioxMRVXC",
        "outputId": "3e9addf4-801b-4a0d-b640-e54e6134c98a"
      },
      "execution_count": 26,
      "outputs": [
        {
          "output_type": "stream",
          "name": "stdout",
          "text": [
            "2020-05-17 00:00:00\n"
          ]
        }
      ]
    },
    {
      "cell_type": "markdown",
      "source": [
        "##Day 2\n",
        "\n",
        "Rabu, 27 September 2023"
      ],
      "metadata": {
        "id": "td57QI7ySxpb"
      }
    },
    {
      "cell_type": "markdown",
      "source": [
        "#Library: Numpy"
      ],
      "metadata": {
        "id": "r5zrSqheT7Qw"
      }
    },
    {
      "cell_type": "code",
      "source": [
        "#import library numpy\n",
        "import numpy as np"
      ],
      "metadata": {
        "id": "PBeE8aDwTnIQ"
      },
      "execution_count": 27,
      "outputs": []
    },
    {
      "cell_type": "code",
      "source": [
        "#membuat array\n",
        "x = np.array(50)\n",
        "y = np.array('sausan synf')\n",
        "bilangan_genap = np.array({2, 4, 6, 8, 10})"
      ],
      "metadata": {
        "id": "_a68CqUuUA_Q"
      },
      "execution_count": 28,
      "outputs": []
    },
    {
      "cell_type": "code",
      "source": [
        "#cek array\n",
        "print(bilangan_genap)"
      ],
      "metadata": {
        "colab": {
          "base_uri": "https://localhost:8080/"
        },
        "id": "K1BWLRBwUQWC",
        "outputId": "a05d307a-bf7b-4d64-b3c9-04fc9ca3fb13"
      },
      "execution_count": 29,
      "outputs": [
        {
          "output_type": "stream",
          "name": "stdout",
          "text": [
            "{2, 4, 6, 8, 10}\n"
          ]
        }
      ]
    },
    {
      "cell_type": "code",
      "source": [
        "#perbedaan array dan list\n",
        "list_bilangan_genap = [2, 4, 6, 8, 10]\n",
        "print(list_bilangan_genap)\n",
        "print(list_bilangan_genap * 2)"
      ],
      "metadata": {
        "colab": {
          "base_uri": "https://localhost:8080/"
        },
        "id": "ZQXAFH7XUTQW",
        "outputId": "3fa17a0e-00a1-4380-e306-3baba492bc02"
      },
      "execution_count": 30,
      "outputs": [
        {
          "output_type": "stream",
          "name": "stdout",
          "text": [
            "[2, 4, 6, 8, 10]\n",
            "[2, 4, 6, 8, 10, 2, 4, 6, 8, 10]\n"
          ]
        }
      ]
    },
    {
      "cell_type": "code",
      "source": [
        "#operasi pada array\n",
        "nilai_mahasiswa = np.array([90,85, 77, 50, 35, 75, 80, 100])\n",
        "list_nilai_mahasiswa = [90, 85, 77, 50, 35, 75, 80, 100]"
      ],
      "metadata": {
        "id": "cgCBv4PoUZT3"
      },
      "execution_count": 31,
      "outputs": []
    },
    {
      "cell_type": "code",
      "source": [
        "#mencari jumlah nilai\n",
        "print(sum(list_nilai_mahasiswa))\n",
        "print(np.sum(nilai_mahasiswa))"
      ],
      "metadata": {
        "colab": {
          "base_uri": "https://localhost:8080/"
        },
        "id": "XMr-QeAAVGYr",
        "outputId": "a384c945-d48e-4f30-ee92-c1e47111004a"
      },
      "execution_count": 32,
      "outputs": [
        {
          "output_type": "stream",
          "name": "stdout",
          "text": [
            "592\n",
            "592\n"
          ]
        }
      ]
    },
    {
      "cell_type": "code",
      "source": [
        "#mencari nilai terkecil\n",
        "print(min(list_nilai_mahasiswa))\n",
        "print(np.min(nilai_mahasiswa))"
      ],
      "metadata": {
        "colab": {
          "base_uri": "https://localhost:8080/"
        },
        "id": "wo6a-6fiVM7s",
        "outputId": "d9b8be07-1928-4f96-91bf-c172f374fdec"
      },
      "execution_count": 33,
      "outputs": [
        {
          "output_type": "stream",
          "name": "stdout",
          "text": [
            "35\n",
            "35\n"
          ]
        }
      ]
    },
    {
      "cell_type": "code",
      "source": [
        "#mencari nilai mean (rata2)\n",
        "#print(mean(list_nilai_mahasiswa)) #error\n",
        "print(np.mean(nilai_mahasiswa))\n",
        "sum(list_nilai_mahasiswa)/len(list_nilai_mahasiswa)"
      ],
      "metadata": {
        "colab": {
          "base_uri": "https://localhost:8080/"
        },
        "id": "Xs0M66k2VXJw",
        "outputId": "ce674877-5f0e-4c03-af1a-a8856da99a6a"
      },
      "execution_count": 34,
      "outputs": [
        {
          "output_type": "stream",
          "name": "stdout",
          "text": [
            "74.0\n"
          ]
        },
        {
          "output_type": "execute_result",
          "data": {
            "text/plain": [
              "74.0"
            ]
          },
          "metadata": {},
          "execution_count": 34
        }
      ]
    },
    {
      "cell_type": "code",
      "source": [
        "nilai_mahasiswa.reshape(8, 1)"
      ],
      "metadata": {
        "colab": {
          "base_uri": "https://localhost:8080/"
        },
        "id": "JPBJpT7HVl5E",
        "outputId": "60ce734f-17f0-4bdc-fe16-696f4980b8aa"
      },
      "execution_count": 35,
      "outputs": [
        {
          "output_type": "execute_result",
          "data": {
            "text/plain": [
              "array([[ 90],\n",
              "       [ 85],\n",
              "       [ 77],\n",
              "       [ 50],\n",
              "       [ 35],\n",
              "       [ 75],\n",
              "       [ 80],\n",
              "       [100]])"
            ]
          },
          "metadata": {},
          "execution_count": 35
        }
      ]
    },
    {
      "cell_type": "markdown",
      "source": [
        "#Conditional Statement"
      ],
      "metadata": {
        "id": "LFvRSrs6XG9H"
      }
    },
    {
      "cell_type": "code",
      "source": [
        "#1 kondisi\n",
        "current_status = 'on-delivery'\n",
        "delivered = True\n",
        "\n",
        "if delivered == True:\n",
        "  current_status = 'delivered'\n",
        "\n",
        "print(current_status)"
      ],
      "metadata": {
        "colab": {
          "base_uri": "https://localhost:8080/"
        },
        "id": "rRIyJNyMWl1d",
        "outputId": "a369a483-4d99-4562-a3c9-f4b52b63dbed"
      },
      "execution_count": 36,
      "outputs": [
        {
          "output_type": "stream",
          "name": "stdout",
          "text": [
            "delivered\n"
          ]
        }
      ]
    },
    {
      "cell_type": "code",
      "source": [
        "#2 kondisi\n",
        "x = 10\n",
        "\n",
        "if x > 5:\n",
        "  print('x greater than 5')\n",
        "else:\n",
        "  print('x is not greater than 5')"
      ],
      "metadata": {
        "colab": {
          "base_uri": "https://localhost:8080/"
        },
        "id": "rZaNeGbwXRSv",
        "outputId": "187538b4-f792-47c6-d875-8abd2f24ef4b"
      },
      "execution_count": 37,
      "outputs": [
        {
          "output_type": "stream",
          "name": "stdout",
          "text": [
            "x greater than 5\n"
          ]
        }
      ]
    },
    {
      "cell_type": "code",
      "source": [
        "#3 kondisi\n",
        "x = 10\n",
        "\n",
        "if x > 10:\n",
        "  print('x greater than 10')\n",
        "elif x == 10:\n",
        "  print('x is equal to 10')\n",
        "else:\n",
        "  print('x is less than 10')"
      ],
      "metadata": {
        "colab": {
          "base_uri": "https://localhost:8080/"
        },
        "id": "yp_kmp5gX12a",
        "outputId": "7fed896f-d421-442a-dc4b-0e4481252339"
      },
      "execution_count": 38,
      "outputs": [
        {
          "output_type": "stream",
          "name": "stdout",
          "text": [
            "x is equal to 10\n"
          ]
        }
      ]
    },
    {
      "cell_type": "code",
      "source": [
        "#3 kondisi\n",
        "x = int(input('Masukkan Nilai:'))\n",
        "\n",
        "if x > 10:\n",
        "  print('x greater than 10')\n",
        "elif x == 10:\n",
        "  print('x is equal to 10')\n",
        "else:\n",
        "  print('x is less than 10')"
      ],
      "metadata": {
        "colab": {
          "base_uri": "https://localhost:8080/"
        },
        "id": "zoyOAZf7YdQH",
        "outputId": "0f4aa46d-3654-4a9f-fde6-ef55dfa73105"
      },
      "execution_count": 39,
      "outputs": [
        {
          "output_type": "stream",
          "name": "stdout",
          "text": [
            "Masukkan Nilai:100\n",
            "x greater than 10\n"
          ]
        }
      ]
    },
    {
      "cell_type": "code",
      "source": [
        "#multiple condition statements\n",
        "#account di sebuah e-commerce\n",
        "\n",
        "account_balance = 50000\n",
        "number_of_transactions = 150\n",
        "\n",
        "#menentukan tipe dari costumer\n",
        "if account_balance >= 10000 and number_of_transactions >= 200:\n",
        "  user_type = 'premium'\n",
        "elif account_balance >= 500 and number_of_transactions >= 100:\n",
        "  user_type = 'standard'\n",
        "else:\n",
        "  user_type = 'basic'\n",
        "\n",
        "print(f'account balance: {account_balance}')\n",
        "print(f'number of transactions: {number_of_transactions}')\n",
        "print(f'user type: {user_type}')"
      ],
      "metadata": {
        "colab": {
          "base_uri": "https://localhost:8080/"
        },
        "id": "EnyXJZqOYm1J",
        "outputId": "d2574347-0f48-4038-b1e6-88dbc2429408"
      },
      "execution_count": 40,
      "outputs": [
        {
          "output_type": "stream",
          "name": "stdout",
          "text": [
            "account balance: 50000\n",
            "number of transactions: 150\n",
            "user type: standard\n"
          ]
        }
      ]
    },
    {
      "cell_type": "code",
      "source": [
        "#nested if\n",
        "#rekomendasi layanan streaming\n",
        "\n",
        "prefered_genre = 'anime'\n",
        "watch_ads = True\n",
        "\n",
        "if prefered_genre == 'action':\n",
        "  if watch_ads:\n",
        "    streaming_service = 'service a (with ads)'\n",
        "  else:\n",
        "    streaming_service = 'service b'\n",
        "elif prefered_genre == 'anime':\n",
        "  if watch_ads:\n",
        "    streaming_service = 'service c (with ads)'\n",
        "  else:\n",
        "    streaming_service = 'service d'\n",
        "else:\n",
        "  streaming_service = 'service e'\n",
        "\n",
        "print(f'streaming service: {streaming_service}')"
      ],
      "metadata": {
        "colab": {
          "base_uri": "https://localhost:8080/"
        },
        "id": "sPv3uSzcasCS",
        "outputId": "ae3a63de-f441-4ef2-9bfd-28bb13e28f71"
      },
      "execution_count": 41,
      "outputs": [
        {
          "output_type": "stream",
          "name": "stdout",
          "text": [
            "streaming service: service c (with ads)\n"
          ]
        }
      ]
    },
    {
      "cell_type": "markdown",
      "source": [
        "#Iteration"
      ],
      "metadata": {
        "id": "xxLOe0Eac4dp"
      }
    },
    {
      "cell_type": "markdown",
      "source": [
        "##For Loop"
      ],
      "metadata": {
        "id": "GNbkoayEdITL"
      }
    },
    {
      "cell_type": "code",
      "source": [
        "list_angka = [1, 2, 3, 4, 5]\n",
        "\n",
        "for i in list_angka:\n",
        "  print(i)"
      ],
      "metadata": {
        "colab": {
          "base_uri": "https://localhost:8080/"
        },
        "id": "pcfAa-8tbmQU",
        "outputId": "24a8df1a-9ef5-4cae-f571-b1beb7d78867"
      },
      "execution_count": 42,
      "outputs": [
        {
          "output_type": "stream",
          "name": "stdout",
          "text": [
            "1\n",
            "2\n",
            "3\n",
            "4\n",
            "5\n"
          ]
        }
      ]
    },
    {
      "cell_type": "code",
      "source": [
        "list_angka = [1, 2, 3, 4, 5]\n",
        "\n",
        "for i in list_angka:\n",
        "  print(f'kuadrat dari (i) adalah {i**2}')"
      ],
      "metadata": {
        "colab": {
          "base_uri": "https://localhost:8080/"
        },
        "id": "1tkCTV_XdMCx",
        "outputId": "84e157ea-6e84-4f52-c952-bb8ef327020e"
      },
      "execution_count": 43,
      "outputs": [
        {
          "output_type": "stream",
          "name": "stdout",
          "text": [
            "kuadrat dari (i) adalah 1\n",
            "kuadrat dari (i) adalah 4\n",
            "kuadrat dari (i) adalah 9\n",
            "kuadrat dari (i) adalah 16\n",
            "kuadrat dari (i) adalah 25\n"
          ]
        }
      ]
    },
    {
      "cell_type": "code",
      "source": [
        "#range\n",
        "\n",
        "for i in range(6):\n",
        "  print(i)"
      ],
      "metadata": {
        "colab": {
          "base_uri": "https://localhost:8080/"
        },
        "id": "AsT0q9-UdbS-",
        "outputId": "698872fb-e13f-4478-f4d6-aa2fd0006a08"
      },
      "execution_count": 44,
      "outputs": [
        {
          "output_type": "stream",
          "name": "stdout",
          "text": [
            "0\n",
            "1\n",
            "2\n",
            "3\n",
            "4\n",
            "5\n"
          ]
        }
      ]
    },
    {
      "cell_type": "code",
      "source": [
        "#range\n",
        "\n",
        "for i in range(2, 10):\n",
        "  print(i)"
      ],
      "metadata": {
        "colab": {
          "base_uri": "https://localhost:8080/"
        },
        "id": "olwLQwKjdhLX",
        "outputId": "46e894c1-29f7-446a-fda3-64b66f34c4cb"
      },
      "execution_count": 45,
      "outputs": [
        {
          "output_type": "stream",
          "name": "stdout",
          "text": [
            "2\n",
            "3\n",
            "4\n",
            "5\n",
            "6\n",
            "7\n",
            "8\n",
            "9\n"
          ]
        }
      ]
    },
    {
      "cell_type": "markdown",
      "source": [
        "Challenge!\n",
        "\n",
        "Ada interview, dipilih beberapa user_id untuk di interview. <br>\n",
        "Kriterianya:\n",
        "- Ada 50 user_id dari 101-150\n",
        "- User_id adalah bilangan kelipatan 5 yang habis dibagi 2\n",
        "- Cantumkan user_id mereka (masukkan ke dalam list"
      ],
      "metadata": {
        "id": "4pSBXOIEd9yo"
      }
    },
    {
      "cell_type": "code",
      "source": [
        "#inisiasi list untuk menyimpan user_id yang memenuhi kriteria\n",
        "user_id_interview = []\n",
        "\n",
        "#iterasi dari 101 hingga 150\n",
        "for user_id in range(101, 151):\n",
        "  #memeriksa apakah user_id adalah bilangan kelipatan 5 yang habis dibagi 2\n",
        "  if user_id % 5 == 0 and user_id % 2 == 0:\n",
        "    user_id_interview.append(user_id)\n",
        "\n",
        "#menampilkan user_id yang memenuhi kriteria\n",
        "print(\"User_ID yang memenuhi kriteria:\")\n",
        "print(user_id_interview)"
      ],
      "metadata": {
        "colab": {
          "base_uri": "https://localhost:8080/"
        },
        "id": "-Q1WEYg7dkez",
        "outputId": "7d9dd2cd-7152-41fa-e01f-2205986ec095"
      },
      "execution_count": 46,
      "outputs": [
        {
          "output_type": "stream",
          "name": "stdout",
          "text": [
            "User_ID yang memenuhi kriteria:\n",
            "[110, 120, 130, 140, 150]\n"
          ]
        }
      ]
    },
    {
      "cell_type": "markdown",
      "source": [
        "##While Loop"
      ],
      "metadata": {
        "id": "Fd1O_s-7fZaU"
      }
    },
    {
      "cell_type": "code",
      "source": [
        "# i = 0 #inisiasi nilai awal\n",
        "\n",
        "#while i < 10:\n",
        "#  print(i)"
      ],
      "metadata": {
        "id": "-FS_AZnVfF6M"
      },
      "execution_count": 47,
      "outputs": []
    },
    {
      "cell_type": "code",
      "source": [
        "i = 0 #inisiasi nilai awal\n",
        "\n",
        "while i <= 10:\n",
        "  print(i)\n",
        "  i += 1"
      ],
      "metadata": {
        "colab": {
          "base_uri": "https://localhost:8080/"
        },
        "id": "uMnLtbfKfmhS",
        "outputId": "4ec97dd1-66e2-486c-df56-09210a539ba9"
      },
      "execution_count": 48,
      "outputs": [
        {
          "output_type": "stream",
          "name": "stdout",
          "text": [
            "0\n",
            "1\n",
            "2\n",
            "3\n",
            "4\n",
            "5\n",
            "6\n",
            "7\n",
            "8\n",
            "9\n",
            "10\n"
          ]
        }
      ]
    },
    {
      "cell_type": "code",
      "source": [
        "list_number = range(6)\n",
        "i = 0\n",
        "\n",
        "while i < len(list_number):\n",
        "  print(i)\n",
        "  i += 1"
      ],
      "metadata": {
        "colab": {
          "base_uri": "https://localhost:8080/"
        },
        "id": "iDUbMIegfqPd",
        "outputId": "6ad51f50-2c6d-4ff1-c4af-1ed41abd186b"
      },
      "execution_count": 49,
      "outputs": [
        {
          "output_type": "stream",
          "name": "stdout",
          "text": [
            "0\n",
            "1\n",
            "2\n",
            "3\n",
            "4\n",
            "5\n"
          ]
        }
      ]
    },
    {
      "cell_type": "code",
      "source": [
        "#break\n",
        "i = 1\n",
        "while i < 6:\n",
        "  print(i)\n",
        "  if i == 4:\n",
        "    break\n",
        "  i += 1"
      ],
      "metadata": {
        "colab": {
          "base_uri": "https://localhost:8080/"
        },
        "id": "1nG563vxgDMA",
        "outputId": "68a6b076-e593-4709-b452-39130ef5d2d2"
      },
      "execution_count": 50,
      "outputs": [
        {
          "output_type": "stream",
          "name": "stdout",
          "text": [
            "1\n",
            "2\n",
            "3\n",
            "4\n"
          ]
        }
      ]
    }
  ]
}